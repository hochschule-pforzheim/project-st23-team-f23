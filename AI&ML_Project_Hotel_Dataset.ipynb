{
  "nbformat": 4,
  "nbformat_minor": 0,
  "metadata": {
    "colab": {
      "provenance": [],
      "toc_visible": true,
      "include_colab_link": true
    },
    "kernelspec": {
      "name": "python3",
      "display_name": "Python 3"
    },
    "language_info": {
      "name": "python"
    }
  },
  "cells": [
    {
      "cell_type": "markdown",
      "metadata": {
        "id": "view-in-github",
        "colab_type": "text"
      },
      "source": [
        "<a href=\"https://colab.research.google.com/github/hochschule-pforzheim/project-st23-team-f23/blob/main/AI%26ML_Project_Hotel_Dataset.ipynb\" target=\"_parent\"><img src=\"https://colab.research.google.com/assets/colab-badge.svg\" alt=\"Open In Colab\"/></a>"
      ]
    },
    {
      "cell_type": "markdown",
      "source": [
        "# Variablen Definition"
      ],
      "metadata": {
        "id": "sebRxu7uFGu5"
      }
    },
    {
      "cell_type": "markdown",
      "source": [
        "hotel: H1 = Resort Hotel or H2 = City Hotel"
      ],
      "metadata": {
        "id": "rnNnMGZxHUp5"
      }
    },
    {
      "cell_type": "markdown",
      "source": [
        "is_canceled: storniert = 1, nicht storniert = 0"
      ],
      "metadata": {
        "id": "jpVfZnLTHYV7"
      }
    },
    {
      "cell_type": "markdown",
      "source": [
        "lead time: Anzahl Tage zwischen Eingabe Buchung im PMS (property management system) und Anreise"
      ],
      "metadata": {
        "id": "_4AGc6N-Hdr-"
      }
    },
    {
      "cell_type": "markdown",
      "source": [
        "arrival_date_year: Jahr der Anreise"
      ],
      "metadata": {
        "id": "_jb2PB-BHggP"
      }
    },
    {
      "cell_type": "markdown",
      "source": [
        "arrival_date_month: Monat der Anreise"
      ],
      "metadata": {
        "id": "eWOgrWxIHmP1"
      }
    },
    {
      "cell_type": "markdown",
      "source": [
        "arrival_date_day: Tag der Anreise "
      ],
      "metadata": {
        "id": "zm7cgjAbHoke"
      }
    },
    {
      "cell_type": "markdown",
      "source": [
        "stays_in_weekend_nights: Anzahl der gebuchten Übernachtungen am WE (Samstag, Sonntag)"
      ],
      "metadata": {
        "id": "MW4PTEdIHsFv"
      }
    },
    {
      "cell_type": "markdown",
      "source": [
        "stays_in_week_nights: Anzahl der gebuchten Übernachtungen in der Woche (Montag bis Freitag)"
      ],
      "metadata": {
        "id": "zbnrV7xzHwXD"
      }
    },
    {
      "cell_type": "markdown",
      "source": [
        "adults; babies; children: Anzahl der gebuchten Erwachsenen; Kleinkindern; Kindern"
      ],
      "metadata": {
        "id": "7ez95OyRHxPD"
      }
    },
    {
      "cell_type": "markdown",
      "source": [
        "meal: Art der gebuchten Mahlzeit -> BB= Bed & Breakfast; HB = Half board (Frühstück und eine andere Mahlzeit); FB = Full board (Frühstück, Mittag und Abendessen  "
      ],
      "metadata": {
        "id": "Z1SltS_nICD_"
      }
    },
    {
      "cell_type": "markdown",
      "source": [
        "country: Herkunftsland des Buchenden nach [ISO 3155–3:2013 Format ](https://www.iso.org/obp/ui/#search/code/)"
      ],
      "metadata": {
        "id": "BpwtkIa-ImIC"
      }
    },
    {
      "cell_type": "markdown",
      "source": [
        "market_segment: Marktsegemnt Bezeichnung -> TA = Travel Agent; TO = Tour Operators"
      ],
      "metadata": {
        "id": "eq85Rw2bKeWd"
      }
    },
    {
      "cell_type": "markdown",
      "source": [
        "distribution_channel: Distributionskanal der Buchung -> TA = Travel Agent; TO = Tour Operators"
      ],
      "metadata": {
        "id": "8EWMpSe0K0LB"
      }
    },
    {
      "cell_type": "markdown",
      "source": [
        "is_repeated_guest: Wert welcher anzeigt ob der Name des Gasts bereits bei einer vorherigen Buchung auftaucht -> 1 = Widerholung; 0 = Erstbuchung"
      ],
      "metadata": {
        "id": "Goxb54chLAdf"
      }
    },
    {
      "cell_type": "markdown",
      "source": [
        "previous_cancellations: Anzahl der vergangnen Buchungen, welche storniert wurden "
      ],
      "metadata": {
        "id": "H5eNmVaVMDsJ"
      }
    },
    {
      "cell_type": "markdown",
      "source": [
        "previous_bookings_not_canceled: Anzahl der Buchungen eines Kunden, welche nicht storniert wurden "
      ],
      "metadata": {
        "id": "r14-ILXzLrf9"
      }
    },
    {
      "cell_type": "markdown",
      "source": [
        "reserved_room_type: Code für das reservierte Zimmer. Der Code ist hier aus Anonymitätsgründen gewählt"
      ],
      "metadata": {
        "id": "HuwyKeECMA9C"
      }
    },
    {
      "cell_type": "markdown",
      "source": [
        "assigned_room_type: Code für das Zimmer, welches bei der Buchung zugewiesen wurde"
      ],
      "metadata": {
        "id": "x5Zwk3wlMlTD"
      }
    },
    {
      "cell_type": "markdown",
      "source": [
        "booking_changes: Anzahl der Buchungen, welche zwischen Eintrag ins PMS und check-in Zeitpunkt (oder Stornierung) geändert wurden "
      ],
      "metadata": {
        "id": "vdEVUP_SM0uX"
      }
    },
    {
      "cell_type": "markdown",
      "source": [
        "deposit_types: Angabe ob der Kunde eine Kaution hinterlegt hat -> No Deposit; Non Refund = es wurde eine Kaution hinterlegt, welche die gesamten Kosten des Aufenthaltes decken; Refundable = eine Kaution wurde hinterlegt, welche nicht die gesamten Kosten des Aufenthaltes abdeckt "
      ],
      "metadata": {
        "id": "zYp0GDnDNtGR"
      }
    },
    {
      "cell_type": "markdown",
      "source": [
        "agent: ID der Reiseagentur worüber die Buchung vorgenommen wurde "
      ],
      "metadata": {
        "id": "FBTLP8fKOb8J"
      }
    },
    {
      "cell_type": "markdown",
      "source": [
        "company: ID des Unternehmens, welches verantwortlich für die Buchung ist "
      ],
      "metadata": {
        "id": "ZVnuB8C-Oj5Z"
      }
    },
    {
      "cell_type": "markdown",
      "source": [
        "days_in_waiting_list: Anzahl der Tage bis die Buchung bestätigt wurde "
      ],
      "metadata": {
        "id": "PrpPLr9jOvIN"
      }
    },
    {
      "cell_type": "markdown",
      "source": [
        "customer_type: Typ der Buchung -> Contract = die Buchung hat einen Vertrag damit verbunden; Group = die Buchung kann einer Gruppe zugeordnet werden; Transient = die Buchung ist keiner Gruppe oder Vertrag zugeordnet und auch nicht zu anderen kurzzeitigen Buchungen; Transient-party = die Buchung ist kurzfristig, aber einer anderen kurzzeitigen Buchung zuzuordnen "
      ],
      "metadata": {
        "id": "zZsATZVgO6Ir"
      }
    },
    {
      "cell_type": "markdown",
      "source": [
        "adr: Average Daily Rate -> Summe aller Beherbergungsgeschäfte geteilt durch die totale Anzahl an Übernachtungen "
      ],
      "metadata": {
        "id": "3o5ZbttOP3sl"
      }
    },
    {
      "cell_type": "markdown",
      "source": [
        "required_car_parking_spaces: Anzahl der benötigten Parkplätze von einem Kunden "
      ],
      "metadata": {
        "id": "BBTuGuCPQRyP"
      }
    },
    {
      "cell_type": "markdown",
      "source": [
        "total_of_special_requests: Anzahl der besonderen Wünsche durch einen Kunden (bsp. Doppelbett)"
      ],
      "metadata": {
        "id": "Hzf-zBcfQelP"
      }
    },
    {
      "cell_type": "markdown",
      "source": [
        "reservation_status: letzter Reservierungsstatus -> canceled = Buchung wurde von Kunden storniert; Check-out = Kunde ist eingecheckt, aber bereits wieder abgereist; No-Show = Kunde ist nicht eingecheckt und hat das Hotel nicht informiert "
      ],
      "metadata": {
        "id": "mFS2VGLtQpvL"
      }
    },
    {
      "cell_type": "markdown",
      "source": [
        "reservation_status_date: Datum an dem der letzte Status gesetzt wurde. Variable kann in Verbindung mit dem reservation status genutz werden, um zu verstehen wann die Buchung storniert wurde oder wann ein Kunde ausgecheckt hat"
      ],
      "metadata": {
        "id": "9VXgJn_6RMkM"
      }
    },
    {
      "cell_type": "code",
      "execution_count": null,
      "metadata": {
        "id": "vowDedmQ4AT0"
      },
      "outputs": [],
      "source": [
        "import pandas as pd"
      ]
    },
    {
      "cell_type": "code",
      "source": [
        "hotel_orig = pd.read_csv('https://raw.githubusercontent.com/rfordatascience/tidytuesday/master/data/2020/2020-02-11/hotels.csv', parse_dates=['reservation_status_date'])"
      ],
      "metadata": {
        "id": "yafhnVkt5MbF"
      },
      "execution_count": null,
      "outputs": []
    },
    {
      "cell_type": "code",
      "source": [
        "hotel_orig"
      ],
      "metadata": {
        "colab": {
          "base_uri": "https://localhost:8080/",
          "height": 661
        },
        "id": "cOQTUWNg5kPe",
        "outputId": "1fff944d-8a20-4577-d104-e8faab32d3a6"
      },
      "execution_count": null,
      "outputs": [
        {
          "output_type": "execute_result",
          "data": {
            "text/plain": [
              "               hotel  is_canceled  lead_time  arrival_date_year  \\\n",
              "0       Resort Hotel            0        342               2015   \n",
              "1       Resort Hotel            0        737               2015   \n",
              "2       Resort Hotel            0          7               2015   \n",
              "3       Resort Hotel            0         13               2015   \n",
              "4       Resort Hotel            0         14               2015   \n",
              "...              ...          ...        ...                ...   \n",
              "119385    City Hotel            0         23               2017   \n",
              "119386    City Hotel            0        102               2017   \n",
              "119387    City Hotel            0         34               2017   \n",
              "119388    City Hotel            0        109               2017   \n",
              "119389    City Hotel            0        205               2017   \n",
              "\n",
              "       arrival_date_month  arrival_date_week_number  \\\n",
              "0                    July                        27   \n",
              "1                    July                        27   \n",
              "2                    July                        27   \n",
              "3                    July                        27   \n",
              "4                    July                        27   \n",
              "...                   ...                       ...   \n",
              "119385             August                        35   \n",
              "119386             August                        35   \n",
              "119387             August                        35   \n",
              "119388             August                        35   \n",
              "119389             August                        35   \n",
              "\n",
              "        arrival_date_day_of_month  stays_in_weekend_nights  \\\n",
              "0                               1                        0   \n",
              "1                               1                        0   \n",
              "2                               1                        0   \n",
              "3                               1                        0   \n",
              "4                               1                        0   \n",
              "...                           ...                      ...   \n",
              "119385                         30                        2   \n",
              "119386                         31                        2   \n",
              "119387                         31                        2   \n",
              "119388                         31                        2   \n",
              "119389                         29                        2   \n",
              "\n",
              "        stays_in_week_nights  adults  ...  deposit_type  agent company  \\\n",
              "0                          0       2  ...    No Deposit    NaN     NaN   \n",
              "1                          0       2  ...    No Deposit    NaN     NaN   \n",
              "2                          1       1  ...    No Deposit    NaN     NaN   \n",
              "3                          1       1  ...    No Deposit  304.0     NaN   \n",
              "4                          2       2  ...    No Deposit  240.0     NaN   \n",
              "...                      ...     ...  ...           ...    ...     ...   \n",
              "119385                     5       2  ...    No Deposit  394.0     NaN   \n",
              "119386                     5       3  ...    No Deposit    9.0     NaN   \n",
              "119387                     5       2  ...    No Deposit    9.0     NaN   \n",
              "119388                     5       2  ...    No Deposit   89.0     NaN   \n",
              "119389                     7       2  ...    No Deposit    9.0     NaN   \n",
              "\n",
              "       days_in_waiting_list customer_type     adr  \\\n",
              "0                         0     Transient    0.00   \n",
              "1                         0     Transient    0.00   \n",
              "2                         0     Transient   75.00   \n",
              "3                         0     Transient   75.00   \n",
              "4                         0     Transient   98.00   \n",
              "...                     ...           ...     ...   \n",
              "119385                    0     Transient   96.14   \n",
              "119386                    0     Transient  225.43   \n",
              "119387                    0     Transient  157.71   \n",
              "119388                    0     Transient  104.40   \n",
              "119389                    0     Transient  151.20   \n",
              "\n",
              "        required_car_parking_spaces  total_of_special_requests  \\\n",
              "0                                 0                          0   \n",
              "1                                 0                          0   \n",
              "2                                 0                          0   \n",
              "3                                 0                          0   \n",
              "4                                 0                          1   \n",
              "...                             ...                        ...   \n",
              "119385                            0                          0   \n",
              "119386                            0                          2   \n",
              "119387                            0                          4   \n",
              "119388                            0                          0   \n",
              "119389                            0                          2   \n",
              "\n",
              "        reservation_status reservation_status_date  \n",
              "0                Check-Out              2015-07-01  \n",
              "1                Check-Out              2015-07-01  \n",
              "2                Check-Out              2015-07-02  \n",
              "3                Check-Out              2015-07-02  \n",
              "4                Check-Out              2015-07-03  \n",
              "...                    ...                     ...  \n",
              "119385           Check-Out              2017-09-06  \n",
              "119386           Check-Out              2017-09-07  \n",
              "119387           Check-Out              2017-09-07  \n",
              "119388           Check-Out              2017-09-07  \n",
              "119389           Check-Out              2017-09-07  \n",
              "\n",
              "[119390 rows x 32 columns]"
            ],
            "text/html": [
              "\n",
              "  <div id=\"df-51a32dc3-1db0-4704-8880-a659497b002f\">\n",
              "    <div class=\"colab-df-container\">\n",
              "      <div>\n",
              "<style scoped>\n",
              "    .dataframe tbody tr th:only-of-type {\n",
              "        vertical-align: middle;\n",
              "    }\n",
              "\n",
              "    .dataframe tbody tr th {\n",
              "        vertical-align: top;\n",
              "    }\n",
              "\n",
              "    .dataframe thead th {\n",
              "        text-align: right;\n",
              "    }\n",
              "</style>\n",
              "<table border=\"1\" class=\"dataframe\">\n",
              "  <thead>\n",
              "    <tr style=\"text-align: right;\">\n",
              "      <th></th>\n",
              "      <th>hotel</th>\n",
              "      <th>is_canceled</th>\n",
              "      <th>lead_time</th>\n",
              "      <th>arrival_date_year</th>\n",
              "      <th>arrival_date_month</th>\n",
              "      <th>arrival_date_week_number</th>\n",
              "      <th>arrival_date_day_of_month</th>\n",
              "      <th>stays_in_weekend_nights</th>\n",
              "      <th>stays_in_week_nights</th>\n",
              "      <th>adults</th>\n",
              "      <th>...</th>\n",
              "      <th>deposit_type</th>\n",
              "      <th>agent</th>\n",
              "      <th>company</th>\n",
              "      <th>days_in_waiting_list</th>\n",
              "      <th>customer_type</th>\n",
              "      <th>adr</th>\n",
              "      <th>required_car_parking_spaces</th>\n",
              "      <th>total_of_special_requests</th>\n",
              "      <th>reservation_status</th>\n",
              "      <th>reservation_status_date</th>\n",
              "    </tr>\n",
              "  </thead>\n",
              "  <tbody>\n",
              "    <tr>\n",
              "      <th>0</th>\n",
              "      <td>Resort Hotel</td>\n",
              "      <td>0</td>\n",
              "      <td>342</td>\n",
              "      <td>2015</td>\n",
              "      <td>July</td>\n",
              "      <td>27</td>\n",
              "      <td>1</td>\n",
              "      <td>0</td>\n",
              "      <td>0</td>\n",
              "      <td>2</td>\n",
              "      <td>...</td>\n",
              "      <td>No Deposit</td>\n",
              "      <td>NaN</td>\n",
              "      <td>NaN</td>\n",
              "      <td>0</td>\n",
              "      <td>Transient</td>\n",
              "      <td>0.00</td>\n",
              "      <td>0</td>\n",
              "      <td>0</td>\n",
              "      <td>Check-Out</td>\n",
              "      <td>2015-07-01</td>\n",
              "    </tr>\n",
              "    <tr>\n",
              "      <th>1</th>\n",
              "      <td>Resort Hotel</td>\n",
              "      <td>0</td>\n",
              "      <td>737</td>\n",
              "      <td>2015</td>\n",
              "      <td>July</td>\n",
              "      <td>27</td>\n",
              "      <td>1</td>\n",
              "      <td>0</td>\n",
              "      <td>0</td>\n",
              "      <td>2</td>\n",
              "      <td>...</td>\n",
              "      <td>No Deposit</td>\n",
              "      <td>NaN</td>\n",
              "      <td>NaN</td>\n",
              "      <td>0</td>\n",
              "      <td>Transient</td>\n",
              "      <td>0.00</td>\n",
              "      <td>0</td>\n",
              "      <td>0</td>\n",
              "      <td>Check-Out</td>\n",
              "      <td>2015-07-01</td>\n",
              "    </tr>\n",
              "    <tr>\n",
              "      <th>2</th>\n",
              "      <td>Resort Hotel</td>\n",
              "      <td>0</td>\n",
              "      <td>7</td>\n",
              "      <td>2015</td>\n",
              "      <td>July</td>\n",
              "      <td>27</td>\n",
              "      <td>1</td>\n",
              "      <td>0</td>\n",
              "      <td>1</td>\n",
              "      <td>1</td>\n",
              "      <td>...</td>\n",
              "      <td>No Deposit</td>\n",
              "      <td>NaN</td>\n",
              "      <td>NaN</td>\n",
              "      <td>0</td>\n",
              "      <td>Transient</td>\n",
              "      <td>75.00</td>\n",
              "      <td>0</td>\n",
              "      <td>0</td>\n",
              "      <td>Check-Out</td>\n",
              "      <td>2015-07-02</td>\n",
              "    </tr>\n",
              "    <tr>\n",
              "      <th>3</th>\n",
              "      <td>Resort Hotel</td>\n",
              "      <td>0</td>\n",
              "      <td>13</td>\n",
              "      <td>2015</td>\n",
              "      <td>July</td>\n",
              "      <td>27</td>\n",
              "      <td>1</td>\n",
              "      <td>0</td>\n",
              "      <td>1</td>\n",
              "      <td>1</td>\n",
              "      <td>...</td>\n",
              "      <td>No Deposit</td>\n",
              "      <td>304.0</td>\n",
              "      <td>NaN</td>\n",
              "      <td>0</td>\n",
              "      <td>Transient</td>\n",
              "      <td>75.00</td>\n",
              "      <td>0</td>\n",
              "      <td>0</td>\n",
              "      <td>Check-Out</td>\n",
              "      <td>2015-07-02</td>\n",
              "    </tr>\n",
              "    <tr>\n",
              "      <th>4</th>\n",
              "      <td>Resort Hotel</td>\n",
              "      <td>0</td>\n",
              "      <td>14</td>\n",
              "      <td>2015</td>\n",
              "      <td>July</td>\n",
              "      <td>27</td>\n",
              "      <td>1</td>\n",
              "      <td>0</td>\n",
              "      <td>2</td>\n",
              "      <td>2</td>\n",
              "      <td>...</td>\n",
              "      <td>No Deposit</td>\n",
              "      <td>240.0</td>\n",
              "      <td>NaN</td>\n",
              "      <td>0</td>\n",
              "      <td>Transient</td>\n",
              "      <td>98.00</td>\n",
              "      <td>0</td>\n",
              "      <td>1</td>\n",
              "      <td>Check-Out</td>\n",
              "      <td>2015-07-03</td>\n",
              "    </tr>\n",
              "    <tr>\n",
              "      <th>...</th>\n",
              "      <td>...</td>\n",
              "      <td>...</td>\n",
              "      <td>...</td>\n",
              "      <td>...</td>\n",
              "      <td>...</td>\n",
              "      <td>...</td>\n",
              "      <td>...</td>\n",
              "      <td>...</td>\n",
              "      <td>...</td>\n",
              "      <td>...</td>\n",
              "      <td>...</td>\n",
              "      <td>...</td>\n",
              "      <td>...</td>\n",
              "      <td>...</td>\n",
              "      <td>...</td>\n",
              "      <td>...</td>\n",
              "      <td>...</td>\n",
              "      <td>...</td>\n",
              "      <td>...</td>\n",
              "      <td>...</td>\n",
              "      <td>...</td>\n",
              "    </tr>\n",
              "    <tr>\n",
              "      <th>119385</th>\n",
              "      <td>City Hotel</td>\n",
              "      <td>0</td>\n",
              "      <td>23</td>\n",
              "      <td>2017</td>\n",
              "      <td>August</td>\n",
              "      <td>35</td>\n",
              "      <td>30</td>\n",
              "      <td>2</td>\n",
              "      <td>5</td>\n",
              "      <td>2</td>\n",
              "      <td>...</td>\n",
              "      <td>No Deposit</td>\n",
              "      <td>394.0</td>\n",
              "      <td>NaN</td>\n",
              "      <td>0</td>\n",
              "      <td>Transient</td>\n",
              "      <td>96.14</td>\n",
              "      <td>0</td>\n",
              "      <td>0</td>\n",
              "      <td>Check-Out</td>\n",
              "      <td>2017-09-06</td>\n",
              "    </tr>\n",
              "    <tr>\n",
              "      <th>119386</th>\n",
              "      <td>City Hotel</td>\n",
              "      <td>0</td>\n",
              "      <td>102</td>\n",
              "      <td>2017</td>\n",
              "      <td>August</td>\n",
              "      <td>35</td>\n",
              "      <td>31</td>\n",
              "      <td>2</td>\n",
              "      <td>5</td>\n",
              "      <td>3</td>\n",
              "      <td>...</td>\n",
              "      <td>No Deposit</td>\n",
              "      <td>9.0</td>\n",
              "      <td>NaN</td>\n",
              "      <td>0</td>\n",
              "      <td>Transient</td>\n",
              "      <td>225.43</td>\n",
              "      <td>0</td>\n",
              "      <td>2</td>\n",
              "      <td>Check-Out</td>\n",
              "      <td>2017-09-07</td>\n",
              "    </tr>\n",
              "    <tr>\n",
              "      <th>119387</th>\n",
              "      <td>City Hotel</td>\n",
              "      <td>0</td>\n",
              "      <td>34</td>\n",
              "      <td>2017</td>\n",
              "      <td>August</td>\n",
              "      <td>35</td>\n",
              "      <td>31</td>\n",
              "      <td>2</td>\n",
              "      <td>5</td>\n",
              "      <td>2</td>\n",
              "      <td>...</td>\n",
              "      <td>No Deposit</td>\n",
              "      <td>9.0</td>\n",
              "      <td>NaN</td>\n",
              "      <td>0</td>\n",
              "      <td>Transient</td>\n",
              "      <td>157.71</td>\n",
              "      <td>0</td>\n",
              "      <td>4</td>\n",
              "      <td>Check-Out</td>\n",
              "      <td>2017-09-07</td>\n",
              "    </tr>\n",
              "    <tr>\n",
              "      <th>119388</th>\n",
              "      <td>City Hotel</td>\n",
              "      <td>0</td>\n",
              "      <td>109</td>\n",
              "      <td>2017</td>\n",
              "      <td>August</td>\n",
              "      <td>35</td>\n",
              "      <td>31</td>\n",
              "      <td>2</td>\n",
              "      <td>5</td>\n",
              "      <td>2</td>\n",
              "      <td>...</td>\n",
              "      <td>No Deposit</td>\n",
              "      <td>89.0</td>\n",
              "      <td>NaN</td>\n",
              "      <td>0</td>\n",
              "      <td>Transient</td>\n",
              "      <td>104.40</td>\n",
              "      <td>0</td>\n",
              "      <td>0</td>\n",
              "      <td>Check-Out</td>\n",
              "      <td>2017-09-07</td>\n",
              "    </tr>\n",
              "    <tr>\n",
              "      <th>119389</th>\n",
              "      <td>City Hotel</td>\n",
              "      <td>0</td>\n",
              "      <td>205</td>\n",
              "      <td>2017</td>\n",
              "      <td>August</td>\n",
              "      <td>35</td>\n",
              "      <td>29</td>\n",
              "      <td>2</td>\n",
              "      <td>7</td>\n",
              "      <td>2</td>\n",
              "      <td>...</td>\n",
              "      <td>No Deposit</td>\n",
              "      <td>9.0</td>\n",
              "      <td>NaN</td>\n",
              "      <td>0</td>\n",
              "      <td>Transient</td>\n",
              "      <td>151.20</td>\n",
              "      <td>0</td>\n",
              "      <td>2</td>\n",
              "      <td>Check-Out</td>\n",
              "      <td>2017-09-07</td>\n",
              "    </tr>\n",
              "  </tbody>\n",
              "</table>\n",
              "<p>119390 rows × 32 columns</p>\n",
              "</div>\n",
              "      <button class=\"colab-df-convert\" onclick=\"convertToInteractive('df-51a32dc3-1db0-4704-8880-a659497b002f')\"\n",
              "              title=\"Convert this dataframe to an interactive table.\"\n",
              "              style=\"display:none;\">\n",
              "        \n",
              "  <svg xmlns=\"http://www.w3.org/2000/svg\" height=\"24px\"viewBox=\"0 0 24 24\"\n",
              "       width=\"24px\">\n",
              "    <path d=\"M0 0h24v24H0V0z\" fill=\"none\"/>\n",
              "    <path d=\"M18.56 5.44l.94 2.06.94-2.06 2.06-.94-2.06-.94-.94-2.06-.94 2.06-2.06.94zm-11 1L8.5 8.5l.94-2.06 2.06-.94-2.06-.94L8.5 2.5l-.94 2.06-2.06.94zm10 10l.94 2.06.94-2.06 2.06-.94-2.06-.94-.94-2.06-.94 2.06-2.06.94z\"/><path d=\"M17.41 7.96l-1.37-1.37c-.4-.4-.92-.59-1.43-.59-.52 0-1.04.2-1.43.59L10.3 9.45l-7.72 7.72c-.78.78-.78 2.05 0 2.83L4 21.41c.39.39.9.59 1.41.59.51 0 1.02-.2 1.41-.59l7.78-7.78 2.81-2.81c.8-.78.8-2.07 0-2.86zM5.41 20L4 18.59l7.72-7.72 1.47 1.35L5.41 20z\"/>\n",
              "  </svg>\n",
              "      </button>\n",
              "      \n",
              "  <style>\n",
              "    .colab-df-container {\n",
              "      display:flex;\n",
              "      flex-wrap:wrap;\n",
              "      gap: 12px;\n",
              "    }\n",
              "\n",
              "    .colab-df-convert {\n",
              "      background-color: #E8F0FE;\n",
              "      border: none;\n",
              "      border-radius: 50%;\n",
              "      cursor: pointer;\n",
              "      display: none;\n",
              "      fill: #1967D2;\n",
              "      height: 32px;\n",
              "      padding: 0 0 0 0;\n",
              "      width: 32px;\n",
              "    }\n",
              "\n",
              "    .colab-df-convert:hover {\n",
              "      background-color: #E2EBFA;\n",
              "      box-shadow: 0px 1px 2px rgba(60, 64, 67, 0.3), 0px 1px 3px 1px rgba(60, 64, 67, 0.15);\n",
              "      fill: #174EA6;\n",
              "    }\n",
              "\n",
              "    [theme=dark] .colab-df-convert {\n",
              "      background-color: #3B4455;\n",
              "      fill: #D2E3FC;\n",
              "    }\n",
              "\n",
              "    [theme=dark] .colab-df-convert:hover {\n",
              "      background-color: #434B5C;\n",
              "      box-shadow: 0px 1px 3px 1px rgba(0, 0, 0, 0.15);\n",
              "      filter: drop-shadow(0px 1px 2px rgba(0, 0, 0, 0.3));\n",
              "      fill: #FFFFFF;\n",
              "    }\n",
              "  </style>\n",
              "\n",
              "      <script>\n",
              "        const buttonEl =\n",
              "          document.querySelector('#df-51a32dc3-1db0-4704-8880-a659497b002f button.colab-df-convert');\n",
              "        buttonEl.style.display =\n",
              "          google.colab.kernel.accessAllowed ? 'block' : 'none';\n",
              "\n",
              "        async function convertToInteractive(key) {\n",
              "          const element = document.querySelector('#df-51a32dc3-1db0-4704-8880-a659497b002f');\n",
              "          const dataTable =\n",
              "            await google.colab.kernel.invokeFunction('convertToInteractive',\n",
              "                                                     [key], {});\n",
              "          if (!dataTable) return;\n",
              "\n",
              "          const docLinkHtml = 'Like what you see? Visit the ' +\n",
              "            '<a target=\"_blank\" href=https://colab.research.google.com/notebooks/data_table.ipynb>data table notebook</a>'\n",
              "            + ' to learn more about interactive tables.';\n",
              "          element.innerHTML = '';\n",
              "          dataTable['output_type'] = 'display_data';\n",
              "          await google.colab.output.renderOutput(dataTable, element);\n",
              "          const docLink = document.createElement('div');\n",
              "          docLink.innerHTML = docLinkHtml;\n",
              "          element.appendChild(docLink);\n",
              "        }\n",
              "      </script>\n",
              "    </div>\n",
              "  </div>\n",
              "  "
            ]
          },
          "metadata": {},
          "execution_count": 3
        }
      ]
    },
    {
      "cell_type": "code",
      "source": [
        "hotel_orig.dtypes"
      ],
      "metadata": {
        "colab": {
          "base_uri": "https://localhost:8080/"
        },
        "id": "7ZSFXilL8bKx",
        "outputId": "30e939bf-0d68-484f-b52e-639ecb2100ea"
      },
      "execution_count": null,
      "outputs": [
        {
          "output_type": "execute_result",
          "data": {
            "text/plain": [
              "hotel                                     object\n",
              "is_canceled                                int64\n",
              "lead_time                                  int64\n",
              "arrival_date_year                          int64\n",
              "arrival_date_month                        object\n",
              "arrival_date_week_number                   int64\n",
              "arrival_date_day_of_month                  int64\n",
              "stays_in_weekend_nights                    int64\n",
              "stays_in_week_nights                       int64\n",
              "adults                                     int64\n",
              "children                                 float64\n",
              "babies                                     int64\n",
              "meal                                      object\n",
              "country                                   object\n",
              "market_segment                            object\n",
              "distribution_channel                      object\n",
              "is_repeated_guest                          int64\n",
              "previous_cancellations                     int64\n",
              "previous_bookings_not_canceled             int64\n",
              "reserved_room_type                        object\n",
              "assigned_room_type                        object\n",
              "booking_changes                            int64\n",
              "deposit_type                              object\n",
              "agent                                    float64\n",
              "company                                  float64\n",
              "days_in_waiting_list                       int64\n",
              "customer_type                             object\n",
              "adr                                      float64\n",
              "required_car_parking_spaces                int64\n",
              "total_of_special_requests                  int64\n",
              "reservation_status                        object\n",
              "reservation_status_date           datetime64[ns]\n",
              "dtype: object"
            ]
          },
          "metadata": {},
          "execution_count": 4
        }
      ]
    },
    {
      "cell_type": "code",
      "source": [
        "hotel_orig.mean()"
      ],
      "metadata": {
        "colab": {
          "base_uri": "https://localhost:8080/"
        },
        "id": "6qlfhvo_Bt0q",
        "outputId": "2d24b59a-ea21-40f1-aea8-61c4e68f8dd7"
      },
      "execution_count": null,
      "outputs": [
        {
          "output_type": "stream",
          "name": "stderr",
          "text": [
            "<ipython-input-5-ce7c10406fc7>:1: FutureWarning: DataFrame.mean and DataFrame.median with numeric_only=None will include datetime64 and datetime64tz columns in a future version.\n",
            "  hotel_orig.mean()\n",
            "<ipython-input-5-ce7c10406fc7>:1: FutureWarning: The default value of numeric_only in DataFrame.mean is deprecated. In a future version, it will default to False. In addition, specifying 'numeric_only=None' is deprecated. Select only valid columns or specify the value of numeric_only to silence this warning.\n",
            "  hotel_orig.mean()\n"
          ]
        },
        {
          "output_type": "execute_result",
          "data": {
            "text/plain": [
              "is_canceled                          0.370416\n",
              "lead_time                          104.011416\n",
              "arrival_date_year                 2016.156554\n",
              "arrival_date_week_number            27.165173\n",
              "arrival_date_day_of_month           15.798241\n",
              "stays_in_weekend_nights              0.927599\n",
              "stays_in_week_nights                 2.500302\n",
              "adults                               1.856403\n",
              "children                             0.103890\n",
              "babies                               0.007949\n",
              "is_repeated_guest                    0.031912\n",
              "previous_cancellations               0.087118\n",
              "previous_bookings_not_canceled       0.137097\n",
              "booking_changes                      0.221124\n",
              "agent                               86.693382\n",
              "company                            189.266735\n",
              "days_in_waiting_list                 2.321149\n",
              "adr                                101.831122\n",
              "required_car_parking_spaces          0.062518\n",
              "total_of_special_requests            0.571363\n",
              "dtype: float64"
            ]
          },
          "metadata": {},
          "execution_count": 5
        }
      ]
    },
    {
      "cell_type": "code",
      "source": [
        "hotel_orig.isna().sum()"
      ],
      "metadata": {
        "colab": {
          "base_uri": "https://localhost:8080/"
        },
        "id": "-hJaLnArCmEe",
        "outputId": "48319997-50ac-4d0b-c335-21910b4bf779"
      },
      "execution_count": null,
      "outputs": [
        {
          "output_type": "execute_result",
          "data": {
            "text/plain": [
              "hotel                                  0\n",
              "is_canceled                            0\n",
              "lead_time                              0\n",
              "arrival_date_year                      0\n",
              "arrival_date_month                     0\n",
              "arrival_date_week_number               0\n",
              "arrival_date_day_of_month              0\n",
              "stays_in_weekend_nights                0\n",
              "stays_in_week_nights                   0\n",
              "adults                                 0\n",
              "children                               4\n",
              "babies                                 0\n",
              "meal                                   0\n",
              "country                              488\n",
              "market_segment                         0\n",
              "distribution_channel                   0\n",
              "is_repeated_guest                      0\n",
              "previous_cancellations                 0\n",
              "previous_bookings_not_canceled         0\n",
              "reserved_room_type                     0\n",
              "assigned_room_type                     0\n",
              "booking_changes                        0\n",
              "deposit_type                           0\n",
              "agent                              16340\n",
              "company                           112593\n",
              "days_in_waiting_list                   0\n",
              "customer_type                          0\n",
              "adr                                    0\n",
              "required_car_parking_spaces            0\n",
              "total_of_special_requests              0\n",
              "reservation_status                     0\n",
              "reservation_status_date                0\n",
              "dtype: int64"
            ]
          },
          "metadata": {},
          "execution_count": 6
        }
      ]
    },
    {
      "cell_type": "code",
      "source": [
        "(hotel_orig.isna().sum()/len(hotel_orig)).apply('{0:.4%}'.format)\n",
        "# children & country könnten wir rausschmeißen\n",
        "# "
      ],
      "metadata": {
        "colab": {
          "base_uri": "https://localhost:8080/"
        },
        "id": "9Pui_itbE-94",
        "outputId": "852ca95a-88e3-4a36-8060-03c8fb42a22c"
      },
      "execution_count": null,
      "outputs": [
        {
          "output_type": "execute_result",
          "data": {
            "text/plain": [
              "hotel                              0.0000%\n",
              "is_canceled                        0.0000%\n",
              "lead_time                          0.0000%\n",
              "arrival_date_year                  0.0000%\n",
              "arrival_date_month                 0.0000%\n",
              "arrival_date_week_number           0.0000%\n",
              "arrival_date_day_of_month          0.0000%\n",
              "stays_in_weekend_nights            0.0000%\n",
              "stays_in_week_nights               0.0000%\n",
              "adults                             0.0000%\n",
              "children                           0.0034%\n",
              "babies                             0.0000%\n",
              "meal                               0.0000%\n",
              "country                            0.4087%\n",
              "market_segment                     0.0000%\n",
              "distribution_channel               0.0000%\n",
              "is_repeated_guest                  0.0000%\n",
              "previous_cancellations             0.0000%\n",
              "previous_bookings_not_canceled     0.0000%\n",
              "reserved_room_type                 0.0000%\n",
              "assigned_room_type                 0.0000%\n",
              "booking_changes                    0.0000%\n",
              "deposit_type                       0.0000%\n",
              "agent                             13.6862%\n",
              "company                           94.3069%\n",
              "days_in_waiting_list               0.0000%\n",
              "customer_type                      0.0000%\n",
              "adr                                0.0000%\n",
              "required_car_parking_spaces        0.0000%\n",
              "total_of_special_requests          0.0000%\n",
              "reservation_status                 0.0000%\n",
              "reservation_status_date            0.0000%\n",
              "dtype: object"
            ]
          },
          "metadata": {},
          "execution_count": 7
        }
      ]
    },
    {
      "cell_type": "code",
      "source": [
        "hotel_orig.nunique()"
      ],
      "metadata": {
        "colab": {
          "base_uri": "https://localhost:8080/"
        },
        "id": "ereefFqyR7HZ",
        "outputId": "3f93bfb5-8591-454b-ba3a-aec2cd7f3e4e"
      },
      "execution_count": null,
      "outputs": [
        {
          "output_type": "execute_result",
          "data": {
            "text/plain": [
              "hotel                                2\n",
              "is_canceled                          2\n",
              "lead_time                          479\n",
              "arrival_date_year                    3\n",
              "arrival_date_month                  12\n",
              "arrival_date_week_number            53\n",
              "arrival_date_day_of_month           31\n",
              "stays_in_weekend_nights             17\n",
              "stays_in_week_nights                35\n",
              "adults                              14\n",
              "children                             5\n",
              "babies                               5\n",
              "meal                                 5\n",
              "country                            177\n",
              "market_segment                       8\n",
              "distribution_channel                 5\n",
              "is_repeated_guest                    2\n",
              "previous_cancellations              15\n",
              "previous_bookings_not_canceled      73\n",
              "reserved_room_type                  10\n",
              "assigned_room_type                  12\n",
              "booking_changes                     21\n",
              "deposit_type                         3\n",
              "agent                              333\n",
              "company                            352\n",
              "days_in_waiting_list               128\n",
              "customer_type                        4\n",
              "adr                               8879\n",
              "required_car_parking_spaces          5\n",
              "total_of_special_requests            6\n",
              "reservation_status                   3\n",
              "reservation_status_date            926\n",
              "dtype: int64"
            ]
          },
          "metadata": {},
          "execution_count": 8
        }
      ]
    },
    {
      "cell_type": "code",
      "source": [
        "hotel_orig.country.value_counts()"
      ],
      "metadata": {
        "colab": {
          "base_uri": "https://localhost:8080/"
        },
        "id": "xgG1oTiWS16t",
        "outputId": "fc1e4a0e-e102-441a-d3b7-7153a65f31fe"
      },
      "execution_count": null,
      "outputs": [
        {
          "output_type": "execute_result",
          "data": {
            "text/plain": [
              "PRT    48590\n",
              "GBR    12129\n",
              "FRA    10415\n",
              "ESP     8568\n",
              "DEU     7287\n",
              "       ...  \n",
              "DJI        1\n",
              "BWA        1\n",
              "HND        1\n",
              "VGB        1\n",
              "NAM        1\n",
              "Name: country, Length: 177, dtype: int64"
            ]
          },
          "metadata": {},
          "execution_count": 9
        }
      ]
    },
    {
      "cell_type": "code",
      "source": [
        "hotel_orig.company.value_counts()"
      ],
      "metadata": {
        "colab": {
          "base_uri": "https://localhost:8080/"
        },
        "id": "BKjkIQRrTOYv",
        "outputId": "6cbf418e-3b98-4e95-e070-88e87d002b55"
      },
      "execution_count": null,
      "outputs": [
        {
          "output_type": "execute_result",
          "data": {
            "text/plain": [
              "40.0     927\n",
              "223.0    784\n",
              "67.0     267\n",
              "45.0     250\n",
              "153.0    215\n",
              "        ... \n",
              "104.0      1\n",
              "531.0      1\n",
              "160.0      1\n",
              "413.0      1\n",
              "386.0      1\n",
              "Name: company, Length: 352, dtype: int64"
            ]
          },
          "metadata": {},
          "execution_count": 10
        }
      ]
    },
    {
      "cell_type": "code",
      "source": [
        "hotel_orig.adr.value_counts()"
      ],
      "metadata": {
        "colab": {
          "base_uri": "https://localhost:8080/"
        },
        "id": "QMxpw-LeTT8f",
        "outputId": "5417e54f-c55a-484c-d0a9-d46a4ecefcbf"
      },
      "execution_count": null,
      "outputs": [
        {
          "output_type": "execute_result",
          "data": {
            "text/plain": [
              "62.00     3754\n",
              "75.00     2715\n",
              "90.00     2473\n",
              "65.00     2418\n",
              "0.00      1959\n",
              "          ... \n",
              "89.43        1\n",
              "63.07        1\n",
              "55.69        1\n",
              "49.51        1\n",
              "157.71       1\n",
              "Name: adr, Length: 8879, dtype: int64"
            ]
          },
          "metadata": {},
          "execution_count": 11
        }
      ]
    },
    {
      "cell_type": "code",
      "source": [
        "hotel_orig.market_segment.value_counts()"
      ],
      "metadata": {
        "colab": {
          "base_uri": "https://localhost:8080/"
        },
        "id": "XcE53S9wTqv7",
        "outputId": "42f5a609-23b5-495b-cbe1-248ad41cd4dd"
      },
      "execution_count": null,
      "outputs": [
        {
          "output_type": "execute_result",
          "data": {
            "text/plain": [
              "Online TA        56477\n",
              "Offline TA/TO    24219\n",
              "Groups           19811\n",
              "Direct           12606\n",
              "Corporate         5295\n",
              "Complementary      743\n",
              "Aviation           237\n",
              "Undefined            2\n",
              "Name: market_segment, dtype: int64"
            ]
          },
          "metadata": {},
          "execution_count": 12
        }
      ]
    }
  ]
}