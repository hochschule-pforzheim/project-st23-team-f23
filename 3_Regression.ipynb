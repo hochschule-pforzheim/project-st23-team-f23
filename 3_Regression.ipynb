{
  "nbformat": 4,
  "nbformat_minor": 0,
  "metadata": {
    "colab": {
      "provenance": [],
      "toc_visible": true,
      "include_colab_link": true
    },
    "kernelspec": {
      "name": "python3",
      "display_name": "Python 3"
    },
    "language_info": {
      "name": "python"
    }
  },
  "cells": [
    {
      "cell_type": "markdown",
      "metadata": {
        "id": "view-in-github",
        "colab_type": "text"
      },
      "source": [
        "<a href=\"https://colab.research.google.com/github/hochschule-pforzheim/project-st23-team-f23/blob/main/3_Regression.ipynb\" target=\"_parent\"><img src=\"https://colab.research.google.com/assets/colab-badge.svg\" alt=\"Open In Colab\"/></a>"
      ]
    },
    {
      "cell_type": "markdown",
      "source": [
        "Dateien ablegen, um sie in Sitzungsspeicher hochzuladen\n",
        "Laufwerk\n",
        "83.52 GB verfügbar\n",
        "Datensatz vorbereiten - Dummies, Skalen\n",
        "Im ersten Schritt wird der Datensatz aus dem ersten Notebook unter dem Namen 'maindf' geladen. Hier muss der Datensatz \"1_Cleansing_Join\" aus dem vorherigen Notebook reingeladen werden."
      ],
      "metadata": {
        "id": "UMZOzgX4BHs1"
      }
    },
    {
      "cell_type": "code",
      "source": [
        "import pandas as pd\n",
        "from google.colab import drive\n",
        "drive.mount('/content/drive')\n",
        "maindf = pd.read_csv(\"/content/drive/MyDrive/Colab Notebooks/2_Data_for_Modeltraining.csv\")\n",
        "#maindf = pd.read_csv('/content/drive/MyDrive/Colab Notebooks/AI & ML/Projekt/1_Cleansing_Join_final.csv')"
      ],
      "metadata": {
        "id": "X6XYN9neBOjm"
      },
      "execution_count": null,
      "outputs": []
    },
    {
      "cell_type": "markdown",
      "metadata": {
        "id": "gYCdd9if3sTX"
      },
      "source": [
        "# Model Training & Evaluation"
      ]
    },
    {
      "cell_type": "code",
      "source": [
        "X = maindf.drop(columns='adr')\n",
        "y = maindf.adr"
      ],
      "metadata": {
        "id": "QJAgUDucJvDP"
      },
      "execution_count": null,
      "outputs": []
    },
    {
      "cell_type": "markdown",
      "metadata": {
        "id": "b-MA9Xhr4BLl"
      },
      "source": [
        "And split it into train and test sets:"
      ]
    },
    {
      "cell_type": "code",
      "execution_count": null,
      "metadata": {
        "id": "Fnjd34TEbsBV"
      },
      "outputs": [],
      "source": [
        "from sklearn.model_selection import train_test_split\n",
        "X_train, X_test, y_train, y_test = train_test_split(X_scaled, y_scaled, test_size=0.2, random_state=42)"
      ]
    },
    {
      "cell_type": "markdown",
      "metadata": {
        "id": "ToLX1uco6FIz"
      },
      "source": [
        "We will test the following models and compare their performance:\n",
        "\n",
        "*   Linear Regression (with and without regularization)\n",
        "*   Support Vector Mechine (SVM)\n",
        "*   Decision Tree\n",
        "*   Gradient Boosting\n"
      ]
    },
    {
      "cell_type": "markdown",
      "metadata": {
        "id": "n-clOeqGcPU6"
      },
      "source": [
        "Before we do that, let's again implement a small `evaluate` function for measuring the performance of our model:"
      ]
    },
    {
      "cell_type": "code",
      "execution_count": null,
      "metadata": {
        "id": "NdLpRhdtcUQ1"
      },
      "outputs": [],
      "source": [
        "from sklearn.metrics import r2_score, mean_absolute_error, mean_squared_error, mean_absolute_percentage_error\n",
        "def evaluate(reg, X_test, y_test):\n",
        "  pred = reg.predict(X_test)\n",
        "  print('R2:', r2_score(y_test, pred))\n",
        "  print('MAE:', mean_absolute_error(y_test, pred))\n",
        "  print('MSE:', mean_squared_error(y_test, pred))\n",
        "  print('RMSE:', mean_squared_error(y_test, pred, squared=False))\n",
        "  print('MAPE:', mean_absolute_percentage_error(y_test, pred))"
      ]
    },
    {
      "cell_type": "markdown",
      "metadata": {
        "id": "nKAPZ1cVagV5"
      },
      "source": [
        "# SVM"
      ]
    },
    {
      "cell_type": "markdown",
      "metadata": {
        "id": "6NYvNxFp8zcC"
      },
      "source": [
        "Next, we take a look at a support vector machine (SVM) model. Normally, SVMs are used for classification but they can also be applied to regression problems.\n",
        "\n",
        "`sklearn` provides a SVM regression implementation which we can easily use:"
      ]
    },
    {
      "cell_type": "code",
      "execution_count": null,
      "metadata": {
        "id": "GmmzWrgrZytj"
      },
      "outputs": [],
      "source": [
        "from sklearn.svm import LinearSVR\n",
        "from sklearn.pipeline import make_pipeline\n",
        "from sklearn.preprocessing import StandardScaler"
      ]
    },
    {
      "cell_type": "code",
      "execution_count": null,
      "metadata": {
        "id": "EsfTnomganCp"
      },
      "outputs": [],
      "source": [
        "lsvr = make_pipeline(StandardScaler(),\n",
        "                     LinearSVR(random_state=42, tol=1e-5))"
      ]
    },
    {
      "cell_type": "code",
      "execution_count": null,
      "metadata": {
        "id": "29hUT1AMapVn"
      },
      "outputs": [],
      "source": [
        "lsvr.fit(X_train, y_train)"
      ]
    },
    {
      "cell_type": "code",
      "execution_count": null,
      "metadata": {
        "id": "1pmRshGyasyp"
      },
      "outputs": [],
      "source": [
        "evaluate(lsvr, X_test, y_test)"
      ]
    },
    {
      "cell_type": "markdown",
      "metadata": {
        "id": "UJwRQMIEPUyw"
      },
      "source": [
        "The SVM achieves a pretty good result - significantly better than the regression models."
      ]
    },
    {
      "cell_type": "code",
      "execution_count": null,
      "metadata": {
        "id": "-FSx2a1Tmkqz"
      },
      "outputs": [],
      "source": [
        "y_lsvr_predict = lsvr.predict(X_test)"
      ]
    },
    {
      "cell_type": "markdown",
      "metadata": {
        "id": "dYQU5zYspx5z"
      },
      "source": [
        "## **Hyperparameter Tuning**"
      ]
    },
    {
      "cell_type": "markdown",
      "metadata": {
        "id": "UZKT2XixsMTs"
      },
      "source": [
        "C: da LinearSVC: andere Parameter wie 'learning_rate' nicht valid.\n",
        "\n",
        "Die Fehlermeldung \"TypeError: Parameter grid for parameter 'C' is not iterable or a distribution (value=1)\" deutet darauf hin, dass es ein Problem mit dem angegebenen Parameterraum für den Parameter 'C' gibt. Der Wert '1' allein ist nicht als Parameterraum gültig.\n",
        "\n",
        "Um das Problem zu beheben, kannst du entweder einen spezifischen Wert oder einen Parameterraum für 'C' angeben. Hier sind zwei Möglichkeiten:\n",
        "\n",
        "from scipy.stats import uniform\n",
        "\n",
        "param_grid = {\n",
        "    'C': uniform(loc=0.1, scale=10),\n",
        "\n",
        "    Die Wahl zwischen der Verwendung spezifischer Werte und der Verwendung eines Parameterraums hat Vor- und Nachteile, die ich im Folgenden erläutern werde:\n",
        "\n",
        "Option 1: Spezifische Werte für 'C':\n",
        "Vorteile:\n",
        "\n",
        "Einfachheit: Die Verwendung spezifischer Werte ist einfach und erfordert keine weiteren Berechnungen.\n",
        "Kontrolle: Du hast direkte Kontrolle über die ausgewählten Werte für 'C' und kannst gezielt bestimmte Werte testen.\n",
        "Nachteile:\n",
        "\n",
        "Möglicher Informationsverlust: Es besteht die Möglichkeit, dass der optimale Wert für 'C' nicht in den spezifischen Werten enthalten ist. Dies kann dazu führen, dass das Tuning nicht das bestmögliche Ergebnis erzielt.\n",
        "Option 2: Parameterraum für 'C':\n",
        "Vorteile:\n",
        "\n",
        "Flexibilität: Durch die Verwendung eines Parameterraums kannst du einen breiteren Bereich von 'C'-Werten abdecken und somit eine größere Chance haben, den optimalen Wert zu finden.\n",
        "Automatisierte Suche: Der Hyperparameter-Tuning-Algorithmus (z. B. RandomizedSearchCV) kann den Parameterraum automatisch durchsuchen und die besten Kombinationen finden.\n",
        "Nachteile:\n",
        "\n",
        "Komplexität: Die Definition eines Parameterraums erfordert möglicherweise zusätzliche Überlegungen und Kenntnisse über die Wertebereiche von 'C'. Die Auswahl eines geeigneten Parameterraums kann eine gewisse Erfahrung oder Experimentation erfordern.\n",
        "Berechnungsaufwand: Ein breiterer Parameterraum kann zu einer erhöhten Rechenzeit führen, da der Hyperparameter-Tuning-Algorithmus mehr Kombinationen ausprobieren muss.\n",
        "Es ist wichtig zu beachten, dass die Vor- und Nachteile von Optionen wie spezifischen Werten oder Parameterräumen stark vom Anwendungsfall und den Eigenschaften des Modells abhängen können. Es empfiehlt sich, verschiedene Optionen auszuprobieren und die Auswirkungen auf die Leistung des Modells zu beobachten, um die besten Hyperparameter-Tuning-Strategien zu ermitteln.\n",
        "\n"
      ]
    },
    {
      "cell_type": "code",
      "execution_count": null,
      "metadata": {
        "id": "owJHJYT8pwWd"
      },
      "outputs": [],
      "source": [
        "from scipy.stats import loguniform\n",
        "\n",
        "param_grid = {\n",
        "    'C': [0.1, 1, 10],\n",
        "    'class_weight': [None, 'balanced'],\n",
        "    'dual': [True, False],\n",
        "    'fit_intercept': [True, False],\n",
        "    'intercept_scaling': loguniform(0.1, 10),\n",
        "    'loss': ['hinge', 'squared_hinge'],\n",
        "    'max_iter': [100, 500, 1000],\n",
        "    'penalty': ['l1', 'l2'],\n",
        "    'tol': loguniform(0.0001, 0.1),\n",
        "    'verbose': [0, 1]\n",
        "}"
      ]
    },
    {
      "cell_type": "code",
      "execution_count": null,
      "metadata": {
        "id": "Ok21JGPjpwWe"
      },
      "outputs": [],
      "source": [
        "ht_lsvr = RandomizedSearchCV(lsvr, param_grid, random_state=42, n_iter=10)"
      ]
    },
    {
      "cell_type": "code",
      "execution_count": null,
      "metadata": {
        "id": "LMRIg-zqpwWe"
      },
      "outputs": [],
      "source": [
        "ht_svc.fit(X_train, y_train)"
      ]
    },
    {
      "cell_type": "markdown",
      "metadata": {
        "id": "SmS_PT2Oum7D"
      },
      "source": [
        "Trotz Hyperparameter Tuning richtig schlechte Accuracy => nicht geeignet"
      ]
    },
    {
      "cell_type": "code",
      "execution_count": null,
      "metadata": {
        "id": "728TuCjapwWe"
      },
      "outputs": [],
      "source": [
        "evaluate(ht_svc, X_test, y_test)"
      ]
    },
    {
      "cell_type": "markdown",
      "metadata": {
        "id": "ONo9BImmellg"
      },
      "source": [
        "# Gradient Boosting"
      ]
    },
    {
      "cell_type": "markdown",
      "metadata": {
        "id": "V__ZZVBMVloW"
      },
      "source": [
        "Let's move on to a gradient boosting model."
      ]
    },
    {
      "cell_type": "code",
      "execution_count": null,
      "metadata": {
        "id": "o9tdqcRBem1e"
      },
      "outputs": [],
      "source": [
        "from sklearn.ensemble import GradientBoostingRegressor"
      ]
    },
    {
      "cell_type": "code",
      "execution_count": null,
      "metadata": {
        "id": "q-kA4LUJeo7o"
      },
      "outputs": [],
      "source": [
        "gb = make_pipeline(StandardScaler(),\n",
        "                   GradientBoostingRegressor(random_state=42))"
      ]
    },
    {
      "cell_type": "code",
      "execution_count": null,
      "metadata": {
        "id": "BUY3lDgeesJf"
      },
      "outputs": [],
      "source": [
        "gb.fit(X_train, y_train)"
      ]
    },
    {
      "cell_type": "code",
      "execution_count": null,
      "metadata": {
        "id": "rp6mpapYetWK"
      },
      "outputs": [],
      "source": [
        "evaluate(gb, X_test, y_test)"
      ]
    },
    {
      "cell_type": "markdown",
      "metadata": {
        "id": "1FNiXef9cUv7"
      },
      "source": [
        "It achieves a very high performance!"
      ]
    },
    {
      "cell_type": "code",
      "execution_count": null,
      "metadata": {
        "id": "RKBHkNGU2GLM"
      },
      "outputs": [],
      "source": [
        "from sklearn.dummy import DummyRegressor"
      ]
    },
    {
      "cell_type": "code",
      "execution_count": null,
      "metadata": {
        "id": "GYVzZNPC2HbW"
      },
      "outputs": [],
      "source": [
        "dummy = DummyRegressor()"
      ]
    },
    {
      "cell_type": "code",
      "execution_count": null,
      "metadata": {
        "id": "KDawXTNd2KYv"
      },
      "outputs": [],
      "source": [
        "dummy.fit(X_train, y_train)"
      ]
    },
    {
      "cell_type": "code",
      "execution_count": null,
      "metadata": {
        "id": "dXCIBcgu2Osx"
      },
      "outputs": [],
      "source": [
        "evaluate(dummy, X_test, y_test)"
      ]
    },
    {
      "cell_type": "markdown",
      "metadata": {
        "id": "OC9lxLago_sS"
      },
      "source": [
        "Instead of relying on a visual plot to determine the most important features, we can also utilize the `feature_importances_` attribute on the trained sklearn estimator:"
      ]
    },
    {
      "cell_type": "code",
      "execution_count": null,
      "metadata": {
        "id": "jly0hnhtgjmJ"
      },
      "outputs": [],
      "source": [
        "import numpy as np\n",
        "feature_importance = gb.feature_importances_\n",
        "\n",
        "# get indices sorted by importance\n",
        "sorted_idx = np.argsort(feature_importance)\n",
        "\n",
        "# generate range from 0 to the number of features\n",
        "pos = np.arange(sorted_idx.shape[0])\n",
        "\n",
        "# 'pos' acts as our value for the 'y' axis\n",
        "plt.barh(pos, feature_importance[sorted_idx], align='center')\n",
        "\n",
        "plt.yticks(pos, np.array(X.columns)[sorted_idx])\n",
        "plt.title('Feature Importance (MDI)')\n",
        "plt.show()"
      ]
    },
    {
      "cell_type": "markdown",
      "metadata": {
        "id": "D6TbL_gnq_6t"
      },
      "source": [
        "As expected, the feature importance we find here is similar to the one we found visually in the decision tree."
      ]
    },
    {
      "cell_type": "markdown",
      "metadata": {
        "id": "xVQYRA0-V0mW"
      },
      "source": [
        "The model's performance appears to be quite promising so let's try to improve that further. For this purpose, we will perform some basic hyperparameter optimizations in a next step."
      ]
    },
    {
      "cell_type": "markdown",
      "metadata": {
        "id": "1bm3UDb8WcrJ"
      },
      "source": [
        "## Hyperparameter Tuning"
      ]
    },
    {
      "cell_type": "markdown",
      "metadata": {
        "id": "BZrDKlSnWeZ_"
      },
      "source": [
        "We'll again be using the random search approach. As you can see from the `CV` suffix this is combined with cross-validation."
      ]
    },
    {
      "cell_type": "code",
      "execution_count": null,
      "metadata": {
        "id": "SSztS17Daugu"
      },
      "outputs": [],
      "source": [
        "from sklearn.model_selection import RandomizedSearchCV"
      ]
    },
    {
      "cell_type": "markdown",
      "metadata": {
        "id": "J6UzfogPWvYu"
      },
      "source": [
        "Again, we first have to define our hyperparameter grid:"
      ]
    },
    {
      "cell_type": "code",
      "execution_count": null,
      "metadata": {
        "id": "qW3YCXi3cYP5"
      },
      "outputs": [],
      "source": [
        "# the algorithm will try out random values from the lists we provide\n",
        "grid = {'learning_rate': [0.15, 0.1, 0.05, 0.01, 0.005, 0.001],\n",
        "        'n_estimators': [100, 250, 500, 750, 1000, 1250, 1500, 1750],\n",
        "        'max_depth': [2, 3, 4, 5, 6, 7]}"
      ]
    },
    {
      "cell_type": "markdown",
      "metadata": {
        "id": "4y_AInykW7Dy"
      },
      "source": [
        "We can now start the tuning process - limited to 100 iterations (100 different hyperparameter combinations). Note that this process can take a while because sklearn will fit the model 5 times (folds) for each iteration resulting in 500 total fits:"
      ]
    },
    {
      "cell_type": "code",
      "execution_count": null,
      "metadata": {
        "id": "houu11J7cNZp"
      },
      "outputs": [],
      "source": [
        "# setting n_jobs=-1 will ensure that sklearn uses all available cpu cores\n",
        "# takes a loooong time (reduce n_iter to make it faster)\n",
        "optimized_gb = RandomizedSearchCV(pipeline, param_grid, n_iter=100, n_jobs=-1, random_state=42, cv=5, verbose=1)\n",
        "optimized_gb.fit(X_train, y_train)"
      ]
    },
    {
      "cell_type": "markdown",
      "metadata": {
        "id": "zt-lCUjuX1O-"
      },
      "source": [
        "Now that the tuning is done, we can retrieve the best hyperparamter combination as follows:"
      ]
    },
    {
      "cell_type": "code",
      "execution_count": null,
      "metadata": {
        "id": "bHnRjUoPckUN"
      },
      "outputs": [],
      "source": [
        "optimized_gb.best_params_"
      ]
    },
    {
      "cell_type": "markdown",
      "metadata": {
        "id": "Q83H9_tnX6UL"
      },
      "source": [
        "And evaluate the model trained using those parameters:"
      ]
    },
    {
      "cell_type": "code",
      "execution_count": null,
      "metadata": {
        "id": "_4MQq4Hkck-j"
      },
      "outputs": [],
      "source": [
        "evaluate(optimized_gb, X_test, y_test)"
      ]
    },
    {
      "cell_type": "markdown",
      "metadata": {
        "id": "oJqMGC8qYBbB"
      },
      "source": [
        "We improved the performance of our model slightly - not a huge improvement, but better than nothing!"
      ]
    },
    {
      "cell_type": "markdown",
      "metadata": {
        "id": "TVAP0maZgThw"
      },
      "source": [
        "The gradient boosting model (in fact, all ML models) might suffer from overfitting where they memorize the data instead of learning the underlying patterns. One way of detecting this for a gradient boosting model is plotting the train and test error against the number of iterations (i.e. how long the model was trained for)."
      ]
    },
    {
      "cell_type": "markdown",
      "source": [
        "Let's create this plot here:"
      ],
      "metadata": {
        "id": "IwPGq5QVUTvB"
      }
    },
    {
      "cell_type": "code",
      "execution_count": null,
      "metadata": {
        "id": "WCLxG1cgnQC7"
      },
      "outputs": [],
      "source": [
        "import matplotlib.pyplot as plt\n",
        "import numpy as np"
      ]
    },
    {
      "cell_type": "code",
      "execution_count": null,
      "metadata": {
        "id": "p-Z1W38qnRA0"
      },
      "outputs": [],
      "source": [
        "# get best xgb model (after hyperparam tuning)\n",
        "best_gb = optimized_xgb.best_estimator_\n",
        "# staged_predict returns the error after each stage in the model\n",
        "predictions = best_gb.staged_predict(X_test)\n",
        "# how many estimators were used for the model\n",
        "n_estimators = optimized_gb.best_params_['n_estimators']\n",
        "\n",
        "# calculate deviance (error) for all examples in test set\n",
        "test_score = np.zeros((n_estimators,), dtype=np.float64)\n",
        "for i, y_pred in enumerate(predictions):\n",
        "    test_score[i] = best_gb.loss_(y_test, y_pred)"
      ]
    },
    {
      "cell_type": "markdown",
      "metadata": {
        "id": "y_oQVqjCnf7g"
      },
      "source": [
        "Now we can plot the test loss against the training loss which is already stored in the `train_score_` attribute."
      ]
    },
    {
      "cell_type": "code",
      "execution_count": null,
      "metadata": {
        "id": "k8qLDGiegTF3"
      },
      "outputs": [],
      "source": [
        "fig = plt.figure(figsize=(6, 6))\n",
        "plt.subplot(1, 1, 1)\n",
        "plt.title('Deviance')\n",
        "plt.plot(np.arange(n_estimators) + 1, best_xgb.train_score_, 'b-',\n",
        "         label='Training Set Deviance')\n",
        "plt.plot(np.arange(n_estimators) + 1, test_score, 'r-',\n",
        "         label='Test Set Deviance')\n",
        "plt.legend(loc='upper right')\n",
        "plt.xlabel('Boosting Iterations')\n",
        "plt.ylabel('Deviance')\n",
        "fig.tight_layout()\n",
        "plt.show()"
      ]
    },
    {
      "cell_type": "markdown",
      "source": [
        "# **XGB Regression**"
      ],
      "metadata": {
        "id": "AGczG6aCQdAL"
      }
    },
    {
      "cell_type": "code",
      "execution_count": null,
      "metadata": {
        "id": "vRDO86422jBk"
      },
      "outputs": [],
      "source": [
        "# plot decision tree\n",
        "from numpy import loadtxt\n",
        "from xgboost import XGBRegressor\n",
        "from xgboost import plot_tree\n",
        "import matplotlib.pyplot as plt\n",
        "\n",
        "# fit model no training data\n",
        "xgb = make_pipeline(StandardScaler(),\n",
        "                    XGBRegressor())\n",
        "xgb.fit(X_train, y_train)"
      ]
    },
    {
      "cell_type": "code",
      "source": [
        "evaluate(xgb, X_train, y_train)"
      ],
      "metadata": {
        "id": "_UiTgx7E_ZJX"
      },
      "execution_count": null,
      "outputs": []
    },
    {
      "cell_type": "code",
      "execution_count": null,
      "metadata": {
        "id": "ik_tNNra38b6"
      },
      "outputs": [],
      "source": [
        "from sklearn.model_selection import RandomizedSearchCV"
      ]
    },
    {
      "cell_type": "code",
      "execution_count": null,
      "metadata": {
        "id": "08wf9tn838b8"
      },
      "outputs": [],
      "source": [
        "# the algorithm will try out random values from the lists we provide\n",
        "grid = {\n",
        "    'xgbregressor__n_estimators': [100, 250, 500, 750, 1000, 1250, 1500, 1750],\n",
        "    'xgbregressor__max_depth': [2, 3, 4, 5, 6, 7],\n",
        "    'xgbregressor__learning_rate': [0.15, 0.1, 0.05, 0.01, 0.005, 0.001]\n",
        "}"
      ]
    },
    {
      "cell_type": "markdown",
      "metadata": {
        "id": "8Ljm2No_38b8"
      },
      "source": [
        "We can now start the tuning process - limited to 100 iterations (100 different hyperparameter combinations). Note that this process can take a while because sklearn will fit the model 5 times (folds) for each iteration resulting in 500 total fits:"
      ]
    },
    {
      "cell_type": "code",
      "execution_count": null,
      "metadata": {
        "id": "Vw39OIsS38b9"
      },
      "outputs": [],
      "source": [
        "# setting n_jobs=-1 will ensure that sklearn uses all available cpu cores\n",
        "# takes a loooong time (reduce n_iter to make it faster)\n",
        "optimized_xgb = RandomizedSearchCV(xgb, grid, n_iter=100, n_jobs=-1, random_state=42, verbose=3)\n",
        "optimized_xgb.fit(X_train, y_train)"
      ]
    },
    {
      "cell_type": "markdown",
      "metadata": {
        "id": "xNCbsm9H38b9"
      },
      "source": [
        "Now that the tuning is done, we can retrieve the best hyperparamter combination as follows:"
      ]
    },
    {
      "cell_type": "code",
      "execution_count": null,
      "metadata": {
        "id": "UNzKLCPQ38b9"
      },
      "outputs": [],
      "source": [
        "optimized_xgb.best_params_"
      ]
    },
    {
      "cell_type": "markdown",
      "metadata": {
        "id": "z6PjIqa538b9"
      },
      "source": [
        "And evaluate the model trained using those parameters:"
      ]
    },
    {
      "cell_type": "code",
      "execution_count": null,
      "metadata": {
        "id": "gMt60ev038b9"
      },
      "outputs": [],
      "source": [
        "evaluate(optimized_xgb, X_test, y_test)"
      ]
    },
    {
      "cell_type": "markdown",
      "metadata": {
        "id": "ZsEVG-aynpyV"
      },
      "source": [
        "We can see that there is not a big difference between training and test set deviance which means that our model is not suffering from overfitting (at least not heavily). However, we might choose to stop training after around iteration 20 as the additional iterations only contribute very little to the overall model performance. That being said, we are only looking at an individual hyperparam here so this might not be the true optimal parameter value."
      ]
    },
    {
      "cell_type": "markdown",
      "source": [
        "# Lineare Regression"
      ],
      "metadata": {
        "id": "vpPR9yaTC8py"
      }
    },
    {
      "cell_type": "code",
      "execution_count": null,
      "metadata": {
        "id": "TZdNa5jh3OC3"
      },
      "outputs": [],
      "source": [
        "from sklearn.linear_model import LinearRegression\n",
        "linear = LinearRegression()"
      ]
    },
    {
      "cell_type": "code",
      "execution_count": null,
      "metadata": {
        "id": "wRCTiHWlWxlI"
      },
      "outputs": [],
      "source": [
        "from sklearn.pipeline import make_pipeline\n",
        "\n",
        "linear_scaled = make_pipeline(scaler, linear)"
      ]
    },
    {
      "cell_type": "code",
      "execution_count": null,
      "metadata": {
        "id": "k5r9PR64W29t",
        "colab": {
          "base_uri": "https://localhost:8080/",
          "height": 124
        },
        "outputId": "194f3f96-1e0c-4fa1-cf71-ed2617a5310e"
      },
      "outputs": [
        {
          "output_type": "execute_result",
          "data": {
            "text/plain": [
              "Pipeline(steps=[('standardscaler', StandardScaler()),\n",
              "                ('linearregression', LinearRegression())])"
            ],
            "text/html": [
              "<style>#sk-container-id-4 {color: black;background-color: white;}#sk-container-id-4 pre{padding: 0;}#sk-container-id-4 div.sk-toggleable {background-color: white;}#sk-container-id-4 label.sk-toggleable__label {cursor: pointer;display: block;width: 100%;margin-bottom: 0;padding: 0.3em;box-sizing: border-box;text-align: center;}#sk-container-id-4 label.sk-toggleable__label-arrow:before {content: \"▸\";float: left;margin-right: 0.25em;color: #696969;}#sk-container-id-4 label.sk-toggleable__label-arrow:hover:before {color: black;}#sk-container-id-4 div.sk-estimator:hover label.sk-toggleable__label-arrow:before {color: black;}#sk-container-id-4 div.sk-toggleable__content {max-height: 0;max-width: 0;overflow: hidden;text-align: left;background-color: #f0f8ff;}#sk-container-id-4 div.sk-toggleable__content pre {margin: 0.2em;color: black;border-radius: 0.25em;background-color: #f0f8ff;}#sk-container-id-4 input.sk-toggleable__control:checked~div.sk-toggleable__content {max-height: 200px;max-width: 100%;overflow: auto;}#sk-container-id-4 input.sk-toggleable__control:checked~label.sk-toggleable__label-arrow:before {content: \"▾\";}#sk-container-id-4 div.sk-estimator input.sk-toggleable__control:checked~label.sk-toggleable__label {background-color: #d4ebff;}#sk-container-id-4 div.sk-label input.sk-toggleable__control:checked~label.sk-toggleable__label {background-color: #d4ebff;}#sk-container-id-4 input.sk-hidden--visually {border: 0;clip: rect(1px 1px 1px 1px);clip: rect(1px, 1px, 1px, 1px);height: 1px;margin: -1px;overflow: hidden;padding: 0;position: absolute;width: 1px;}#sk-container-id-4 div.sk-estimator {font-family: monospace;background-color: #f0f8ff;border: 1px dotted black;border-radius: 0.25em;box-sizing: border-box;margin-bottom: 0.5em;}#sk-container-id-4 div.sk-estimator:hover {background-color: #d4ebff;}#sk-container-id-4 div.sk-parallel-item::after {content: \"\";width: 100%;border-bottom: 1px solid gray;flex-grow: 1;}#sk-container-id-4 div.sk-label:hover label.sk-toggleable__label {background-color: #d4ebff;}#sk-container-id-4 div.sk-serial::before {content: \"\";position: absolute;border-left: 1px solid gray;box-sizing: border-box;top: 0;bottom: 0;left: 50%;z-index: 0;}#sk-container-id-4 div.sk-serial {display: flex;flex-direction: column;align-items: center;background-color: white;padding-right: 0.2em;padding-left: 0.2em;position: relative;}#sk-container-id-4 div.sk-item {position: relative;z-index: 1;}#sk-container-id-4 div.sk-parallel {display: flex;align-items: stretch;justify-content: center;background-color: white;position: relative;}#sk-container-id-4 div.sk-item::before, #sk-container-id-4 div.sk-parallel-item::before {content: \"\";position: absolute;border-left: 1px solid gray;box-sizing: border-box;top: 0;bottom: 0;left: 50%;z-index: -1;}#sk-container-id-4 div.sk-parallel-item {display: flex;flex-direction: column;z-index: 1;position: relative;background-color: white;}#sk-container-id-4 div.sk-parallel-item:first-child::after {align-self: flex-end;width: 50%;}#sk-container-id-4 div.sk-parallel-item:last-child::after {align-self: flex-start;width: 50%;}#sk-container-id-4 div.sk-parallel-item:only-child::after {width: 0;}#sk-container-id-4 div.sk-dashed-wrapped {border: 1px dashed gray;margin: 0 0.4em 0.5em 0.4em;box-sizing: border-box;padding-bottom: 0.4em;background-color: white;}#sk-container-id-4 div.sk-label label {font-family: monospace;font-weight: bold;display: inline-block;line-height: 1.2em;}#sk-container-id-4 div.sk-label-container {text-align: center;}#sk-container-id-4 div.sk-container {/* jupyter's `normalize.less` sets `[hidden] { display: none; }` but bootstrap.min.css set `[hidden] { display: none !important; }` so we also need the `!important` here to be able to override the default hidden behavior on the sphinx rendered scikit-learn.org. See: https://github.com/scikit-learn/scikit-learn/issues/21755 */display: inline-block !important;position: relative;}#sk-container-id-4 div.sk-text-repr-fallback {display: none;}</style><div id=\"sk-container-id-4\" class=\"sk-top-container\"><div class=\"sk-text-repr-fallback\"><pre>Pipeline(steps=[(&#x27;standardscaler&#x27;, StandardScaler()),\n",
              "                (&#x27;linearregression&#x27;, LinearRegression())])</pre><b>In a Jupyter environment, please rerun this cell to show the HTML representation or trust the notebook. <br />On GitHub, the HTML representation is unable to render, please try loading this page with nbviewer.org.</b></div><div class=\"sk-container\" hidden><div class=\"sk-item sk-dashed-wrapped\"><div class=\"sk-label-container\"><div class=\"sk-label sk-toggleable\"><input class=\"sk-toggleable__control sk-hidden--visually\" id=\"sk-estimator-id-4\" type=\"checkbox\" ><label for=\"sk-estimator-id-4\" class=\"sk-toggleable__label sk-toggleable__label-arrow\">Pipeline</label><div class=\"sk-toggleable__content\"><pre>Pipeline(steps=[(&#x27;standardscaler&#x27;, StandardScaler()),\n",
              "                (&#x27;linearregression&#x27;, LinearRegression())])</pre></div></div></div><div class=\"sk-serial\"><div class=\"sk-item\"><div class=\"sk-estimator sk-toggleable\"><input class=\"sk-toggleable__control sk-hidden--visually\" id=\"sk-estimator-id-5\" type=\"checkbox\" ><label for=\"sk-estimator-id-5\" class=\"sk-toggleable__label sk-toggleable__label-arrow\">StandardScaler</label><div class=\"sk-toggleable__content\"><pre>StandardScaler()</pre></div></div></div><div class=\"sk-item\"><div class=\"sk-estimator sk-toggleable\"><input class=\"sk-toggleable__control sk-hidden--visually\" id=\"sk-estimator-id-6\" type=\"checkbox\" ><label for=\"sk-estimator-id-6\" class=\"sk-toggleable__label sk-toggleable__label-arrow\">LinearRegression</label><div class=\"sk-toggleable__content\"><pre>LinearRegression()</pre></div></div></div></div></div></div></div>"
            ]
          },
          "metadata": {},
          "execution_count": 81
        }
      ],
      "source": [
        "linear_scaled.fit(X_train, y_train)"
      ]
    },
    {
      "cell_type": "code",
      "execution_count": null,
      "metadata": {
        "id": "kHcDxg9VW4i7",
        "colab": {
          "base_uri": "https://localhost:8080/"
        },
        "outputId": "650ef75f-4226-496d-e2a2-12b257a352ec"
      },
      "outputs": [
        {
          "output_type": "stream",
          "name": "stdout",
          "text": [
            "R2: 0.42282568506105156\n",
            "MAE: 27.16709864849837\n",
            "MSE: 1397.8925400717947\n",
            "RMSE: 37.38840114356048\n",
            "MAPE: 5558511303644893.0\n"
          ]
        }
      ],
      "source": [
        "evaluate_lin_reg(linear_scaled, X_test, y_test)"
      ]
    },
    {
      "cell_type": "code",
      "execution_count": null,
      "metadata": {
        "id": "t1gTH2nWMZbl"
      },
      "outputs": [],
      "source": [
        "from sklearn.linear_model import RidgeCV"
      ]
    },
    {
      "cell_type": "code",
      "execution_count": null,
      "metadata": {
        "id": "Tz8tyOw_aLzT"
      },
      "outputs": [],
      "source": [
        "import numpy as np"
      ]
    },
    {
      "cell_type": "code",
      "execution_count": null,
      "metadata": {
        "id": "895nxs9BMoL9"
      },
      "outputs": [],
      "source": [
        "n_alphas = 200\n",
        "alphaValues = np.logspace(-10, -1, n_alphas)\n",
        "\n",
        "linear_ridge = make_pipeline(scaler, RidgeCV(alphas=alphaValues))"
      ]
    },
    {
      "cell_type": "code",
      "execution_count": null,
      "metadata": {
        "id": "uxc-o8jTlHQq",
        "colab": {
          "base_uri": "https://localhost:8080/",
          "height": 124
        },
        "outputId": "a2edbe20-da9a-4b80-a47e-a16d14bbdeef"
      },
      "outputs": [
        {
          "output_type": "execute_result",
          "data": {
            "text/plain": [
              "Pipeline(steps=[('standardscaler', StandardScaler()),\n",
              "                ('ridgecv',\n",
              "                 RidgeCV(alphas=array([1.00000000e-10, 1.10975250e-10, 1.23155060e-10, 1.36671636e-10,\n",
              "       1.51671689e-10, 1.68318035e-10, 1.86791360e-10, 2.07292178e-10,\n",
              "       2.30043012e-10, 2.55290807e-10, 2.83309610e-10, 3.14403547e-10,\n",
              "       3.48910121e-10, 3.87203878e-10, 4.29700470e-10, 4.76861170e-10,\n",
              "       5.29197874e-10, 5.87278661...\n",
              "       9.11588830e-03, 1.01163798e-02, 1.12266777e-02, 1.24588336e-02,\n",
              "       1.38262217e-02, 1.53436841e-02, 1.70276917e-02, 1.88965234e-02,\n",
              "       2.09704640e-02, 2.32720248e-02, 2.58261876e-02, 2.86606762e-02,\n",
              "       3.18062569e-02, 3.52970730e-02, 3.91710149e-02, 4.34701316e-02,\n",
              "       4.82410870e-02, 5.35356668e-02, 5.94113398e-02, 6.59318827e-02,\n",
              "       7.31680714e-02, 8.11984499e-02, 9.01101825e-02, 1.00000000e-01])))])"
            ],
            "text/html": [
              "<style>#sk-container-id-5 {color: black;background-color: white;}#sk-container-id-5 pre{padding: 0;}#sk-container-id-5 div.sk-toggleable {background-color: white;}#sk-container-id-5 label.sk-toggleable__label {cursor: pointer;display: block;width: 100%;margin-bottom: 0;padding: 0.3em;box-sizing: border-box;text-align: center;}#sk-container-id-5 label.sk-toggleable__label-arrow:before {content: \"▸\";float: left;margin-right: 0.25em;color: #696969;}#sk-container-id-5 label.sk-toggleable__label-arrow:hover:before {color: black;}#sk-container-id-5 div.sk-estimator:hover label.sk-toggleable__label-arrow:before {color: black;}#sk-container-id-5 div.sk-toggleable__content {max-height: 0;max-width: 0;overflow: hidden;text-align: left;background-color: #f0f8ff;}#sk-container-id-5 div.sk-toggleable__content pre {margin: 0.2em;color: black;border-radius: 0.25em;background-color: #f0f8ff;}#sk-container-id-5 input.sk-toggleable__control:checked~div.sk-toggleable__content {max-height: 200px;max-width: 100%;overflow: auto;}#sk-container-id-5 input.sk-toggleable__control:checked~label.sk-toggleable__label-arrow:before {content: \"▾\";}#sk-container-id-5 div.sk-estimator input.sk-toggleable__control:checked~label.sk-toggleable__label {background-color: #d4ebff;}#sk-container-id-5 div.sk-label input.sk-toggleable__control:checked~label.sk-toggleable__label {background-color: #d4ebff;}#sk-container-id-5 input.sk-hidden--visually {border: 0;clip: rect(1px 1px 1px 1px);clip: rect(1px, 1px, 1px, 1px);height: 1px;margin: -1px;overflow: hidden;padding: 0;position: absolute;width: 1px;}#sk-container-id-5 div.sk-estimator {font-family: monospace;background-color: #f0f8ff;border: 1px dotted black;border-radius: 0.25em;box-sizing: border-box;margin-bottom: 0.5em;}#sk-container-id-5 div.sk-estimator:hover {background-color: #d4ebff;}#sk-container-id-5 div.sk-parallel-item::after {content: \"\";width: 100%;border-bottom: 1px solid gray;flex-grow: 1;}#sk-container-id-5 div.sk-label:hover label.sk-toggleable__label {background-color: #d4ebff;}#sk-container-id-5 div.sk-serial::before {content: \"\";position: absolute;border-left: 1px solid gray;box-sizing: border-box;top: 0;bottom: 0;left: 50%;z-index: 0;}#sk-container-id-5 div.sk-serial {display: flex;flex-direction: column;align-items: center;background-color: white;padding-right: 0.2em;padding-left: 0.2em;position: relative;}#sk-container-id-5 div.sk-item {position: relative;z-index: 1;}#sk-container-id-5 div.sk-parallel {display: flex;align-items: stretch;justify-content: center;background-color: white;position: relative;}#sk-container-id-5 div.sk-item::before, #sk-container-id-5 div.sk-parallel-item::before {content: \"\";position: absolute;border-left: 1px solid gray;box-sizing: border-box;top: 0;bottom: 0;left: 50%;z-index: -1;}#sk-container-id-5 div.sk-parallel-item {display: flex;flex-direction: column;z-index: 1;position: relative;background-color: white;}#sk-container-id-5 div.sk-parallel-item:first-child::after {align-self: flex-end;width: 50%;}#sk-container-id-5 div.sk-parallel-item:last-child::after {align-self: flex-start;width: 50%;}#sk-container-id-5 div.sk-parallel-item:only-child::after {width: 0;}#sk-container-id-5 div.sk-dashed-wrapped {border: 1px dashed gray;margin: 0 0.4em 0.5em 0.4em;box-sizing: border-box;padding-bottom: 0.4em;background-color: white;}#sk-container-id-5 div.sk-label label {font-family: monospace;font-weight: bold;display: inline-block;line-height: 1.2em;}#sk-container-id-5 div.sk-label-container {text-align: center;}#sk-container-id-5 div.sk-container {/* jupyter's `normalize.less` sets `[hidden] { display: none; }` but bootstrap.min.css set `[hidden] { display: none !important; }` so we also need the `!important` here to be able to override the default hidden behavior on the sphinx rendered scikit-learn.org. See: https://github.com/scikit-learn/scikit-learn/issues/21755 */display: inline-block !important;position: relative;}#sk-container-id-5 div.sk-text-repr-fallback {display: none;}</style><div id=\"sk-container-id-5\" class=\"sk-top-container\"><div class=\"sk-text-repr-fallback\"><pre>Pipeline(steps=[(&#x27;standardscaler&#x27;, StandardScaler()),\n",
              "                (&#x27;ridgecv&#x27;,\n",
              "                 RidgeCV(alphas=array([1.00000000e-10, 1.10975250e-10, 1.23155060e-10, 1.36671636e-10,\n",
              "       1.51671689e-10, 1.68318035e-10, 1.86791360e-10, 2.07292178e-10,\n",
              "       2.30043012e-10, 2.55290807e-10, 2.83309610e-10, 3.14403547e-10,\n",
              "       3.48910121e-10, 3.87203878e-10, 4.29700470e-10, 4.76861170e-10,\n",
              "       5.29197874e-10, 5.87278661...\n",
              "       9.11588830e-03, 1.01163798e-02, 1.12266777e-02, 1.24588336e-02,\n",
              "       1.38262217e-02, 1.53436841e-02, 1.70276917e-02, 1.88965234e-02,\n",
              "       2.09704640e-02, 2.32720248e-02, 2.58261876e-02, 2.86606762e-02,\n",
              "       3.18062569e-02, 3.52970730e-02, 3.91710149e-02, 4.34701316e-02,\n",
              "       4.82410870e-02, 5.35356668e-02, 5.94113398e-02, 6.59318827e-02,\n",
              "       7.31680714e-02, 8.11984499e-02, 9.01101825e-02, 1.00000000e-01])))])</pre><b>In a Jupyter environment, please rerun this cell to show the HTML representation or trust the notebook. <br />On GitHub, the HTML representation is unable to render, please try loading this page with nbviewer.org.</b></div><div class=\"sk-container\" hidden><div class=\"sk-item sk-dashed-wrapped\"><div class=\"sk-label-container\"><div class=\"sk-label sk-toggleable\"><input class=\"sk-toggleable__control sk-hidden--visually\" id=\"sk-estimator-id-7\" type=\"checkbox\" ><label for=\"sk-estimator-id-7\" class=\"sk-toggleable__label sk-toggleable__label-arrow\">Pipeline</label><div class=\"sk-toggleable__content\"><pre>Pipeline(steps=[(&#x27;standardscaler&#x27;, StandardScaler()),\n",
              "                (&#x27;ridgecv&#x27;,\n",
              "                 RidgeCV(alphas=array([1.00000000e-10, 1.10975250e-10, 1.23155060e-10, 1.36671636e-10,\n",
              "       1.51671689e-10, 1.68318035e-10, 1.86791360e-10, 2.07292178e-10,\n",
              "       2.30043012e-10, 2.55290807e-10, 2.83309610e-10, 3.14403547e-10,\n",
              "       3.48910121e-10, 3.87203878e-10, 4.29700470e-10, 4.76861170e-10,\n",
              "       5.29197874e-10, 5.87278661...\n",
              "       9.11588830e-03, 1.01163798e-02, 1.12266777e-02, 1.24588336e-02,\n",
              "       1.38262217e-02, 1.53436841e-02, 1.70276917e-02, 1.88965234e-02,\n",
              "       2.09704640e-02, 2.32720248e-02, 2.58261876e-02, 2.86606762e-02,\n",
              "       3.18062569e-02, 3.52970730e-02, 3.91710149e-02, 4.34701316e-02,\n",
              "       4.82410870e-02, 5.35356668e-02, 5.94113398e-02, 6.59318827e-02,\n",
              "       7.31680714e-02, 8.11984499e-02, 9.01101825e-02, 1.00000000e-01])))])</pre></div></div></div><div class=\"sk-serial\"><div class=\"sk-item\"><div class=\"sk-estimator sk-toggleable\"><input class=\"sk-toggleable__control sk-hidden--visually\" id=\"sk-estimator-id-8\" type=\"checkbox\" ><label for=\"sk-estimator-id-8\" class=\"sk-toggleable__label sk-toggleable__label-arrow\">StandardScaler</label><div class=\"sk-toggleable__content\"><pre>StandardScaler()</pre></div></div></div><div class=\"sk-item\"><div class=\"sk-estimator sk-toggleable\"><input class=\"sk-toggleable__control sk-hidden--visually\" id=\"sk-estimator-id-9\" type=\"checkbox\" ><label for=\"sk-estimator-id-9\" class=\"sk-toggleable__label sk-toggleable__label-arrow\">RidgeCV</label><div class=\"sk-toggleable__content\"><pre>RidgeCV(alphas=array([1.00000000e-10, 1.10975250e-10, 1.23155060e-10, 1.36671636e-10,\n",
              "       1.51671689e-10, 1.68318035e-10, 1.86791360e-10, 2.07292178e-10,\n",
              "       2.30043012e-10, 2.55290807e-10, 2.83309610e-10, 3.14403547e-10,\n",
              "       3.48910121e-10, 3.87203878e-10, 4.29700470e-10, 4.76861170e-10,\n",
              "       5.29197874e-10, 5.87278661e-10, 6.51733960e-10, 7.23263390e-10,\n",
              "       8.02643352e-10, 8.90735464e-1...\n",
              "       9.11588830e-03, 1.01163798e-02, 1.12266777e-02, 1.24588336e-02,\n",
              "       1.38262217e-02, 1.53436841e-02, 1.70276917e-02, 1.88965234e-02,\n",
              "       2.09704640e-02, 2.32720248e-02, 2.58261876e-02, 2.86606762e-02,\n",
              "       3.18062569e-02, 3.52970730e-02, 3.91710149e-02, 4.34701316e-02,\n",
              "       4.82410870e-02, 5.35356668e-02, 5.94113398e-02, 6.59318827e-02,\n",
              "       7.31680714e-02, 8.11984499e-02, 9.01101825e-02, 1.00000000e-01]))</pre></div></div></div></div></div></div></div>"
            ]
          },
          "metadata": {},
          "execution_count": 86
        }
      ],
      "source": [
        "linear_ridge.fit(X_train, y_train)"
      ]
    },
    {
      "cell_type": "code",
      "execution_count": null,
      "metadata": {
        "id": "J_6aEsRdlWST",
        "colab": {
          "base_uri": "https://localhost:8080/"
        },
        "outputId": "1bb6f742-3a94-4ab6-f769-6f97af995234"
      },
      "outputs": [
        {
          "output_type": "execute_result",
          "data": {
            "text/plain": [
              "0.1"
            ]
          },
          "metadata": {},
          "execution_count": 87
        }
      ],
      "source": [
        "linear_ridge[1].alpha_"
      ]
    },
    {
      "cell_type": "code",
      "execution_count": null,
      "metadata": {
        "id": "rvhIEBO3RgOB",
        "colab": {
          "base_uri": "https://localhost:8080/"
        },
        "outputId": "fa26e0af-bd1a-47c7-a0ac-ac809477bb94"
      },
      "outputs": [
        {
          "output_type": "stream",
          "name": "stdout",
          "text": [
            "R2: 0.4228256738331103\n",
            "MAE: 27.167096968333425\n",
            "MSE: 1397.8925672654082\n",
            "RMSE: 37.388401507224245\n",
            "MAPE: 5558511909652077.0\n"
          ]
        }
      ],
      "source": [
        "evaluate_lin_reg(linear_ridge, X_test,y_test)"
      ]
    },
    {
      "cell_type": "code",
      "source": [
        "maindf.adr.mean()"
      ],
      "metadata": {
        "colab": {
          "base_uri": "https://localhost:8080/"
        },
        "id": "JRbrYO_BcCra",
        "outputId": "4ef8223b-adc3-4d87-f4ff-d2e10525c3c6"
      },
      "execution_count": null,
      "outputs": [
        {
          "output_type": "execute_result",
          "data": {
            "text/plain": [
              "102.46612039949844"
            ]
          },
          "metadata": {},
          "execution_count": 96
        }
      ]
    },
    {
      "cell_type": "markdown",
      "source": [
        "# cnn"
      ],
      "metadata": {
        "id": "jtIyhFLL8jzx"
      }
    },
    {
      "cell_type": "code",
      "source": [
        "import tensorflow as tf\n",
        "from tensorflow.keras.models import Sequential\n",
        "from tensorflow.keras.layers import Conv2D, MaxPooling2D, Flatten, Dense"
      ],
      "metadata": {
        "id": "gCZ0ouzG8ifH"
      },
      "execution_count": null,
      "outputs": []
    },
    {
      "cell_type": "code",
      "source": [
        "from sklearn.metrics import r2_score, mean_absolute_error, mean_squared_error, mean_absolute_percentage_error\n",
        "def evaluate(reg, X_test, y_test):\n",
        "  pred = reg.predict(X_test)\n",
        "  print('R2:', r2_score(y_test, pred))\n",
        "  print('MAE:', mean_absolute_error(y_test, pred))\n",
        "  print('MSE:', mean_squared_error(y_test, pred))\n",
        "  print('RMSE:', mean_squared_error(y_test, pred, squared=False))\n",
        "  print('MAPE:', mean_absolute_percentage_error(y_test, pred))"
      ],
      "metadata": {
        "id": "qLzV-QWVBCBm"
      },
      "execution_count": null,
      "outputs": []
    },
    {
      "cell_type": "code",
      "execution_count": null,
      "metadata": {
        "id": "9OLZyCXw9Auq"
      },
      "outputs": [],
      "source": [
        "X = maindf_c.drop(columns='adr')\n",
        "y = maindf_c.adr"
      ]
    },
    {
      "cell_type": "code",
      "execution_count": null,
      "metadata": {
        "id": "ba8TBQNg9Auu"
      },
      "outputs": [],
      "source": [
        "X_scaled = maindf_scaled.drop(columns='adr')\n",
        "y_scaled = maindf_scaled.is_canceled"
      ]
    },
    {
      "cell_type": "code",
      "execution_count": null,
      "metadata": {
        "id": "akXAVxH99Auv"
      },
      "outputs": [],
      "source": [
        "from sklearn.model_selection import train_test_split\n",
        "X_train, X_test, y_train, y_test = train_test_split(X, y, test_size=0.2, random_state=42, shuffle = True)\n",
        "X_train_scaled, X_test_scaled, y_train_scaled, y_test_scaled = train_test_split(X_scaled, y_scaled, test_size=0.2, random_state=42, shuffle = True)"
      ]
    },
    {
      "cell_type": "code",
      "source": [
        "import tensorflow as tf\n",
        "from tensorflow import keras\n",
        "\n",
        "def build_model():\n",
        "  model = keras.Sequential([\n",
        "    keras.layers.Input(shape=(X_train.shape[1],)),\n",
        "    keras.layers.Dense(64, activation=tf.nn.relu),\n",
        "    keras.layers.Dense(64, activation=tf.nn.relu),\n",
        "    keras.layers.Dense(1)\n",
        "  ], name=\"MLP_model\")\n",
        "\n",
        "  optimizer = tf.keras.optimizers.RMSprop(0.001)\n",
        "\n",
        "  model.compile(loss='mse',\n",
        "                optimizer=optimizer,\n",
        "                metrics=['mae'])\n",
        "  return model\n",
        "\n",
        "model = build_model()\n",
        "model.summary()"
      ],
      "metadata": {
        "colab": {
          "base_uri": "https://localhost:8080/"
        },
        "id": "H2CfB4XkDezm",
        "outputId": "7d66465b-7df4-4975-bb98-4b26aa4095b7"
      },
      "execution_count": null,
      "outputs": [
        {
          "output_type": "stream",
          "name": "stdout",
          "text": [
            "Model: \"MLP_model\"\n",
            "_________________________________________________________________\n",
            " Layer (type)                Output Shape              Param #   \n",
            "=================================================================\n",
            " dense_6 (Dense)             (None, 64)                2752      \n",
            "                                                                 \n",
            " dense_7 (Dense)             (None, 64)                4160      \n",
            "                                                                 \n",
            " dense_8 (Dense)             (None, 1)                 65        \n",
            "                                                                 \n",
            "=================================================================\n",
            "Total params: 6,977\n",
            "Trainable params: 6,977\n",
            "Non-trainable params: 0\n",
            "_________________________________________________________________\n"
          ]
        }
      ]
    },
    {
      "cell_type": "code",
      "source": [
        "import matplotlib.pyplot as plt\n",
        "def plot_history(history):\n",
        "  plt.figure()\n",
        "  plt.xlabel('Epoch')\n",
        "  plt.ylabel('Mean Abs Error [in €]')\n",
        "  plt.plot(history.epoch, np.array(history.history['mae']),\n",
        "           label='Train')\n",
        "  plt.plot(history.epoch, np.array(history.history['val_mae']),\n",
        "           label = 'Val')\n",
        "  plt.legend()\n",
        "  plt.ylim([min(history.history['val_mae']),max(history.history['val_mae'])])\n",
        "  plt.xlim([0,20])\n",
        "\n",
        "def plot_prediction(test_labels, test_predictions):\n",
        "  plt.figure()\n",
        "  plt.scatter(test_labels, test_predictions)\n",
        "  plt.xlabel('True Values')\n",
        "  plt.ylabel('Predictions')\n",
        "  plt.axis('equal')\n",
        "  plt.xlim([-10, 100])\n",
        "  plt.ylim([-30, 30])\n",
        "  _ = plt.plot([-10, 10],[-10,10])"
      ],
      "metadata": {
        "id": "Ch0VGf93JDMU"
      },
      "execution_count": null,
      "outputs": []
    },
    {
      "cell_type": "code",
      "source": [
        "EPOCHS = 20\n",
        "\n",
        "history_scaled = model.fit(X_train_scaled, y_train_scaled, epochs=EPOCHS,\n",
        "                    validation_split=0.2, verbose=1)"
      ],
      "metadata": {
        "colab": {
          "base_uri": "https://localhost:8080/"
        },
        "id": "7I1hibr7EJeU",
        "outputId": "c23dc4ad-5ecd-4ea4-f0f7-96519a46b063"
      },
      "execution_count": null,
      "outputs": [
        {
          "output_type": "stream",
          "name": "stdout",
          "text": [
            "Epoch 1/20\n",
            "1819/1819 [==============================] - 10s 5ms/step - loss: 1.1006 - mae: 0.5341 - val_loss: 0.4403 - val_mae: 0.4756\n",
            "Epoch 2/20\n",
            "1819/1819 [==============================] - 6s 3ms/step - loss: 1.2890 - mae: 0.5279 - val_loss: 2.4742 - val_mae: 1.1705\n",
            "Epoch 3/20\n",
            "1819/1819 [==============================] - 4s 2ms/step - loss: 1.3849 - mae: 0.5433 - val_loss: 0.6164 - val_mae: 0.5485\n",
            "Epoch 4/20\n",
            "1819/1819 [==============================] - 4s 2ms/step - loss: 1.2057 - mae: 0.5269 - val_loss: 0.4044 - val_mae: 0.4531\n",
            "Epoch 5/20\n",
            "1819/1819 [==============================] - 6s 3ms/step - loss: 0.7823 - mae: 0.4956 - val_loss: 0.3883 - val_mae: 0.4442\n",
            "Epoch 6/20\n",
            "1819/1819 [==============================] - 4s 2ms/step - loss: 1.0065 - mae: 0.5184 - val_loss: 0.6177 - val_mae: 0.5180\n",
            "Epoch 7/20\n",
            "1819/1819 [==============================] - 6s 3ms/step - loss: 1.1572 - mae: 0.5019 - val_loss: 0.4542 - val_mae: 0.4817\n",
            "Epoch 8/20\n",
            "1819/1819 [==============================] - 13s 7ms/step - loss: 1.1567 - mae: 0.4948 - val_loss: 0.3803 - val_mae: 0.4379\n",
            "Epoch 9/20\n",
            "1819/1819 [==============================] - 12s 7ms/step - loss: 0.9124 - mae: 0.4781 - val_loss: 0.3601 - val_mae: 0.4258\n",
            "Epoch 10/20\n",
            "1819/1819 [==============================] - 9s 5ms/step - loss: 0.9469 - mae: 0.4701 - val_loss: 0.4095 - val_mae: 0.4561\n",
            "Epoch 11/20\n",
            "1819/1819 [==============================] - 6s 3ms/step - loss: 1.0757 - mae: 0.4808 - val_loss: 0.3605 - val_mae: 0.4277\n",
            "Epoch 12/20\n",
            "1819/1819 [==============================] - 4s 2ms/step - loss: 0.8982 - mae: 0.4620 - val_loss: 0.3406 - val_mae: 0.4131\n",
            "Epoch 13/20\n",
            "1819/1819 [==============================] - 5s 3ms/step - loss: 0.6949 - mae: 0.4394 - val_loss: 0.4312 - val_mae: 0.4577\n",
            "Epoch 14/20\n",
            "1819/1819 [==============================] - 5s 3ms/step - loss: 0.7897 - mae: 0.4499 - val_loss: 0.3508 - val_mae: 0.4138\n",
            "Epoch 15/20\n",
            "1819/1819 [==============================] - 4s 2ms/step - loss: 1.0591 - mae: 0.4682 - val_loss: 0.3587 - val_mae: 0.4248\n",
            "Epoch 16/20\n",
            "1819/1819 [==============================] - 5s 3ms/step - loss: 0.8219 - mae: 0.4481 - val_loss: 0.3525 - val_mae: 0.4243\n",
            "Epoch 17/20\n",
            "1819/1819 [==============================] - 5s 3ms/step - loss: 0.8883 - mae: 0.4451 - val_loss: 0.4647 - val_mae: 0.4799\n",
            "Epoch 18/20\n",
            "1819/1819 [==============================] - 4s 2ms/step - loss: 0.7497 - mae: 0.4310 - val_loss: 0.4463 - val_mae: 0.4524\n",
            "Epoch 19/20\n",
            "1819/1819 [==============================] - 6s 3ms/step - loss: 0.6755 - mae: 0.4249 - val_loss: 0.3330 - val_mae: 0.4047\n",
            "Epoch 20/20\n",
            "1819/1819 [==============================] - 5s 3ms/step - loss: 0.7634 - mae: 0.4323 - val_loss: 0.3899 - val_mae: 0.4505\n"
          ]
        }
      ]
    },
    {
      "cell_type": "code",
      "source": [
        "evaluate(model, X_test_scaled, y_test_scaled)"
      ],
      "metadata": {
        "colab": {
          "base_uri": "https://localhost:8080/"
        },
        "id": "_lII4Sh4Bd9Q",
        "outputId": "fffdbacd-db96-4a3d-9f66-6953586f33bd"
      },
      "execution_count": null,
      "outputs": [
        {
          "output_type": "stream",
          "name": "stdout",
          "text": [
            "569/569 [==============================] - 1s 1ms/step\n",
            "R2: 0.5192020338038864\n",
            "MAE: 0.4592678044731084\n",
            "MSE: 0.44255444981625425\n",
            "RMSE: 0.6652476605116731\n",
            "MAPE: 1.9907029463381303\n"
          ]
        }
      ]
    },
    {
      "cell_type": "code",
      "source": [
        "plot_history(history_scaled)"
      ],
      "metadata": {
        "colab": {
          "base_uri": "https://localhost:8080/",
          "height": 449
        },
        "id": "iHK6PGLoEic5",
        "outputId": "f8a737ae-ab1a-4089-99d9-e0aa40447549"
      },
      "execution_count": null,
      "outputs": [
        {
          "output_type": "display_data",
          "data": {
            "text/plain": [
              "<Figure size 640x480 with 1 Axes>"
            ],
            "image/png": "[encoded data removed]"
          },
          "metadata": {}
        }
      ]
    },
    {
      "cell_type": "code",
      "source": [
        "# nicht skalierte Daten"
      ],
      "metadata": {
        "id": "1XfwljofFrjH"
      },
      "execution_count": null,
      "outputs": []
    },
    {
      "cell_type": "code",
      "source": [
        "import matplotlib.pyplot as plt\n",
        "def plot_history(history):\n",
        "  plt.figure()\n",
        "  plt.xlabel('Epoch')\n",
        "  plt.ylabel('Mean Abs Error [in €]')\n",
        "  plt.plot(history.epoch, np.array(history.history['mae']),\n",
        "           label='Train')\n",
        "  plt.plot(history.epoch, np.array(history.history['val_mae']),\n",
        "           label = 'Val')\n",
        "  plt.legend()\n",
        "  plt.ylim([20,max(history.history['val_mae'])])\n",
        "  plt.xlim([0,50])"
      ],
      "metadata": {
        "id": "AAdrF6XuJdcN"
      },
      "execution_count": null,
      "outputs": []
    },
    {
      "cell_type": "code",
      "source": [
        "EPOCHS = 50\n",
        "\n",
        "history = model.fit(X_train, y_train, epochs=EPOCHS,\n",
        "                    validation_split=0.2, verbose=1)"
      ],
      "metadata": {
        "colab": {
          "base_uri": "https://localhost:8080/"
        },
        "outputId": "a4304af6-b0f3-4bca-e4bb-7c39bdff5cb6",
        "id": "lweqBahZHdqs"
      },
      "execution_count": null,
      "outputs": [
        {
          "output_type": "stream",
          "name": "stdout",
          "text": [
            "Epoch 1/50\n",
            "1819/1819 [==============================] - 10s 6ms/step - loss: 3365.4966 - mae: 38.9115 - val_loss: 3292.8914 - val_mae: 49.0797\n",
            "Epoch 2/50\n",
            "1819/1819 [==============================] - 4s 2ms/step - loss: 2578.7412 - mae: 34.4618 - val_loss: 1749.1882 - val_mae: 30.7689\n",
            "Epoch 3/50\n",
            "1819/1819 [==============================] - 4s 2ms/step - loss: 2341.2163 - mae: 32.3972 - val_loss: 2563.1155 - val_mae: 41.9399\n",
            "Epoch 4/50\n",
            "1819/1819 [==============================] - 5s 3ms/step - loss: 2186.2996 - mae: 31.0018 - val_loss: 1663.3453 - val_mae: 31.6363\n",
            "Epoch 5/50\n",
            "1819/1819 [==============================] - 4s 2ms/step - loss: 2093.2410 - mae: 30.1038 - val_loss: 1435.6307 - val_mae: 27.9443\n",
            "Epoch 6/50\n",
            "1819/1819 [==============================] - 4s 2ms/step - loss: 2041.9302 - mae: 29.4628 - val_loss: 1381.5854 - val_mae: 27.6779\n",
            "Epoch 7/50\n",
            "1819/1819 [==============================] - 5s 3ms/step - loss: 2004.7507 - mae: 29.0814 - val_loss: 1408.8329 - val_mae: 28.5276\n",
            "Epoch 8/50\n",
            "1819/1819 [==============================] - 7s 4ms/step - loss: 1974.1719 - mae: 28.7943 - val_loss: 1590.2454 - val_mae: 30.8314\n",
            "Epoch 9/50\n",
            "1819/1819 [==============================] - 4s 2ms/step - loss: 1952.3978 - mae: 28.5333 - val_loss: 1637.9893 - val_mae: 31.6454\n",
            "Epoch 10/50\n",
            "1819/1819 [==============================] - 4s 2ms/step - loss: 1930.7657 - mae: 28.2316 - val_loss: 1426.3246 - val_mae: 28.8655\n",
            "Epoch 11/50\n",
            "1819/1819 [==============================] - 5s 3ms/step - loss: 1914.4503 - mae: 28.0500 - val_loss: 1400.1310 - val_mae: 28.4047\n",
            "Epoch 12/50\n",
            "1819/1819 [==============================] - 4s 2ms/step - loss: 1884.8379 - mae: 27.7168 - val_loss: 1584.6609 - val_mae: 29.1221\n",
            "Epoch 13/50\n",
            "1819/1819 [==============================] - 4s 2ms/step - loss: 1863.0879 - mae: 27.4731 - val_loss: 2023.3217 - val_mae: 35.4930\n",
            "Epoch 14/50\n",
            "1819/1819 [==============================] - 4s 2ms/step - loss: 1844.7784 - mae: 27.2307 - val_loss: 1518.0792 - val_mae: 29.9994\n",
            "Epoch 15/50\n",
            "1819/1819 [==============================] - 5s 3ms/step - loss: 1821.2500 - mae: 26.9111 - val_loss: 1315.0929 - val_mae: 27.1778\n",
            "Epoch 16/50\n",
            "1819/1819 [==============================] - 4s 2ms/step - loss: 1799.7709 - mae: 26.6825 - val_loss: 1502.2341 - val_mae: 29.8928\n",
            "Epoch 17/50\n",
            "1819/1819 [==============================] - 4s 2ms/step - loss: 1790.2559 - mae: 26.5134 - val_loss: 1295.6111 - val_mae: 27.2362\n",
            "Epoch 18/50\n",
            "1819/1819 [==============================] - 6s 3ms/step - loss: 1773.3884 - mae: 26.3020 - val_loss: 1262.9885 - val_mae: 25.3765\n",
            "Epoch 19/50\n",
            "1819/1819 [==============================] - 4s 2ms/step - loss: 1753.5315 - mae: 26.0750 - val_loss: 1291.0502 - val_mae: 25.6044\n",
            "Epoch 20/50\n",
            "1819/1819 [==============================] - 4s 2ms/step - loss: 1741.0023 - mae: 25.8535 - val_loss: 1178.9044 - val_mae: 25.2943\n",
            "Epoch 21/50\n",
            "1819/1819 [==============================] - 5s 3ms/step - loss: 1728.3634 - mae: 25.6506 - val_loss: 1182.0347 - val_mae: 24.4376\n",
            "Epoch 22/50\n",
            "1819/1819 [==============================] - 4s 2ms/step - loss: 1721.0403 - mae: 25.6247 - val_loss: 1141.6814 - val_mae: 24.4850\n",
            "Epoch 23/50\n",
            "1819/1819 [==============================] - 4s 2ms/step - loss: 1705.7931 - mae: 25.4559 - val_loss: 1150.4653 - val_mae: 24.0470\n",
            "Epoch 24/50\n",
            "1819/1819 [==============================] - 5s 3ms/step - loss: 1697.6886 - mae: 25.3369 - val_loss: 1245.7424 - val_mae: 25.2093\n",
            "Epoch 25/50\n",
            "1819/1819 [==============================] - 5s 3ms/step - loss: 1693.1067 - mae: 25.2602 - val_loss: 1424.0636 - val_mae: 27.1744\n",
            "Epoch 26/50\n",
            "1819/1819 [==============================] - 4s 2ms/step - loss: 1685.1544 - mae: 25.1515 - val_loss: 1284.8170 - val_mae: 25.4360\n",
            "Epoch 27/50\n",
            "1819/1819 [==============================] - 4s 2ms/step - loss: 1669.9485 - mae: 24.9726 - val_loss: 1198.5370 - val_mae: 25.3595\n",
            "Epoch 28/50\n",
            "1819/1819 [==============================] - 5s 3ms/step - loss: 1660.9731 - mae: 24.8885 - val_loss: 1115.8208 - val_mae: 24.0393\n",
            "Epoch 29/50\n",
            "1819/1819 [==============================] - 4s 2ms/step - loss: 1652.1354 - mae: 24.7645 - val_loss: 1169.9138 - val_mae: 24.0488\n",
            "Epoch 30/50\n",
            "1819/1819 [==============================] - 4s 2ms/step - loss: 1642.9058 - mae: 24.6584 - val_loss: 1463.8950 - val_mae: 28.1295\n",
            "Epoch 31/50\n",
            "1819/1819 [==============================] - 5s 3ms/step - loss: 1631.2876 - mae: 24.5823 - val_loss: 1114.8361 - val_mae: 23.7088\n",
            "Epoch 32/50\n",
            "1819/1819 [==============================] - 4s 2ms/step - loss: 1629.7482 - mae: 24.5097 - val_loss: 1224.7433 - val_mae: 25.2924\n",
            "Epoch 33/50\n",
            "1819/1819 [==============================] - 4s 2ms/step - loss: 1618.2778 - mae: 24.3600 - val_loss: 1112.5627 - val_mae: 23.6185\n",
            "Epoch 34/50\n",
            "1819/1819 [==============================] - 5s 3ms/step - loss: 1604.9530 - mae: 24.2630 - val_loss: 1719.0754 - val_mae: 32.8863\n",
            "Epoch 35/50\n",
            "1819/1819 [==============================] - 6s 3ms/step - loss: 1603.2061 - mae: 24.2221 - val_loss: 1497.6007 - val_mae: 29.7425\n",
            "Epoch 36/50\n",
            "1819/1819 [==============================] - 12s 6ms/step - loss: 1593.6669 - mae: 24.1586 - val_loss: 1045.0658 - val_mae: 23.0976\n",
            "Epoch 37/50\n",
            "1819/1819 [==============================] - 7s 4ms/step - loss: 1588.8639 - mae: 24.0477 - val_loss: 1271.3724 - val_mae: 25.1819\n",
            "Epoch 38/50\n",
            "1819/1819 [==============================] - 5s 3ms/step - loss: 1581.2565 - mae: 23.9561 - val_loss: 1037.8335 - val_mae: 22.6918\n",
            "Epoch 39/50\n",
            "1819/1819 [==============================] - 4s 2ms/step - loss: 1576.4559 - mae: 23.8784 - val_loss: 1072.9115 - val_mae: 23.1932\n",
            "Epoch 40/50\n",
            "1819/1819 [==============================] - 4s 2ms/step - loss: 1574.2772 - mae: 23.8383 - val_loss: 1263.5157 - val_mae: 27.2944\n",
            "Epoch 41/50\n",
            "1819/1819 [==============================] - 4s 2ms/step - loss: 1563.3953 - mae: 23.6777 - val_loss: 1086.2318 - val_mae: 23.9026\n",
            "Epoch 42/50\n",
            "1819/1819 [==============================] - 5s 3ms/step - loss: 1560.6124 - mae: 23.6360 - val_loss: 1057.7095 - val_mae: 23.5638\n",
            "Epoch 43/50\n",
            "1819/1819 [==============================] - 4s 2ms/step - loss: 1558.8817 - mae: 23.7379 - val_loss: 1156.9944 - val_mae: 24.8085\n",
            "Epoch 44/50\n",
            "1819/1819 [==============================] - 4s 2ms/step - loss: 1556.7834 - mae: 23.5738 - val_loss: 1076.8145 - val_mae: 23.0576\n",
            "Epoch 45/50\n",
            "1819/1819 [==============================] - 8s 4ms/step - loss: 1553.8193 - mae: 23.6159 - val_loss: 1249.0919 - val_mae: 25.2045\n",
            "Epoch 46/50\n",
            "1819/1819 [==============================] - 6s 3ms/step - loss: 1549.5895 - mae: 23.5648 - val_loss: 1030.7513 - val_mae: 22.5821\n",
            "Epoch 47/50\n",
            "1819/1819 [==============================] - 5s 3ms/step - loss: 1545.6885 - mae: 23.4840 - val_loss: 1148.4941 - val_mae: 24.0623\n",
            "Epoch 48/50\n",
            "1819/1819 [==============================] - 4s 2ms/step - loss: 1539.3121 - mae: 23.4674 - val_loss: 1014.1486 - val_mae: 22.3873\n",
            "Epoch 49/50\n",
            "1819/1819 [==============================] - 4s 2ms/step - loss: 1544.7848 - mae: 23.4071 - val_loss: 1067.8846 - val_mae: 23.1160\n",
            "Epoch 50/50\n",
            "1819/1819 [==============================] - 5s 2ms/step - loss: 1537.4379 - mae: 23.3886 - val_loss: 1062.3818 - val_mae: 23.4356\n"
          ]
        }
      ]
    },
    {
      "cell_type": "code",
      "source": [
        "plot_history(history)"
      ],
      "metadata": {
        "colab": {
          "base_uri": "https://localhost:8080/",
          "height": 449
        },
        "outputId": "9a8324b9-9fd3-46f1-a056-3bdc85fcb14c",
        "id": "NMHhKExUHdqv"
      },
      "execution_count": null,
      "outputs": [
        {
          "output_type": "display_data",
          "data": {
            "text/plain": [
              "<Figure size 640x480 with 1 Axes>"
            ],
            "image/png": "[encoded data removed]"
          },
          "metadata": {}
        }
      ]
    },
    {
      "cell_type": "markdown",
      "source": [
        "> Aus der Grafik können wir erkennen, dass der Mean Absolute Error bei ~24€ liegt."
      ],
      "metadata": {
        "id": "eDAsFLfDLnq6"
      }
    },
    {
      "cell_type": "code",
      "source": [
        "def build_conv1D_model():\n",
        "\n",
        "  n_timesteps = X_train.shape[1]\n",
        "  n_features  = 1\n",
        "  model = keras.Sequential(name=\"model_conv1D\")\n",
        "  model.add(keras.layers.Input(shape=(n_timesteps,n_features)))\n",
        "  model.add(keras.layers.Conv1D(filters=64, kernel_size=7, activation='relu', name=\"Conv1D_1\"))\n",
        "  model.add(keras.layers.Dropout(0.5))\n",
        "  model.add(keras.layers.Conv1D(filters=32, kernel_size=3, activation='relu', name=\"Conv1D_2\"))\n",
        "\n",
        "  model.add(keras.layers.Conv1D(filters=16, kernel_size=2, activation='relu', name=\"Conv1D_3\"))\n",
        "\n",
        "  model.add(keras.layers.MaxPooling1D(pool_size=2, name=\"MaxPooling1D\"))\n",
        "  model.add(keras.layers.Flatten())\n",
        "  model.add(keras.layers.Dense(32, activation='relu', name=\"Dense_1\"))\n",
        "  model.add(keras.layers.Dense(n_features, name=\"Dense_2\"))\n",
        "\n",
        "\n",
        "  optimizer = tf.keras.optimizers.RMSprop(0.001)\n",
        "\n",
        "  model.compile(loss='mse',optimizer=optimizer,metrics=['mae'])\n",
        "  return model\n",
        "\n",
        "model_conv1D = build_conv1D_model()\n",
        "model_conv1D.summary()"
      ],
      "metadata": {
        "colab": {
          "base_uri": "https://localhost:8080/"
        },
        "id": "DTUUUONSJo7u",
        "outputId": "526d68db-5601-4d85-cd40-791bf6eed248"
      },
      "execution_count": null,
      "outputs": [
        {
          "output_type": "stream",
          "name": "stdout",
          "text": [
            "Model: \"model_conv1D\"\n",
            "_________________________________________________________________\n",
            " Layer (type)                Output Shape              Param #   \n",
            "=================================================================\n",
            " Conv1D_1 (Conv1D)           (None, 36, 64)            512       \n",
            "                                                                 \n",
            " dropout (Dropout)           (None, 36, 64)            0         \n",
            "                                                                 \n",
            " Conv1D_2 (Conv1D)           (None, 34, 32)            6176      \n",
            "                                                                 \n",
            " Conv1D_3 (Conv1D)           (None, 33, 16)            1040      \n",
            "                                                                 \n",
            " MaxPooling1D (MaxPooling1D)  (None, 16, 16)           0         \n",
            "                                                                 \n",
            " flatten_3 (Flatten)         (None, 256)               0         \n",
            "                                                                 \n",
            " Dense_1 (Dense)             (None, 32)                8224      \n",
            "                                                                 \n",
            " Dense_2 (Dense)             (None, 1)                 33        \n",
            "                                                                 \n",
            "=================================================================\n",
            "Total params: 15,985\n",
            "Trainable params: 15,985\n",
            "Non-trainable params: 0\n",
            "_________________________________________________________________\n"
          ]
        }
      ]
    },
    {
      "cell_type": "code",
      "source": [
        "[loss, mae] = model_conv1D.evaluate(X_test, y_test, verbose=0)\n",
        "print(f'Mean Abs Error (test data): {mae}')"
      ],
      "metadata": {
        "colab": {
          "base_uri": "https://localhost:8080/"
        },
        "id": "4noD78RHIGnL",
        "outputId": "d5ce2851-3586-45a7-fd33-e3ce567a1949"
      },
      "execution_count": null,
      "outputs": [
        {
          "output_type": "stream",
          "name": "stdout",
          "text": [
            "Mean Abs Error (test data): 190.51576232910156\n"
          ]
        }
      ]
    },
    {
      "cell_type": "code",
      "source": [
        "test_predictions = model_conv1D.predict(X_test).flatten()\n",
        "plot_prediction(y_test, test_predictions)"
      ],
      "metadata": {
        "colab": {
          "base_uri": "https://localhost:8080/",
          "height": 899
        },
        "id": "vu6yJYAKJgh6",
        "outputId": "eba61f0f-d71a-4d2f-c61b-52b0156b8264"
      },
      "execution_count": null,
      "outputs": [
        {
          "output_type": "stream",
          "name": "stdout",
          "text": [
            "569/569 [==============================] - 4s 6ms/step\n"
          ]
        },
        {
          "output_type": "display_data",
          "data": {
            "text/plain": [
              "<Figure size 640x480 with 1 Axes>"
            ],
            "image/png": "[encoded data removed]"
          },
          "metadata": {}
        },
        {
          "output_type": "display_data",
          "data": {
            "text/plain": [
              "<Figure size 640x480 with 1 Axes>"
            ],
            "image/png": "[encoded data removed]"
          },
          "metadata": {}
        }
      ]
    },
    {
      "cell_type": "markdown",
      "source": [
        "## Optimizer: SGD"
      ],
      "metadata": {
        "id": "ovVvj8VXSDFo"
      }
    },
    {
      "cell_type": "code",
      "source": [
        "from keras.optimizers import SGD\n",
        "\n",
        "def build_model():\n",
        "  model = keras.Sequential([\n",
        "    keras.layers.Input(shape=(X_train.shape[1],)),\n",
        "    keras.layers.Dense(64, activation=tf.nn.relu),\n",
        "    keras.layers.Dense(64, activation=tf.nn.relu),\n",
        "    keras.layers.Dense(1)\n",
        "  ], name=\"MLP_model\")\n",
        "\n",
        "  optimizer = SGD(lr=0.01, momentum=0.9)\n",
        "\n",
        "  model.compile(loss='mse',\n",
        "                optimizer=optimizer,\n",
        "                metrics=['mae'])\n",
        "  return model\n",
        "\n",
        "model = build_model()\n",
        "model.summary()"
      ],
      "metadata": {
        "colab": {
          "base_uri": "https://localhost:8080/"
        },
        "outputId": "d3c8afb4-a68a-4ac3-9272-4e35a289753f",
        "id": "Rx4Z1nEaSJ-l"
      },
      "execution_count": null,
      "outputs": [
        {
          "output_type": "stream",
          "name": "stdout",
          "text": [
            "Model: \"MLP_model\"\n",
            "_________________________________________________________________\n",
            " Layer (type)                Output Shape              Param #   \n",
            "=================================================================\n",
            " dense_12 (Dense)            (None, 64)                2752      \n",
            "                                                                 \n",
            " dense_13 (Dense)            (None, 64)                4160      \n",
            "                                                                 \n",
            " dense_14 (Dense)            (None, 1)                 65        \n",
            "                                                                 \n",
            "=================================================================\n",
            "Total params: 6,977\n",
            "Trainable params: 6,977\n",
            "Non-trainable params: 0\n",
            "_________________________________________________________________\n"
          ]
        },
        {
          "output_type": "stream",
          "name": "stderr",
          "text": [
            "/usr/local/lib/python3.10/dist-packages/keras/optimizers/legacy/gradient_descent.py:114: UserWarning: The `lr` argument is deprecated, use `learning_rate` instead.\n",
            "  super().__init__(name, **kwargs)\n"
          ]
        }
      ]
    },
    {
      "cell_type": "code",
      "source": [
        "EPOCHS = 50\n",
        "\n",
        "history_sdg = model.fit(X_train, y_train, epochs=EPOCHS,\n",
        "                    validation_split=0.2, verbose=1)"
      ],
      "metadata": {
        "colab": {
          "base_uri": "https://localhost:8080/",
          "height": 948
        },
        "outputId": "cfe6d540-b04d-4f85-ce42-82f96a7db2d7",
        "id": "lniwBYgWScui"
      },
      "execution_count": null,
      "outputs": [
        {
          "output_type": "stream",
          "name": "stdout",
          "text": [
            "Epoch 1/50\n",
            "1819/1819 [==============================] - 7s 3ms/step - loss: nan - mae: nan - val_loss: nan - val_mae: nan\n",
            "Epoch 2/50\n",
            "1819/1819 [==============================] - 4s 2ms/step - loss: nan - mae: nan - val_loss: nan - val_mae: nan\n",
            "Epoch 3/50\n",
            "1819/1819 [==============================] - 5s 2ms/step - loss: nan - mae: nan - val_loss: nan - val_mae: nan\n",
            "Epoch 4/50\n",
            "1819/1819 [==============================] - 4s 2ms/step - loss: nan - mae: nan - val_loss: nan - val_mae: nan\n",
            "Epoch 5/50\n",
            "1819/1819 [==============================] - 4s 2ms/step - loss: nan - mae: nan - val_loss: nan - val_mae: nan\n",
            "Epoch 6/50\n",
            "1819/1819 [==============================] - 5s 3ms/step - loss: nan - mae: nan - val_loss: nan - val_mae: nan\n",
            "Epoch 7/50\n",
            "1819/1819 [==============================] - 4s 2ms/step - loss: nan - mae: nan - val_loss: nan - val_mae: nan\n",
            "Epoch 8/50\n",
            "1819/1819 [==============================] - 4s 2ms/step - loss: nan - mae: nan - val_loss: nan - val_mae: nan\n",
            "Epoch 9/50\n",
            "1819/1819 [==============================] - 4s 2ms/step - loss: nan - mae: nan - val_loss: nan - val_mae: nan\n",
            "Epoch 10/50\n",
            "1819/1819 [==============================] - 5s 3ms/step - loss: nan - mae: nan - val_loss: nan - val_mae: nan\n",
            "Epoch 11/50\n",
            "1819/1819 [==============================] - 4s 2ms/step - loss: nan - mae: nan - val_loss: nan - val_mae: nan\n",
            "Epoch 12/50\n",
            "1819/1819 [==============================] - 4s 2ms/step - loss: nan - mae: nan - val_loss: nan - val_mae: nan\n",
            "Epoch 13/50\n",
            "1819/1819 [==============================] - 5s 3ms/step - loss: nan - mae: nan - val_loss: nan - val_mae: nan\n",
            "Epoch 14/50\n",
            "1819/1819 [==============================] - 4s 2ms/step - loss: nan - mae: nan - val_loss: nan - val_mae: nan\n",
            "Epoch 15/50\n",
            "1102/1819 [=================>............] - ETA: 1s - loss: nan - mae: nan"
          ]
        },
        {
          "output_type": "error",
          "ename": "KeyboardInterrupt",
          "evalue": "ignored",
          "traceback": [
            "\u001b[0;31m---------------------------------------------------------------------------\u001b[0m",
            "\u001b[0;31mKeyboardInterrupt\u001b[0m                         Traceback (most recent call last)",
            "\u001b[0;32m<ipython-input-144-63f4deb943f7>\u001b[0m in \u001b[0;36m<cell line: 3>\u001b[0;34m()\u001b[0m\n\u001b[1;32m      1\u001b[0m \u001b[0mEPOCHS\u001b[0m \u001b[0;34m=\u001b[0m \u001b[0;36m50\u001b[0m\u001b[0;34m\u001b[0m\u001b[0;34m\u001b[0m\u001b[0m\n\u001b[1;32m      2\u001b[0m \u001b[0;34m\u001b[0m\u001b[0m\n\u001b[0;32m----> 3\u001b[0;31m history_sdg = model.fit(X_train, y_train, epochs=EPOCHS,\n\u001b[0m\u001b[1;32m      4\u001b[0m                     validation_split=0.2, verbose=1)\n",
            "\u001b[0;32m/usr/local/lib/python3.10/dist-packages/keras/utils/traceback_utils.py\u001b[0m in \u001b[0;36merror_handler\u001b[0;34m(*args, **kwargs)\u001b[0m\n\u001b[1;32m     63\u001b[0m         \u001b[0mfiltered_tb\u001b[0m \u001b[0;34m=\u001b[0m \u001b[0;32mNone\u001b[0m\u001b[0;34m\u001b[0m\u001b[0;34m\u001b[0m\u001b[0m\n\u001b[1;32m     64\u001b[0m         \u001b[0;32mtry\u001b[0m\u001b[0;34m:\u001b[0m\u001b[0;34m\u001b[0m\u001b[0;34m\u001b[0m\u001b[0m\n\u001b[0;32m---> 65\u001b[0;31m             \u001b[0;32mreturn\u001b[0m \u001b[0mfn\u001b[0m\u001b[0;34m(\u001b[0m\u001b[0;34m*\u001b[0m\u001b[0margs\u001b[0m\u001b[0;34m,\u001b[0m \u001b[0;34m**\u001b[0m\u001b[0mkwargs\u001b[0m\u001b[0;34m)\u001b[0m\u001b[0;34m\u001b[0m\u001b[0;34m\u001b[0m\u001b[0m\n\u001b[0m\u001b[1;32m     66\u001b[0m         \u001b[0;32mexcept\u001b[0m \u001b[0mException\u001b[0m \u001b[0;32mas\u001b[0m \u001b[0me\u001b[0m\u001b[0;34m:\u001b[0m\u001b[0;34m\u001b[0m\u001b[0;34m\u001b[0m\u001b[0m\n\u001b[1;32m     67\u001b[0m             \u001b[0mfiltered_tb\u001b[0m \u001b[0;34m=\u001b[0m \u001b[0m_process_traceback_frames\u001b[0m\u001b[0;34m(\u001b[0m\u001b[0me\u001b[0m\u001b[0;34m.\u001b[0m\u001b[0m__traceback__\u001b[0m\u001b[0;34m)\u001b[0m\u001b[0;34m\u001b[0m\u001b[0;34m\u001b[0m\u001b[0m\n",
            "\u001b[0;32m/usr/local/lib/python3.10/dist-packages/keras/engine/training.py\u001b[0m in \u001b[0;36mfit\u001b[0;34m(self, x, y, batch_size, epochs, verbose, callbacks, validation_split, validation_data, shuffle, class_weight, sample_weight, initial_epoch, steps_per_epoch, validation_steps, validation_batch_size, validation_freq, max_queue_size, workers, use_multiprocessing)\u001b[0m\n\u001b[1;32m   1683\u001b[0m                         ):\n\u001b[1;32m   1684\u001b[0m                             \u001b[0mcallbacks\u001b[0m\u001b[0;34m.\u001b[0m\u001b[0mon_train_batch_begin\u001b[0m\u001b[0;34m(\u001b[0m\u001b[0mstep\u001b[0m\u001b[0;34m)\u001b[0m\u001b[0;34m\u001b[0m\u001b[0;34m\u001b[0m\u001b[0m\n\u001b[0;32m-> 1685\u001b[0;31m                             \u001b[0mtmp_logs\u001b[0m \u001b[0;34m=\u001b[0m \u001b[0mself\u001b[0m\u001b[0;34m.\u001b[0m\u001b[0mtrain_function\u001b[0m\u001b[0;34m(\u001b[0m\u001b[0miterator\u001b[0m\u001b[0;34m)\u001b[0m\u001b[0;34m\u001b[0m\u001b[0;34m\u001b[0m\u001b[0m\n\u001b[0m\u001b[1;32m   1686\u001b[0m                             \u001b[0;32mif\u001b[0m \u001b[0mdata_handler\u001b[0m\u001b[0;34m.\u001b[0m\u001b[0mshould_sync\u001b[0m\u001b[0;34m:\u001b[0m\u001b[0;34m\u001b[0m\u001b[0;34m\u001b[0m\u001b[0m\n\u001b[1;32m   1687\u001b[0m                                 \u001b[0mcontext\u001b[0m\u001b[0;34m.\u001b[0m\u001b[0masync_wait\u001b[0m\u001b[0;34m(\u001b[0m\u001b[0;34m)\u001b[0m\u001b[0;34m\u001b[0m\u001b[0;34m\u001b[0m\u001b[0m\n",
            "\u001b[0;32m/usr/local/lib/python3.10/dist-packages/tensorflow/python/util/traceback_utils.py\u001b[0m in \u001b[0;36merror_handler\u001b[0;34m(*args, **kwargs)\u001b[0m\n\u001b[1;32m    148\u001b[0m     \u001b[0mfiltered_tb\u001b[0m \u001b[0;34m=\u001b[0m \u001b[0;32mNone\u001b[0m\u001b[0;34m\u001b[0m\u001b[0;34m\u001b[0m\u001b[0m\n\u001b[1;32m    149\u001b[0m     \u001b[0;32mtry\u001b[0m\u001b[0;34m:\u001b[0m\u001b[0;34m\u001b[0m\u001b[0;34m\u001b[0m\u001b[0m\n\u001b[0;32m--> 150\u001b[0;31m       \u001b[0;32mreturn\u001b[0m \u001b[0mfn\u001b[0m\u001b[0;34m(\u001b[0m\u001b[0;34m*\u001b[0m\u001b[0margs\u001b[0m\u001b[0;34m,\u001b[0m \u001b[0;34m**\u001b[0m\u001b[0mkwargs\u001b[0m\u001b[0;34m)\u001b[0m\u001b[0;34m\u001b[0m\u001b[0;34m\u001b[0m\u001b[0m\n\u001b[0m\u001b[1;32m    151\u001b[0m     \u001b[0;32mexcept\u001b[0m \u001b[0mException\u001b[0m \u001b[0;32mas\u001b[0m \u001b[0me\u001b[0m\u001b[0;34m:\u001b[0m\u001b[0;34m\u001b[0m\u001b[0;34m\u001b[0m\u001b[0m\n\u001b[1;32m    152\u001b[0m       \u001b[0mfiltered_tb\u001b[0m \u001b[0;34m=\u001b[0m \u001b[0m_process_traceback_frames\u001b[0m\u001b[0;34m(\u001b[0m\u001b[0me\u001b[0m\u001b[0;34m.\u001b[0m\u001b[0m__traceback__\u001b[0m\u001b[0;34m)\u001b[0m\u001b[0;34m\u001b[0m\u001b[0;34m\u001b[0m\u001b[0m\n",
            "\u001b[0;32m/usr/local/lib/python3.10/dist-packages/tensorflow/python/eager/polymorphic_function/polymorphic_function.py\u001b[0m in \u001b[0;36m__call__\u001b[0;34m(self, *args, **kwds)\u001b[0m\n\u001b[1;32m    892\u001b[0m \u001b[0;34m\u001b[0m\u001b[0m\n\u001b[1;32m    893\u001b[0m       \u001b[0;32mwith\u001b[0m \u001b[0mOptionalXlaContext\u001b[0m\u001b[0;34m(\u001b[0m\u001b[0mself\u001b[0m\u001b[0;34m.\u001b[0m\u001b[0m_jit_compile\u001b[0m\u001b[0;34m)\u001b[0m\u001b[0;34m:\u001b[0m\u001b[0;34m\u001b[0m\u001b[0;34m\u001b[0m\u001b[0m\n\u001b[0;32m--> 894\u001b[0;31m         \u001b[0mresult\u001b[0m \u001b[0;34m=\u001b[0m \u001b[0mself\u001b[0m\u001b[0;34m.\u001b[0m\u001b[0m_call\u001b[0m\u001b[0;34m(\u001b[0m\u001b[0;34m*\u001b[0m\u001b[0margs\u001b[0m\u001b[0;34m,\u001b[0m \u001b[0;34m**\u001b[0m\u001b[0mkwds\u001b[0m\u001b[0;34m)\u001b[0m\u001b[0;34m\u001b[0m\u001b[0;34m\u001b[0m\u001b[0m\n\u001b[0m\u001b[1;32m    895\u001b[0m \u001b[0;34m\u001b[0m\u001b[0m\n\u001b[1;32m    896\u001b[0m       \u001b[0mnew_tracing_count\u001b[0m \u001b[0;34m=\u001b[0m \u001b[0mself\u001b[0m\u001b[0;34m.\u001b[0m\u001b[0mexperimental_get_tracing_count\u001b[0m\u001b[0;34m(\u001b[0m\u001b[0;34m)\u001b[0m\u001b[0;34m\u001b[0m\u001b[0;34m\u001b[0m\u001b[0m\n",
            "\u001b[0;32m/usr/local/lib/python3.10/dist-packages/tensorflow/python/eager/polymorphic_function/polymorphic_function.py\u001b[0m in \u001b[0;36m_call\u001b[0;34m(self, *args, **kwds)\u001b[0m\n\u001b[1;32m    924\u001b[0m       \u001b[0;31m# In this case we have created variables on the first call, so we run the\u001b[0m\u001b[0;34m\u001b[0m\u001b[0;34m\u001b[0m\u001b[0m\n\u001b[1;32m    925\u001b[0m       \u001b[0;31m# defunned version which is guaranteed to never create variables.\u001b[0m\u001b[0;34m\u001b[0m\u001b[0;34m\u001b[0m\u001b[0m\n\u001b[0;32m--> 926\u001b[0;31m       \u001b[0;32mreturn\u001b[0m \u001b[0mself\u001b[0m\u001b[0;34m.\u001b[0m\u001b[0m_no_variable_creation_fn\u001b[0m\u001b[0;34m(\u001b[0m\u001b[0;34m*\u001b[0m\u001b[0margs\u001b[0m\u001b[0;34m,\u001b[0m \u001b[0;34m**\u001b[0m\u001b[0mkwds\u001b[0m\u001b[0;34m)\u001b[0m  \u001b[0;31m# pylint: disable=not-callable\u001b[0m\u001b[0;34m\u001b[0m\u001b[0;34m\u001b[0m\u001b[0m\n\u001b[0m\u001b[1;32m    927\u001b[0m     \u001b[0;32melif\u001b[0m \u001b[0mself\u001b[0m\u001b[0;34m.\u001b[0m\u001b[0m_variable_creation_fn\u001b[0m \u001b[0;32mis\u001b[0m \u001b[0;32mnot\u001b[0m \u001b[0;32mNone\u001b[0m\u001b[0;34m:\u001b[0m\u001b[0;34m\u001b[0m\u001b[0;34m\u001b[0m\u001b[0m\n\u001b[1;32m    928\u001b[0m       \u001b[0;31m# Release the lock early so that multiple threads can perform the call\u001b[0m\u001b[0;34m\u001b[0m\u001b[0;34m\u001b[0m\u001b[0m\n",
            "\u001b[0;32m/usr/local/lib/python3.10/dist-packages/tensorflow/python/eager/polymorphic_function/tracing_compiler.py\u001b[0m in \u001b[0;36m__call__\u001b[0;34m(self, *args, **kwargs)\u001b[0m\n\u001b[1;32m    140\u001b[0m     \u001b[0;32mwith\u001b[0m \u001b[0mself\u001b[0m\u001b[0;34m.\u001b[0m\u001b[0m_lock\u001b[0m\u001b[0;34m:\u001b[0m\u001b[0;34m\u001b[0m\u001b[0;34m\u001b[0m\u001b[0m\n\u001b[1;32m    141\u001b[0m       (concrete_function,\n\u001b[0;32m--> 142\u001b[0;31m        filtered_flat_args) = self._maybe_define_function(args, kwargs)\n\u001b[0m\u001b[1;32m    143\u001b[0m     return concrete_function._call_flat(\n\u001b[1;32m    144\u001b[0m         filtered_flat_args, captured_inputs=concrete_function.captured_inputs)  # pylint: disable=protected-access\n",
            "\u001b[0;32m/usr/local/lib/python3.10/dist-packages/tensorflow/python/eager/polymorphic_function/tracing_compiler.py\u001b[0m in \u001b[0;36m_maybe_define_function\u001b[0;34m(self, args, kwargs)\u001b[0m\n\u001b[1;32m    354\u001b[0m     \u001b[0;31m# only active captures should be saved.\u001b[0m\u001b[0;34m\u001b[0m\u001b[0;34m\u001b[0m\u001b[0m\n\u001b[1;32m    355\u001b[0m     lookup_func_type, lookup_func_context = (\n\u001b[0;32m--> 356\u001b[0;31m         self._function_spec.make_canonicalized_monomorphic_type(\n\u001b[0m\u001b[1;32m    357\u001b[0m             args, kwargs, captures))\n\u001b[1;32m    358\u001b[0m     concrete_function = self._function_cache.lookup(current_func_context,\n",
            "\u001b[0;32m/usr/local/lib/python3.10/dist-packages/tensorflow/python/eager/polymorphic_function/function_spec.py\u001b[0m in \u001b[0;36mmake_canonicalized_monomorphic_type\u001b[0;34m(self, args, kwargs, captures)\u001b[0m\n\u001b[1;32m    343\u001b[0m \u001b[0;34m\u001b[0m\u001b[0m\n\u001b[1;32m    344\u001b[0m     _, function_type, type_context = (\n\u001b[0;32m--> 345\u001b[0;31m         function_type_lib.canonicalize_to_monomorphic(\n\u001b[0m\u001b[1;32m    346\u001b[0m             \u001b[0margs\u001b[0m\u001b[0;34m,\u001b[0m \u001b[0mkwargs\u001b[0m\u001b[0;34m,\u001b[0m \u001b[0mself\u001b[0m\u001b[0;34m.\u001b[0m\u001b[0mdefault_values\u001b[0m\u001b[0;34m,\u001b[0m \u001b[0mcaptures\u001b[0m\u001b[0;34m,\u001b[0m \u001b[0mself\u001b[0m\u001b[0;34m.\u001b[0m\u001b[0mfunction_type\u001b[0m\u001b[0;34m\u001b[0m\u001b[0;34m\u001b[0m\u001b[0m\n\u001b[1;32m    347\u001b[0m         )\n",
            "\u001b[0;32m/usr/local/lib/python3.10/dist-packages/tensorflow/core/function/polymorphism/function_type.py\u001b[0m in \u001b[0;36mcanonicalize_to_monomorphic\u001b[0;34m(args, kwargs, default_values, captures, polymorphic_type)\u001b[0m\n\u001b[1;32m    385\u001b[0m \u001b[0;34m\u001b[0m\u001b[0m\n\u001b[1;32m    386\u001b[0m   \u001b[0mparameters\u001b[0m \u001b[0;34m=\u001b[0m \u001b[0;34m[\u001b[0m\u001b[0;34m]\u001b[0m\u001b[0;34m\u001b[0m\u001b[0;34m\u001b[0m\u001b[0m\n\u001b[0;32m--> 387\u001b[0;31m   \u001b[0mtype_context\u001b[0m \u001b[0;34m=\u001b[0m \u001b[0mtrace_type\u001b[0m\u001b[0;34m.\u001b[0m\u001b[0mInternalTracingContext\u001b[0m\u001b[0;34m(\u001b[0m\u001b[0;34m)\u001b[0m\u001b[0;34m\u001b[0m\u001b[0;34m\u001b[0m\u001b[0m\n\u001b[0m\u001b[1;32m    388\u001b[0m   has_var_positional = any(p.kind is Parameter.VAR_POSITIONAL\n\u001b[1;32m    389\u001b[0m                            for p in polymorphic_type.parameters.values())\n",
            "\u001b[0;32m/usr/local/lib/python3.10/dist-packages/tensorflow/core/function/trace_type/trace_type_builder.py\u001b[0m in \u001b[0;36m__init__\u001b[0;34m(self, is_legacy_signature)\u001b[0m\n\u001b[1;32m     59\u001b[0m   \u001b[0;34m\"\"\"Container for variables and flags shared across TraceType generation.\"\"\"\u001b[0m\u001b[0;34m\u001b[0m\u001b[0;34m\u001b[0m\u001b[0m\n\u001b[1;32m     60\u001b[0m \u001b[0;34m\u001b[0m\u001b[0m\n\u001b[0;32m---> 61\u001b[0;31m   \u001b[0;32mdef\u001b[0m \u001b[0m__init__\u001b[0m\u001b[0;34m(\u001b[0m\u001b[0mself\u001b[0m\u001b[0;34m,\u001b[0m \u001b[0mis_legacy_signature\u001b[0m\u001b[0;34m:\u001b[0m \u001b[0mbool\u001b[0m \u001b[0;34m=\u001b[0m \u001b[0;32mFalse\u001b[0m\u001b[0;34m)\u001b[0m\u001b[0;34m:\u001b[0m\u001b[0;34m\u001b[0m\u001b[0;34m\u001b[0m\u001b[0m\n\u001b[0m\u001b[1;32m     62\u001b[0m     \u001b[0mself\u001b[0m\u001b[0;34m.\u001b[0m\u001b[0m_deletion_observer\u001b[0m \u001b[0;34m=\u001b[0m \u001b[0mWeakrefDeletionObserver\u001b[0m\u001b[0;34m(\u001b[0m\u001b[0;34m)\u001b[0m\u001b[0;34m\u001b[0m\u001b[0;34m\u001b[0m\u001b[0m\n\u001b[1;32m     63\u001b[0m     \u001b[0mself\u001b[0m\u001b[0;34m.\u001b[0m\u001b[0m_global_to_local_id\u001b[0m \u001b[0;34m=\u001b[0m \u001b[0;34m{\u001b[0m\u001b[0;34m}\u001b[0m\u001b[0;34m\u001b[0m\u001b[0;34m\u001b[0m\u001b[0m\n",
            "\u001b[0;31mKeyboardInterrupt\u001b[0m: "
          ]
        }
      ]
    },
    {
      "cell_type": "code",
      "source": [],
      "metadata": {
        "id": "vSl1QbsfShb_"
      },
      "execution_count": null,
      "outputs": []
    },
    {
      "cell_type": "markdown",
      "source": [
        "## Optimizer: Adam"
      ],
      "metadata": {
        "id": "XwgG_8sVS8yo"
      }
    },
    {
      "cell_type": "code",
      "source": [
        "def plot_history(history):\n",
        "  plt.figure()\n",
        "  plt.xlabel('Epoch')\n",
        "  plt.ylabel('Mean Abs Error [in €]')\n",
        "  plt.plot(history.epoch, np.array(history.history['mae']),\n",
        "           label='Train')\n",
        "  plt.plot(history.epoch, np.array(history.history['val_mae']),\n",
        "           label = 'Val')\n",
        "  plt.legend()\n",
        "  plt.ylim([min(history.history['val_mae'])-2,max(history.history['val_mae'])+2])\n",
        "  plt.xlim([0,50])"
      ],
      "metadata": {
        "id": "ydKjAQ3ATbQl"
      },
      "execution_count": null,
      "outputs": []
    },
    {
      "cell_type": "code",
      "source": [
        "from keras.optimizers import Adam\n",
        "\n",
        "def build_model():\n",
        "  model = keras.Sequential([\n",
        "    keras.layers.Input(shape=(X_train.shape[1],)),\n",
        "    keras.layers.Dense(64, activation=tf.nn.relu),\n",
        "    keras.layers.Dense(64, activation=tf.nn.relu),\n",
        "    keras.layers.Dense(1)\n",
        "  ], name=\"MLP_model\")\n",
        "\n",
        "  optimizer = Adam()\n",
        "\n",
        "  model.compile(loss='mse',\n",
        "                optimizer=optimizer,\n",
        "                metrics=['mae'])\n",
        "  return model\n",
        "\n",
        "model = build_model()\n",
        "model.summary()"
      ],
      "metadata": {
        "colab": {
          "base_uri": "https://localhost:8080/"
        },
        "outputId": "20c763dc-e3f2-44a3-8e1f-5523e1c8aef6",
        "id": "kLV6prmbS8yq"
      },
      "execution_count": null,
      "outputs": [
        {
          "output_type": "stream",
          "name": "stdout",
          "text": [
            "Model: \"MLP_model\"\n",
            "_________________________________________________________________\n",
            " Layer (type)                Output Shape              Param #   \n",
            "=================================================================\n",
            " dense_24 (Dense)            (None, 64)                2752      \n",
            "                                                                 \n",
            " dense_25 (Dense)            (None, 64)                4160      \n",
            "                                                                 \n",
            " dense_26 (Dense)            (None, 1)                 65        \n",
            "                                                                 \n",
            "=================================================================\n",
            "Total params: 6,977\n",
            "Trainable params: 6,977\n",
            "Non-trainable params: 0\n",
            "_________________________________________________________________\n"
          ]
        }
      ]
    },
    {
      "cell_type": "code",
      "source": [
        "EPOCHS = 50\n",
        "\n",
        "history_adam = model.fit(X_train, y_train, epochs=EPOCHS,\n",
        "                    validation_split=0.2, verbose=1)"
      ],
      "metadata": {
        "colab": {
          "base_uri": "https://localhost:8080/"
        },
        "outputId": "1472a320-325b-4c14-fdba-e2cc301ef4b8",
        "id": "Vt9-oL64S8yr"
      },
      "execution_count": null,
      "outputs": [
        {
          "output_type": "stream",
          "name": "stdout",
          "text": [
            "Epoch 1/50\n",
            "1819/1819 [==============================] - 13s 6ms/step - loss: 2558.8235 - mae: 34.2157 - val_loss: 1630.4594 - val_mae: 30.6613\n",
            "Epoch 2/50\n",
            "1819/1819 [==============================] - 4s 2ms/step - loss: 2115.4465 - mae: 30.2550 - val_loss: 1569.8961 - val_mae: 29.1122\n",
            "Epoch 3/50\n",
            "1819/1819 [==============================] - 6s 3ms/step - loss: 2002.6569 - mae: 29.2094 - val_loss: 1395.1445 - val_mae: 27.5420\n",
            "Epoch 4/50\n",
            "1819/1819 [==============================] - 4s 2ms/step - loss: 1960.4406 - mae: 28.7352 - val_loss: 1454.6753 - val_mae: 27.9031\n",
            "Epoch 5/50\n",
            "1819/1819 [==============================] - 4s 2ms/step - loss: 1943.5918 - mae: 28.4907 - val_loss: 1377.1796 - val_mae: 27.8339\n",
            "Epoch 6/50\n",
            "1819/1819 [==============================] - 6s 3ms/step - loss: 1917.7445 - mae: 28.2093 - val_loss: 1507.0005 - val_mae: 29.7568\n",
            "Epoch 7/50\n",
            "1819/1819 [==============================] - 4s 2ms/step - loss: 1901.0231 - mae: 28.0401 - val_loss: 1343.0734 - val_mae: 27.2468\n",
            "Epoch 8/50\n",
            "1819/1819 [==============================] - 5s 3ms/step - loss: 1897.4376 - mae: 27.9368 - val_loss: 1335.7434 - val_mae: 27.1618\n",
            "Epoch 9/50\n",
            "1819/1819 [==============================] - 6s 3ms/step - loss: 1884.6967 - mae: 27.8264 - val_loss: 1335.2397 - val_mae: 26.8834\n",
            "Epoch 10/50\n",
            "1819/1819 [==============================] - 4s 2ms/step - loss: 1875.3534 - mae: 27.7923 - val_loss: 1320.5468 - val_mae: 26.9210\n",
            "Epoch 11/50\n",
            "1819/1819 [==============================] - 5s 3ms/step - loss: 1875.5748 - mae: 27.7555 - val_loss: 1410.7762 - val_mae: 27.2596\n",
            "Epoch 12/50\n",
            "1819/1819 [==============================] - 5s 3ms/step - loss: 1863.9194 - mae: 27.6204 - val_loss: 1317.0898 - val_mae: 27.0049\n",
            "Epoch 13/50\n",
            "1819/1819 [==============================] - 4s 2ms/step - loss: 1840.4618 - mae: 27.3453 - val_loss: 1308.7129 - val_mae: 26.9718\n",
            "Epoch 14/50\n",
            "1819/1819 [==============================] - 6s 3ms/step - loss: 1797.3306 - mae: 26.8072 - val_loss: 1283.4653 - val_mae: 25.8973\n",
            "Epoch 15/50\n",
            "1819/1819 [==============================] - 5s 3ms/step - loss: 1753.6655 - mae: 26.2886 - val_loss: 1336.0818 - val_mae: 26.0928\n",
            "Epoch 16/50\n",
            "1819/1819 [==============================] - 4s 2ms/step - loss: 1756.2286 - mae: 26.2908 - val_loss: 1286.1938 - val_mae: 25.8956\n",
            "Epoch 17/50\n",
            "1819/1819 [==============================] - 6s 4ms/step - loss: 1719.5364 - mae: 25.8880 - val_loss: 1193.0768 - val_mae: 25.2413\n",
            "Epoch 18/50\n",
            "1819/1819 [==============================] - 5s 3ms/step - loss: 1693.8597 - mae: 25.5372 - val_loss: 1160.9731 - val_mae: 24.9675\n",
            "Epoch 19/50\n",
            "1819/1819 [==============================] - 5s 3ms/step - loss: 1678.6061 - mae: 25.3667 - val_loss: 1150.9596 - val_mae: 24.6226\n",
            "Epoch 20/50\n",
            "1819/1819 [==============================] - 6s 3ms/step - loss: 1674.9335 - mae: 25.2765 - val_loss: 1133.3104 - val_mae: 24.5600\n",
            "Epoch 21/50\n",
            "1819/1819 [==============================] - 4s 2ms/step - loss: 1654.2374 - mae: 25.0523 - val_loss: 1127.2668 - val_mae: 23.9369\n",
            "Epoch 22/50\n",
            "1819/1819 [==============================] - 7s 4ms/step - loss: 1635.2874 - mae: 24.8562 - val_loss: 1145.8353 - val_mae: 24.5109\n",
            "Epoch 23/50\n",
            "1819/1819 [==============================] - 5s 3ms/step - loss: 1630.1478 - mae: 24.7365 - val_loss: 1081.9568 - val_mae: 23.5698\n",
            "Epoch 24/50\n",
            "1819/1819 [==============================] - 4s 2ms/step - loss: 1628.5713 - mae: 24.7739 - val_loss: 1193.1531 - val_mae: 25.0743\n",
            "Epoch 25/50\n",
            "1819/1819 [==============================] - 6s 3ms/step - loss: 1638.5818 - mae: 25.0000 - val_loss: 1114.5094 - val_mae: 23.8476\n",
            "Epoch 26/50\n",
            "1819/1819 [==============================] - 4s 2ms/step - loss: 1613.3765 - mae: 24.5523 - val_loss: 1115.2616 - val_mae: 23.8388\n",
            "Epoch 27/50\n",
            "1819/1819 [==============================] - 4s 2ms/step - loss: 1601.1012 - mae: 24.3508 - val_loss: 1404.9302 - val_mae: 27.7290\n",
            "Epoch 28/50\n",
            "1819/1819 [==============================] - 6s 3ms/step - loss: 1614.8771 - mae: 24.6398 - val_loss: 1154.8596 - val_mae: 24.2690\n",
            "Epoch 29/50\n",
            "1819/1819 [==============================] - 4s 2ms/step - loss: 1604.4191 - mae: 24.4411 - val_loss: 1131.0846 - val_mae: 24.9511\n",
            "Epoch 30/50\n",
            "1819/1819 [==============================] - 4s 2ms/step - loss: 1597.8005 - mae: 24.3976 - val_loss: 1063.6100 - val_mae: 23.6352\n",
            "Epoch 31/50\n",
            "1819/1819 [==============================] - 7s 4ms/step - loss: 1607.8223 - mae: 24.5064 - val_loss: 1116.7737 - val_mae: 24.1165\n",
            "Epoch 32/50\n",
            "1819/1819 [==============================] - 4s 2ms/step - loss: 1592.7998 - mae: 24.3103 - val_loss: 1120.9148 - val_mae: 24.6717\n",
            "Epoch 33/50\n",
            "1819/1819 [==============================] - 4s 2ms/step - loss: 1584.8037 - mae: 24.1773 - val_loss: 1050.4370 - val_mae: 23.1703\n",
            "Epoch 34/50\n",
            "1819/1819 [==============================] - 6s 3ms/step - loss: 1581.3896 - mae: 24.1449 - val_loss: 1071.7715 - val_mae: 23.4997\n",
            "Epoch 35/50\n",
            "1819/1819 [==============================] - 4s 2ms/step - loss: 1575.2755 - mae: 24.0019 - val_loss: 1056.4910 - val_mae: 22.9882\n",
            "Epoch 36/50\n",
            "1819/1819 [==============================] - 4s 2ms/step - loss: 1573.2222 - mae: 23.9984 - val_loss: 1039.0215 - val_mae: 23.1984\n",
            "Epoch 37/50\n",
            "1819/1819 [==============================] - 6s 3ms/step - loss: 1592.7478 - mae: 24.2544 - val_loss: 1146.0232 - val_mae: 24.6567\n",
            "Epoch 38/50\n",
            "1819/1819 [==============================] - 4s 2ms/step - loss: 1591.3307 - mae: 24.3439 - val_loss: 1080.6699 - val_mae: 23.3555\n",
            "Epoch 39/50\n",
            "1819/1819 [==============================] - 6s 3ms/step - loss: 1572.6549 - mae: 24.0062 - val_loss: 1072.8766 - val_mae: 23.4886\n",
            "Epoch 40/50\n",
            "1819/1819 [==============================] - 7s 4ms/step - loss: 1555.6439 - mae: 23.7072 - val_loss: 1172.2102 - val_mae: 25.8068\n",
            "Epoch 41/50\n",
            "1819/1819 [==============================] - 4s 2ms/step - loss: 1555.0396 - mae: 23.7612 - val_loss: 1057.7671 - val_mae: 23.7405\n",
            "Epoch 42/50\n",
            "1819/1819 [==============================] - 4s 2ms/step - loss: 1565.1848 - mae: 23.8689 - val_loss: 1071.1863 - val_mae: 23.5761\n",
            "Epoch 43/50\n",
            "1819/1819 [==============================] - 6s 3ms/step - loss: 1555.5494 - mae: 23.7144 - val_loss: 1097.7849 - val_mae: 24.5921\n",
            "Epoch 44/50\n",
            "1819/1819 [==============================] - 4s 2ms/step - loss: 1551.8551 - mae: 23.6891 - val_loss: 1064.8489 - val_mae: 22.9475\n",
            "Epoch 45/50\n",
            "1819/1819 [==============================] - 4s 2ms/step - loss: 1550.2832 - mae: 23.6266 - val_loss: 1079.7676 - val_mae: 23.6173\n",
            "Epoch 46/50\n",
            "1819/1819 [==============================] - 6s 3ms/step - loss: 1535.2310 - mae: 23.4216 - val_loss: 1012.3924 - val_mae: 22.4691\n",
            "Epoch 47/50\n",
            "1819/1819 [==============================] - 4s 2ms/step - loss: 1539.0248 - mae: 23.4989 - val_loss: 1049.2456 - val_mae: 23.3606\n",
            "Epoch 48/50\n",
            "1819/1819 [==============================] - 4s 2ms/step - loss: 1535.6909 - mae: 23.4808 - val_loss: 1055.9346 - val_mae: 22.9510\n",
            "Epoch 49/50\n",
            "1819/1819 [==============================] - 6s 3ms/step - loss: 1531.1787 - mae: 23.3458 - val_loss: 1018.7753 - val_mae: 22.4788\n",
            "Epoch 50/50\n",
            "1819/1819 [==============================] - 4s 2ms/step - loss: 1543.9796 - mae: 23.5983 - val_loss: 1006.9767 - val_mae: 22.6163\n"
          ]
        }
      ]
    },
    {
      "cell_type": "code",
      "source": [
        "evaluate(model, X_test, y_test)"
      ],
      "metadata": {
        "colab": {
          "base_uri": "https://localhost:8080/"
        },
        "id": "a4uPwNMDDspv",
        "outputId": "eb512b5f-a66d-4d13-8c37-15b43561749b"
      },
      "execution_count": null,
      "outputs": [
        {
          "output_type": "stream",
          "name": "stdout",
          "text": [
            "569/569 [==============================] - 1s 1ms/step\n",
            "R2: 0.5572093028683265\n",
            "MAE: 23.07831000367033\n",
            "MSE: 1072.4209243424643\n",
            "RMSE: 32.74783846824801\n",
            "MAPE: 5282234059023642.0\n"
          ]
        }
      ]
    },
    {
      "cell_type": "code",
      "source": [
        "plot_history(history_adam)"
      ],
      "metadata": {
        "colab": {
          "base_uri": "https://localhost:8080/",
          "height": 449
        },
        "id": "oOaQayLGS8yt",
        "outputId": "3ad58617-afb5-47e8-94f9-adafc734c3bc"
      },
      "execution_count": null,
      "outputs": [
        {
          "output_type": "display_data",
          "data": {
            "text/plain": [
              "<Figure size 640x480 with 1 Axes>"
            ],
            "image/png": "[encoded data removed]"
          },
          "metadata": {}
        }
      ]
    },
    {
      "cell_type": "code",
      "source": [
        "def build_conv1D_model():\n",
        "\n",
        "  n_timesteps = X_train.shape[1]\n",
        "  n_features  = 1\n",
        "  model = keras.Sequential(name=\"model_conv1D\")\n",
        "  model.add(keras.layers.Input(shape=(n_timesteps,n_features)))\n",
        "  model.add(keras.layers.Conv1D(filters=64, kernel_size=7, activation='relu', name=\"Conv1D_1\"))\n",
        "  model.add(keras.layers.Dropout(0.5))\n",
        "  model.add(keras.layers.Conv1D(filters=32, kernel_size=3, activation='relu', name=\"Conv1D_2\"))\n",
        "\n",
        "  model.add(keras.layers.Conv1D(filters=16, kernel_size=2, activation='relu', name=\"Conv1D_3\"))\n",
        "\n",
        "  model.add(keras.layers.MaxPooling1D(pool_size=2, name=\"MaxPooling1D\"))\n",
        "  model.add(keras.layers.Flatten())\n",
        "  model.add(keras.layers.Dense(32, activation='relu', name=\"Dense_1\"))\n",
        "  model.add(keras.layers.Dense(n_features, name=\"Dense_2\"))\n",
        "\n",
        "\n",
        "  optimizer = Adam()\n",
        "\n",
        "  model.compile(loss='mse',optimizer=optimizer,metrics=['mae'])\n",
        "  return model\n",
        "\n",
        "model_conv1D = build_conv1D_model()\n",
        "model_conv1D.summary()"
      ],
      "metadata": {
        "colab": {
          "base_uri": "https://localhost:8080/"
        },
        "outputId": "731fb364-647e-4084-aa80-546bb2820a62",
        "id": "8hT9irbFU8X6"
      },
      "execution_count": null,
      "outputs": [
        {
          "output_type": "stream",
          "name": "stdout",
          "text": [
            "Model: \"model_conv1D\"\n",
            "_________________________________________________________________\n",
            " Layer (type)                Output Shape              Param #   \n",
            "=================================================================\n",
            " Conv1D_1 (Conv1D)           (None, 36, 64)            512       \n",
            "                                                                 \n",
            " dropout_1 (Dropout)         (None, 36, 64)            0         \n",
            "                                                                 \n",
            " Conv1D_2 (Conv1D)           (None, 34, 32)            6176      \n",
            "                                                                 \n",
            " Conv1D_3 (Conv1D)           (None, 33, 16)            1040      \n",
            "                                                                 \n",
            " MaxPooling1D (MaxPooling1D)  (None, 16, 16)           0         \n",
            "                                                                 \n",
            " flatten_4 (Flatten)         (None, 256)               0         \n",
            "                                                                 \n",
            " Dense_1 (Dense)             (None, 32)                8224      \n",
            "                                                                 \n",
            " Dense_2 (Dense)             (None, 1)                 33        \n",
            "                                                                 \n",
            "=================================================================\n",
            "Total params: 15,985\n",
            "Trainable params: 15,985\n",
            "Non-trainable params: 0\n",
            "_________________________________________________________________\n"
          ]
        }
      ]
    },
    {
      "cell_type": "code",
      "source": [
        "[loss, mae] = model_conv1D.evaluate(X_test, y_test, verbose=0)\n",
        "print(f'Mean Abs Error (test data): {mae}')"
      ],
      "metadata": {
        "colab": {
          "base_uri": "https://localhost:8080/"
        },
        "outputId": "225c183e-60bc-448a-f6a5-2231afe77f70",
        "id": "raXfYjujU8YE"
      },
      "execution_count": null,
      "outputs": [
        {
          "output_type": "stream",
          "name": "stdout",
          "text": [
            "Mean Abs Error (test data): 107.39411163330078\n"
          ]
        }
      ]
    },
    {
      "cell_type": "code",
      "source": [
        "test_predictions = model_conv1D.predict(X_test).flatten()\n",
        "plot_prediction(y_test, test_predictions)"
      ],
      "metadata": {
        "colab": {
          "base_uri": "https://localhost:8080/",
          "height": 468
        },
        "outputId": "9b699de7-9213-4ee0-9103-ab3721fe7027",
        "id": "shAe78XUU8YF"
      },
      "execution_count": null,
      "outputs": [
        {
          "output_type": "stream",
          "name": "stdout",
          "text": [
            "569/569 [==============================] - 2s 4ms/step\n"
          ]
        },
        {
          "output_type": "display_data",
          "data": {
            "text/plain": [
              "<Figure size 640x480 with 1 Axes>"
            ],
            "image/png": "[encoded data removed]"
          },
          "metadata": {}
        }
      ]
    },
    {
      "cell_type": "code",
      "source": [],
      "metadata": {
        "id": "CY5fbzKbcSpL"
      },
      "execution_count": null,
      "outputs": []
    }
  ]
}