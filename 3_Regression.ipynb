{
  "nbformat": 4,
  "nbformat_minor": 0,
  "metadata": {
    "colab": {
      "provenance": [],
      "toc_visible": true,
      "gpuType": "T4",
      "include_colab_link": true
    },
    "kernelspec": {
      "name": "python3",
      "display_name": "Python 3"
    },
    "language_info": {
      "name": "python"
    },
    "accelerator": "GPU"
  },
  "cells": [
    {
      "cell_type": "markdown",
      "metadata": {
        "id": "view-in-github",
        "colab_type": "text"
      },
      "source": [
        "<a href=\"https://colab.research.google.com/github/hochschule-pforzheim/project-st23-team-f23/blob/main/3_Regression.ipynb\" target=\"_parent\"><img src=\"https://colab.research.google.com/assets/colab-badge.svg\" alt=\"Open In Colab\"/></a>"
      ]
    },
    {
      "cell_type": "markdown",
      "source": [
        "\n",
        "\n",
        "> Wir arbeiten nun mit dem exportierten Datensatz '2_Data_for_Modeltraining.csv' aus 'Classification'. Den Datensatz legen wir auf Google Drive als Notebook ab, rufen ihn mit drive aus dem google.colab package auf und speichern ihn unter dem Variablen maindf für die weitere Verabreitung ab."
      ],
      "metadata": {
        "id": "UMZOzgX4BHs1"
      }
    },
    {
      "cell_type": "code",
      "source": [
        "import pandas as pd\n",
        "from google.colab import drive\n",
        "drive.mount('/content/drive')\n",
        "maindf = pd.read_csv(\"/content/drive/MyDrive/Colab Notebooks/2_Data_for_Modeltraining.csv\")\n",
        "#maindf = pd.read_csv('/content/drive/MyDrive/Colab Notebooks/AI & ML/Projekt/2_Data_for_Modeltraining.csv')"
      ],
      "metadata": {
        "id": "X6XYN9neBOjm",
        "colab": {
          "base_uri": "https://localhost:8080/"
        },
        "outputId": "f64f70cd-1631-4174-af13-f3cd53872981"
      },
      "execution_count": 47,
      "outputs": [
        {
          "output_type": "stream",
          "name": "stdout",
          "text": [
            "Drive already mounted at /content/drive; to attempt to forcibly remount, call drive.mount(\"/content/drive\", force_remount=True).\n"
          ]
        }
      ]
    },
    {
      "cell_type": "markdown",
      "source": [
        "\n",
        "\n",
        "> Durch Ausgabe des Dataframes maindf können wir unseren aktuellen, über Google Drive in colab geladenen Datensatz einsehen.\n"
      ],
      "metadata": {
        "id": "QU5QDRSU_niZ"
      }
    },
    {
      "cell_type": "code",
      "source": [
        "maindf"
      ],
      "metadata": {
        "colab": {
          "base_uri": "https://localhost:8080/",
          "height": 487
        },
        "id": "jvTXX5P-y6Lo",
        "outputId": "09148302-1699-43c4-93d4-efe6be3ba0e7"
      },
      "execution_count": 48,
      "outputs": [
        {
          "output_type": "execute_result",
          "data": {
            "text/plain": [
              "       is_canceled  lead_time  arrival_date_year  arrival_date_month  \\\n",
              "0                0        342               2015                   7   \n",
              "1                0        737               2015                   7   \n",
              "2                0          7               2015                   7   \n",
              "3                0         13               2015                   7   \n",
              "4                0         14               2015                   7   \n",
              "...            ...        ...                ...                 ...   \n",
              "90909            0         21               2017                   8   \n",
              "90910            0         23               2017                   8   \n",
              "90911            0         34               2017                   8   \n",
              "90912            0        109               2017                   8   \n",
              "90913            0        205               2017                   8   \n",
              "\n",
              "       arrival_date_day_of_month  stay_nights_sum  adults  children  babies  \\\n",
              "0                              1                0       2         0       0   \n",
              "1                              1                0       2         0       0   \n",
              "2                              1                1       1         0       0   \n",
              "3                              1                1       1         0       0   \n",
              "4                              1                2       2         0       0   \n",
              "...                          ...              ...     ...       ...     ...   \n",
              "90909                         30                7       2         0       0   \n",
              "90910                         30                7       2         0       0   \n",
              "90911                         31                7       2         0       0   \n",
              "90912                         31                7       2         0       0   \n",
              "90913                         29                9       2         0       0   \n",
              "\n",
              "       is_repeated_guest  ...  country_CN  country_DEU  country_ESP  \\\n",
              "0                      0  ...           0            0            0   \n",
              "1                      0  ...           0            0            0   \n",
              "2                      0  ...           0            0            0   \n",
              "3                      0  ...           0            0            0   \n",
              "4                      0  ...           0            0            0   \n",
              "...                  ...  ...         ...          ...          ...   \n",
              "90909                  0  ...           0            0            0   \n",
              "90910                  0  ...           0            0            0   \n",
              "90911                  0  ...           0            1            0   \n",
              "90912                  0  ...           0            0            0   \n",
              "90913                  0  ...           0            1            0   \n",
              "\n",
              "       country_GBR  country_IRL  country_ITA  country_NLD  country_PRT  \\\n",
              "0                0            0            0            0            1   \n",
              "1                0            0            0            0            1   \n",
              "2                1            0            0            0            0   \n",
              "3                1            0            0            0            0   \n",
              "4                1            0            0            0            0   \n",
              "...            ...          ...          ...          ...          ...   \n",
              "90909            0            0            0            0            0   \n",
              "90910            0            0            0            0            0   \n",
              "90911            0            0            0            0            0   \n",
              "90912            1            0            0            0            0   \n",
              "90913            0            0            0            0            0   \n",
              "\n",
              "       country_SWE  country_USA  \n",
              "0                0            0  \n",
              "1                0            0  \n",
              "2                0            0  \n",
              "3                0            0  \n",
              "4                0            0  \n",
              "...            ...          ...  \n",
              "90909            0            0  \n",
              "90910            0            0  \n",
              "90911            0            0  \n",
              "90912            0            0  \n",
              "90913            0            0  \n",
              "\n",
              "[90914 rows x 43 columns]"
            ],
            "text/html": [
              "\n",
              "\n",
              "  <div id=\"df-d5853c67-e863-4c16-8314-edf3c2a56887\">\n",
              "    <div class=\"colab-df-container\">\n",
              "      <div>\n",
              "<style scoped>\n",
              "    .dataframe tbody tr th:only-of-type {\n",
              "        vertical-align: middle;\n",
              "    }\n",
              "\n",
              "    .dataframe tbody tr th {\n",
              "        vertical-align: top;\n",
              "    }\n",
              "\n",
              "    .dataframe thead th {\n",
              "        text-align: right;\n",
              "    }\n",
              "</style>\n",
              "<table border=\"1\" class=\"dataframe\">\n",
              "  <thead>\n",
              "    <tr style=\"text-align: right;\">\n",
              "      <th></th>\n",
              "      <th>is_canceled</th>\n",
              "      <th>lead_time</th>\n",
              "      <th>arrival_date_year</th>\n",
              "      <th>arrival_date_month</th>\n",
              "      <th>arrival_date_day_of_month</th>\n",
              "      <th>stay_nights_sum</th>\n",
              "      <th>adults</th>\n",
              "      <th>children</th>\n",
              "      <th>babies</th>\n",
              "      <th>is_repeated_guest</th>\n",
              "      <th>...</th>\n",
              "      <th>country_CN</th>\n",
              "      <th>country_DEU</th>\n",
              "      <th>country_ESP</th>\n",
              "      <th>country_GBR</th>\n",
              "      <th>country_IRL</th>\n",
              "      <th>country_ITA</th>\n",
              "      <th>country_NLD</th>\n",
              "      <th>country_PRT</th>\n",
              "      <th>country_SWE</th>\n",
              "      <th>country_USA</th>\n",
              "    </tr>\n",
              "  </thead>\n",
              "  <tbody>\n",
              "    <tr>\n",
              "      <th>0</th>\n",
              "      <td>0</td>\n",
              "      <td>342</td>\n",
              "      <td>2015</td>\n",
              "      <td>7</td>\n",
              "      <td>1</td>\n",
              "      <td>0</td>\n",
              "      <td>2</td>\n",
              "      <td>0</td>\n",
              "      <td>0</td>\n",
              "      <td>0</td>\n",
              "      <td>...</td>\n",
              "      <td>0</td>\n",
              "      <td>0</td>\n",
              "      <td>0</td>\n",
              "      <td>0</td>\n",
              "      <td>0</td>\n",
              "      <td>0</td>\n",
              "      <td>0</td>\n",
              "      <td>1</td>\n",
              "      <td>0</td>\n",
              "      <td>0</td>\n",
              "    </tr>\n",
              "    <tr>\n",
              "      <th>1</th>\n",
              "      <td>0</td>\n",
              "      <td>737</td>\n",
              "      <td>2015</td>\n",
              "      <td>7</td>\n",
              "      <td>1</td>\n",
              "      <td>0</td>\n",
              "      <td>2</td>\n",
              "      <td>0</td>\n",
              "      <td>0</td>\n",
              "      <td>0</td>\n",
              "      <td>...</td>\n",
              "      <td>0</td>\n",
              "      <td>0</td>\n",
              "      <td>0</td>\n",
              "      <td>0</td>\n",
              "      <td>0</td>\n",
              "      <td>0</td>\n",
              "      <td>0</td>\n",
              "      <td>1</td>\n",
              "      <td>0</td>\n",
              "      <td>0</td>\n",
              "    </tr>\n",
              "    <tr>\n",
              "      <th>2</th>\n",
              "      <td>0</td>\n",
              "      <td>7</td>\n",
              "      <td>2015</td>\n",
              "      <td>7</td>\n",
              "      <td>1</td>\n",
              "      <td>1</td>\n",
              "      <td>1</td>\n",
              "      <td>0</td>\n",
              "      <td>0</td>\n",
              "      <td>0</td>\n",
              "      <td>...</td>\n",
              "      <td>0</td>\n",
              "      <td>0</td>\n",
              "      <td>0</td>\n",
              "      <td>1</td>\n",
              "      <td>0</td>\n",
              "      <td>0</td>\n",
              "      <td>0</td>\n",
              "      <td>0</td>\n",
              "      <td>0</td>\n",
              "      <td>0</td>\n",
              "    </tr>\n",
              "    <tr>\n",
              "      <th>3</th>\n",
              "      <td>0</td>\n",
              "      <td>13</td>\n",
              "      <td>2015</td>\n",
              "      <td>7</td>\n",
              "      <td>1</td>\n",
              "      <td>1</td>\n",
              "      <td>1</td>\n",
              "      <td>0</td>\n",
              "      <td>0</td>\n",
              "      <td>0</td>\n",
              "      <td>...</td>\n",
              "      <td>0</td>\n",
              "      <td>0</td>\n",
              "      <td>0</td>\n",
              "      <td>1</td>\n",
              "      <td>0</td>\n",
              "      <td>0</td>\n",
              "      <td>0</td>\n",
              "      <td>0</td>\n",
              "      <td>0</td>\n",
              "      <td>0</td>\n",
              "    </tr>\n",
              "    <tr>\n",
              "      <th>4</th>\n",
              "      <td>0</td>\n",
              "      <td>14</td>\n",
              "      <td>2015</td>\n",
              "      <td>7</td>\n",
              "      <td>1</td>\n",
              "      <td>2</td>\n",
              "      <td>2</td>\n",
              "      <td>0</td>\n",
              "      <td>0</td>\n",
              "      <td>0</td>\n",
              "      <td>...</td>\n",
              "      <td>0</td>\n",
              "      <td>0</td>\n",
              "      <td>0</td>\n",
              "      <td>1</td>\n",
              "      <td>0</td>\n",
              "      <td>0</td>\n",
              "      <td>0</td>\n",
              "      <td>0</td>\n",
              "      <td>0</td>\n",
              "      <td>0</td>\n",
              "    </tr>\n",
              "    <tr>\n",
              "      <th>...</th>\n",
              "      <td>...</td>\n",
              "      <td>...</td>\n",
              "      <td>...</td>\n",
              "      <td>...</td>\n",
              "      <td>...</td>\n",
              "      <td>...</td>\n",
              "      <td>...</td>\n",
              "      <td>...</td>\n",
              "      <td>...</td>\n",
              "      <td>...</td>\n",
              "      <td>...</td>\n",
              "      <td>...</td>\n",
              "      <td>...</td>\n",
              "      <td>...</td>\n",
              "      <td>...</td>\n",
              "      <td>...</td>\n",
              "      <td>...</td>\n",
              "      <td>...</td>\n",
              "      <td>...</td>\n",
              "      <td>...</td>\n",
              "      <td>...</td>\n",
              "    </tr>\n",
              "    <tr>\n",
              "      <th>90909</th>\n",
              "      <td>0</td>\n",
              "      <td>21</td>\n",
              "      <td>2017</td>\n",
              "      <td>8</td>\n",
              "      <td>30</td>\n",
              "      <td>7</td>\n",
              "      <td>2</td>\n",
              "      <td>0</td>\n",
              "      <td>0</td>\n",
              "      <td>0</td>\n",
              "      <td>...</td>\n",
              "      <td>0</td>\n",
              "      <td>0</td>\n",
              "      <td>0</td>\n",
              "      <td>0</td>\n",
              "      <td>0</td>\n",
              "      <td>0</td>\n",
              "      <td>0</td>\n",
              "      <td>0</td>\n",
              "      <td>0</td>\n",
              "      <td>0</td>\n",
              "    </tr>\n",
              "    <tr>\n",
              "      <th>90910</th>\n",
              "      <td>0</td>\n",
              "      <td>23</td>\n",
              "      <td>2017</td>\n",
              "      <td>8</td>\n",
              "      <td>30</td>\n",
              "      <td>7</td>\n",
              "      <td>2</td>\n",
              "      <td>0</td>\n",
              "      <td>0</td>\n",
              "      <td>0</td>\n",
              "      <td>...</td>\n",
              "      <td>0</td>\n",
              "      <td>0</td>\n",
              "      <td>0</td>\n",
              "      <td>0</td>\n",
              "      <td>0</td>\n",
              "      <td>0</td>\n",
              "      <td>0</td>\n",
              "      <td>0</td>\n",
              "      <td>0</td>\n",
              "      <td>0</td>\n",
              "    </tr>\n",
              "    <tr>\n",
              "      <th>90911</th>\n",
              "      <td>0</td>\n",
              "      <td>34</td>\n",
              "      <td>2017</td>\n",
              "      <td>8</td>\n",
              "      <td>31</td>\n",
              "      <td>7</td>\n",
              "      <td>2</td>\n",
              "      <td>0</td>\n",
              "      <td>0</td>\n",
              "      <td>0</td>\n",
              "      <td>...</td>\n",
              "      <td>0</td>\n",
              "      <td>1</td>\n",
              "      <td>0</td>\n",
              "      <td>0</td>\n",
              "      <td>0</td>\n",
              "      <td>0</td>\n",
              "      <td>0</td>\n",
              "      <td>0</td>\n",
              "      <td>0</td>\n",
              "      <td>0</td>\n",
              "    </tr>\n",
              "    <tr>\n",
              "      <th>90912</th>\n",
              "      <td>0</td>\n",
              "      <td>109</td>\n",
              "      <td>2017</td>\n",
              "      <td>8</td>\n",
              "      <td>31</td>\n",
              "      <td>7</td>\n",
              "      <td>2</td>\n",
              "      <td>0</td>\n",
              "      <td>0</td>\n",
              "      <td>0</td>\n",
              "      <td>...</td>\n",
              "      <td>0</td>\n",
              "      <td>0</td>\n",
              "      <td>0</td>\n",
              "      <td>1</td>\n",
              "      <td>0</td>\n",
              "      <td>0</td>\n",
              "      <td>0</td>\n",
              "      <td>0</td>\n",
              "      <td>0</td>\n",
              "      <td>0</td>\n",
              "    </tr>\n",
              "    <tr>\n",
              "      <th>90913</th>\n",
              "      <td>0</td>\n",
              "      <td>205</td>\n",
              "      <td>2017</td>\n",
              "      <td>8</td>\n",
              "      <td>29</td>\n",
              "      <td>9</td>\n",
              "      <td>2</td>\n",
              "      <td>0</td>\n",
              "      <td>0</td>\n",
              "      <td>0</td>\n",
              "      <td>...</td>\n",
              "      <td>0</td>\n",
              "      <td>1</td>\n",
              "      <td>0</td>\n",
              "      <td>0</td>\n",
              "      <td>0</td>\n",
              "      <td>0</td>\n",
              "      <td>0</td>\n",
              "      <td>0</td>\n",
              "      <td>0</td>\n",
              "      <td>0</td>\n",
              "    </tr>\n",
              "  </tbody>\n",
              "</table>\n",
              "<p>90914 rows × 43 columns</p>\n",
              "</div>\n",
              "      <button class=\"colab-df-convert\" onclick=\"convertToInteractive('df-d5853c67-e863-4c16-8314-edf3c2a56887')\"\n",
              "              title=\"Convert this dataframe to an interactive table.\"\n",
              "              style=\"display:none;\">\n",
              "\n",
              "  <svg xmlns=\"http://www.w3.org/2000/svg\" height=\"24px\"viewBox=\"0 0 24 24\"\n",
              "       width=\"24px\">\n",
              "    <path d=\"M0 0h24v24H0V0z\" fill=\"none\"/>\n",
              "    <path d=\"M18.56 5.44l.94 2.06.94-2.06 2.06-.94-2.06-.94-.94-2.06-.94 2.06-2.06.94zm-11 1L8.5 8.5l.94-2.06 2.06-.94-2.06-.94L8.5 2.5l-.94 2.06-2.06.94zm10 10l.94 2.06.94-2.06 2.06-.94-2.06-.94-.94-2.06-.94 2.06-2.06.94z\"/><path d=\"M17.41 7.96l-1.37-1.37c-.4-.4-.92-.59-1.43-.59-.52 0-1.04.2-1.43.59L10.3 9.45l-7.72 7.72c-.78.78-.78 2.05 0 2.83L4 21.41c.39.39.9.59 1.41.59.51 0 1.02-.2 1.41-.59l7.78-7.78 2.81-2.81c.8-.78.8-2.07 0-2.86zM5.41 20L4 18.59l7.72-7.72 1.47 1.35L5.41 20z\"/>\n",
              "  </svg>\n",
              "      </button>\n",
              "\n",
              "\n",
              "\n",
              "    <div id=\"df-07bac8fb-0960-4ea5-8598-026459442797\">\n",
              "      <button class=\"colab-df-quickchart\" onclick=\"quickchart('df-07bac8fb-0960-4ea5-8598-026459442797')\"\n",
              "              title=\"Suggest charts.\"\n",
              "              style=\"display:none;\">\n",
              "\n",
              "<svg xmlns=\"http://www.w3.org/2000/svg\" height=\"24px\"viewBox=\"0 0 24 24\"\n",
              "     width=\"24px\">\n",
              "    <g>\n",
              "        <path d=\"M19 3H5c-1.1 0-2 .9-2 2v14c0 1.1.9 2 2 2h14c1.1 0 2-.9 2-2V5c0-1.1-.9-2-2-2zM9 17H7v-7h2v7zm4 0h-2V7h2v10zm4 0h-2v-4h2v4z\"/>\n",
              "    </g>\n",
              "</svg>\n",
              "      </button>\n",
              "    </div>\n",
              "\n",
              "<style>\n",
              "  .colab-df-quickchart {\n",
              "    background-color: #E8F0FE;\n",
              "    border: none;\n",
              "    border-radius: 50%;\n",
              "    cursor: pointer;\n",
              "    display: none;\n",
              "    fill: #1967D2;\n",
              "    height: 32px;\n",
              "    padding: 0 0 0 0;\n",
              "    width: 32px;\n",
              "  }\n",
              "\n",
              "  .colab-df-quickchart:hover {\n",
              "    background-color: #E2EBFA;\n",
              "    box-shadow: 0px 1px 2px rgba(60, 64, 67, 0.3), 0px 1px 3px 1px rgba(60, 64, 67, 0.15);\n",
              "    fill: #174EA6;\n",
              "  }\n",
              "\n",
              "  [theme=dark] .colab-df-quickchart {\n",
              "    background-color: #3B4455;\n",
              "    fill: #D2E3FC;\n",
              "  }\n",
              "\n",
              "  [theme=dark] .colab-df-quickchart:hover {\n",
              "    background-color: #434B5C;\n",
              "    box-shadow: 0px 1px 3px 1px rgba(0, 0, 0, 0.15);\n",
              "    filter: drop-shadow(0px 1px 2px rgba(0, 0, 0, 0.3));\n",
              "    fill: #FFFFFF;\n",
              "  }\n",
              "</style>\n",
              "\n",
              "    <script>\n",
              "      async function quickchart(key) {\n",
              "        const containerElement = document.querySelector('#' + key);\n",
              "        const charts = await google.colab.kernel.invokeFunction(\n",
              "            'suggestCharts', [key], {});\n",
              "      }\n",
              "    </script>\n",
              "\n",
              "      <script>\n",
              "\n",
              "function displayQuickchartButton(domScope) {\n",
              "  let quickchartButtonEl =\n",
              "    domScope.querySelector('#df-07bac8fb-0960-4ea5-8598-026459442797 button.colab-df-quickchart');\n",
              "  quickchartButtonEl.style.display =\n",
              "    google.colab.kernel.accessAllowed ? 'block' : 'none';\n",
              "}\n",
              "\n",
              "        displayQuickchartButton(document);\n",
              "      </script>\n",
              "      <style>\n",
              "    .colab-df-container {\n",
              "      display:flex;\n",
              "      flex-wrap:wrap;\n",
              "      gap: 12px;\n",
              "    }\n",
              "\n",
              "    .colab-df-convert {\n",
              "      background-color: #E8F0FE;\n",
              "      border: none;\n",
              "      border-radius: 50%;\n",
              "      cursor: pointer;\n",
              "      display: none;\n",
              "      fill: #1967D2;\n",
              "      height: 32px;\n",
              "      padding: 0 0 0 0;\n",
              "      width: 32px;\n",
              "    }\n",
              "\n",
              "    .colab-df-convert:hover {\n",
              "      background-color: #E2EBFA;\n",
              "      box-shadow: 0px 1px 2px rgba(60, 64, 67, 0.3), 0px 1px 3px 1px rgba(60, 64, 67, 0.15);\n",
              "      fill: #174EA6;\n",
              "    }\n",
              "\n",
              "    [theme=dark] .colab-df-convert {\n",
              "      background-color: #3B4455;\n",
              "      fill: #D2E3FC;\n",
              "    }\n",
              "\n",
              "    [theme=dark] .colab-df-convert:hover {\n",
              "      background-color: #434B5C;\n",
              "      box-shadow: 0px 1px 3px 1px rgba(0, 0, 0, 0.15);\n",
              "      filter: drop-shadow(0px 1px 2px rgba(0, 0, 0, 0.3));\n",
              "      fill: #FFFFFF;\n",
              "    }\n",
              "  </style>\n",
              "\n",
              "      <script>\n",
              "        const buttonEl =\n",
              "          document.querySelector('#df-d5853c67-e863-4c16-8314-edf3c2a56887 button.colab-df-convert');\n",
              "        buttonEl.style.display =\n",
              "          google.colab.kernel.accessAllowed ? 'block' : 'none';\n",
              "\n",
              "        async function convertToInteractive(key) {\n",
              "          const element = document.querySelector('#df-d5853c67-e863-4c16-8314-edf3c2a56887');\n",
              "          const dataTable =\n",
              "            await google.colab.kernel.invokeFunction('convertToInteractive',\n",
              "                                                     [key], {});\n",
              "          if (!dataTable) return;\n",
              "\n",
              "          const docLinkHtml = 'Like what you see? Visit the ' +\n",
              "            '<a target=\"_blank\" href=https://colab.research.google.com/notebooks/data_table.ipynb>data table notebook</a>'\n",
              "            + ' to learn more about interactive tables.';\n",
              "          element.innerHTML = '';\n",
              "          dataTable['output_type'] = 'display_data';\n",
              "          await google.colab.output.renderOutput(dataTable, element);\n",
              "          const docLink = document.createElement('div');\n",
              "          docLink.innerHTML = docLinkHtml;\n",
              "          element.appendChild(docLink);\n",
              "        }\n",
              "      </script>\n",
              "    </div>\n",
              "  </div>\n"
            ]
          },
          "metadata": {},
          "execution_count": 48
        }
      ]
    },
    {
      "cell_type": "markdown",
      "metadata": {
        "id": "gYCdd9if3sTX"
      },
      "source": [
        "# **Vorbereitung des Datensatzes auf die Regression**"
      ]
    },
    {
      "cell_type": "markdown",
      "source": [
        "\n",
        "\n",
        "> Wir möchten durch eine Regression die 'average daily rate', also wie teuer ein Zimmer pro Nacht im Schnitt ist, vorhersagen. Dafür müssen wir zuerst aus den Daten die Spalte 'adr' entfernen bzw. diese seperat als y-Variable speichern, da es sich dabei um unsere target-Variable handelt. Durch den Train-Test-Split können wir später das Modell anhand der Trainingsdaten passend auf unsere X- und y-Daten trainieren und über den Abgleich der auf den X-test-Daten vorhergesagten y-Werten zu den tatsächlichen y-test-Daten die Präzision des Modells bestimmen.\n",
        "\n",
        "\n",
        "\n",
        "> Mit dem Befehl `drop(columns='adr')` entfernen wir die adr-Spalte aus den X-Daten. Wir speichern sie dafür mit `y = maindf.adr`.\n",
        "\n",
        "\n",
        "\n"
      ],
      "metadata": {
        "id": "n_W-VI6W_7nB"
      }
    },
    {
      "cell_type": "code",
      "source": [
        "X = maindf.drop(columns='adr')\n",
        "y = maindf.adr"
      ],
      "metadata": {
        "id": "QJAgUDucJvDP"
      },
      "execution_count": 49,
      "outputs": []
    },
    {
      "cell_type": "markdown",
      "metadata": {
        "id": "b-MA9Xhr4BLl"
      },
      "source": [
        "\n",
        "\n",
        "> Anschließend können wir die Daten mit der Funktion `train_test_split()`, die wir erst importieren müssen, in Trainings- und Testdaten aufteilen. Wir wählen hierfür eine Testgröße von 20% und den Random-State 42.\n",
        "\n"
      ]
    },
    {
      "cell_type": "code",
      "execution_count": 50,
      "metadata": {
        "id": "Fnjd34TEbsBV"
      },
      "outputs": [],
      "source": [
        "from sklearn.model_selection import train_test_split\n",
        "X_train, X_test, y_train, y_test = train_test_split(X, y, test_size=0.2, random_state=42)"
      ]
    },
    {
      "cell_type": "markdown",
      "metadata": {
        "id": "ToLX1uco6FIz"
      },
      "source": [
        "\n",
        "\n",
        "> Mit diesem Split trainieren wir verschiedene Modelle und prüfen über die Accuracy und den f1-Score, welches Modell für unsere Daten die beste Performance bietet. Wir testen\n",
        "\n",
        "*   Lineare Regression\n",
        "*   Support Vector Mechine (LinearSVR)\n",
        "*   Decision Tree\n",
        "*   Gradient Boosting\n",
        "*   XGBoost\n",
        "*   Neuronale Netze\n"
      ]
    },
    {
      "cell_type": "markdown",
      "source": [
        "\n",
        "\n",
        "> Außerdem benötigen wir einige Module bzw. Funktionen für alle Modelle, die wir einmal gebündelt zu Beginn importieren:\n",
        "\n"
      ],
      "metadata": {
        "id": "omCVU9iLOjUL"
      }
    },
    {
      "cell_type": "code",
      "source": [
        "from sklearn.pipeline import make_pipeline\n",
        "from sklearn.preprocessing import StandardScaler\n",
        "from sklearn.model_selection import RandomizedSearchCV\n",
        "import numpy as np\n",
        "import matplotlib.pyplot as plt"
      ],
      "metadata": {
        "id": "EV77gHKZO0cy"
      },
      "execution_count": 51,
      "outputs": []
    },
    {
      "cell_type": "markdown",
      "metadata": {
        "id": "n-clOeqGcPU6"
      },
      "source": [
        "\n",
        "> Um unsere Ergebnisse vergleichen zu können, definieren wir nun noch eine `evaluate`-Function, die das Bestimmtheitsmaß (R2), den mittleren absoluten Fehler (MAE), den mittleren quadrierten Fehler (MSE), die Quadratwurzel des mittleren quadratischen Fehlers (RMSE) und den Mittlerer absoluter prozentualer Fehler (MAPE):\n",
        "\n",
        "\n"
      ]
    },
    {
      "cell_type": "code",
      "execution_count": 52,
      "metadata": {
        "id": "NdLpRhdtcUQ1"
      },
      "outputs": [],
      "source": [
        "from sklearn.metrics import r2_score, mean_absolute_error, mean_squared_error, mean_absolute_percentage_error\n",
        "def evaluate(reg, X_test, y_test):\n",
        "  pred = reg.predict(X_test)\n",
        "  print('R2:', r2_score(y_test, pred))\n",
        "  print('MAE:', mean_absolute_error(y_test, pred))\n",
        "  print('MSE:', mean_squared_error(y_test, pred))\n",
        "  print('RMSE:', mean_squared_error(y_test, pred, squared=False))\n",
        "  print('MAPE:', mean_absolute_percentage_error(y_test, pred))"
      ]
    },
    {
      "cell_type": "markdown",
      "source": [
        "\n",
        "\n",
        "> Für die Bewertung der Modelle betrachten wir insbesondere das Bestimmtheitsmaß und den mittleren absoluten Fehler.\n",
        "\n"
      ],
      "metadata": {
        "id": "E3tnXoVwC0XI"
      }
    },
    {
      "cell_type": "markdown",
      "source": [
        "## **Lineare Regression**"
      ],
      "metadata": {
        "id": "vpPR9yaTC8py"
      }
    },
    {
      "cell_type": "markdown",
      "source": [
        ">Direkt zum Anfang soll eine Lineare Regression durchgeführt werden.\n",
        "\n",
        ">Hierdurch kann ein Modell erstellt werden, durch das die Beziehungen zwischen einer abhängigen und einer oder mehreren unabhängigen Variablen beschrieben werden können. Bei einer einfachen linearen Regression soll der Einfluss untersucht werden, den eine unabhängige Variable auf eine abhängige hat. Gleiches gilt bei mehreren unabhängigen Variablen."
      ],
      "metadata": {
        "id": "TgI8v_3GUDA4"
      }
    },
    {
      "cell_type": "markdown",
      "source": [
        "### **Dummy Regressor**"
      ],
      "metadata": {
        "id": "oOBpX8o-sFYb"
      }
    },
    {
      "cell_type": "markdown",
      "source": [
        ">Zur besseren Interpretierbarkeit der Modelle ist es oftmals gut von einem Basiswert bzw. einem Ausgangswert bzgl. der Leistung der Modelle zu haben.\n",
        "\n",
        ">Ein Ausgangswert könnte das Modell des Dummy Regressors sein, das in diesem Fall den Durchschnittswert der Variable '`adr`' vorhersagen würde. Mit '`sklearn`' kann nun eine '`DummyRegressor`'-Modell berechnet werden, dass den Durchschnittswert der Zielvariablen prognostiziert. Dieser Wert kann zur Beurteilung anderer Modelle genutzt werden."
      ],
      "metadata": {
        "id": "k-XUiCpmUQ-r"
      }
    },
    {
      "cell_type": "code",
      "execution_count": 53,
      "metadata": {
        "id": "RKBHkNGU2GLM"
      },
      "outputs": [],
      "source": [
        "from sklearn.dummy import DummyRegressor"
      ]
    },
    {
      "cell_type": "code",
      "execution_count": 54,
      "metadata": {
        "id": "GYVzZNPC2HbW"
      },
      "outputs": [],
      "source": [
        "dummy = DummyRegressor()"
      ]
    },
    {
      "cell_type": "markdown",
      "source": [
        ">Das Modell wird nun auf die Trainingsdaten trainiert."
      ],
      "metadata": {
        "id": "WiPwlDQ0USdY"
      }
    },
    {
      "cell_type": "code",
      "execution_count": 55,
      "metadata": {
        "id": "KDawXTNd2KYv",
        "colab": {
          "base_uri": "https://localhost:8080/",
          "height": 74
        },
        "outputId": "51843452-bf2d-4d91-8680-abb918f858c2"
      },
      "outputs": [
        {
          "output_type": "execute_result",
          "data": {
            "text/plain": [
              "DummyRegressor()"
            ],
            "text/html": [
              "<style>#sk-container-id-9 {color: black;background-color: white;}#sk-container-id-9 pre{padding: 0;}#sk-container-id-9 div.sk-toggleable {background-color: white;}#sk-container-id-9 label.sk-toggleable__label {cursor: pointer;display: block;width: 100%;margin-bottom: 0;padding: 0.3em;box-sizing: border-box;text-align: center;}#sk-container-id-9 label.sk-toggleable__label-arrow:before {content: \"▸\";float: left;margin-right: 0.25em;color: #696969;}#sk-container-id-9 label.sk-toggleable__label-arrow:hover:before {color: black;}#sk-container-id-9 div.sk-estimator:hover label.sk-toggleable__label-arrow:before {color: black;}#sk-container-id-9 div.sk-toggleable__content {max-height: 0;max-width: 0;overflow: hidden;text-align: left;background-color: #f0f8ff;}#sk-container-id-9 div.sk-toggleable__content pre {margin: 0.2em;color: black;border-radius: 0.25em;background-color: #f0f8ff;}#sk-container-id-9 input.sk-toggleable__control:checked~div.sk-toggleable__content {max-height: 200px;max-width: 100%;overflow: auto;}#sk-container-id-9 input.sk-toggleable__control:checked~label.sk-toggleable__label-arrow:before {content: \"▾\";}#sk-container-id-9 div.sk-estimator input.sk-toggleable__control:checked~label.sk-toggleable__label {background-color: #d4ebff;}#sk-container-id-9 div.sk-label input.sk-toggleable__control:checked~label.sk-toggleable__label {background-color: #d4ebff;}#sk-container-id-9 input.sk-hidden--visually {border: 0;clip: rect(1px 1px 1px 1px);clip: rect(1px, 1px, 1px, 1px);height: 1px;margin: -1px;overflow: hidden;padding: 0;position: absolute;width: 1px;}#sk-container-id-9 div.sk-estimator {font-family: monospace;background-color: #f0f8ff;border: 1px dotted black;border-radius: 0.25em;box-sizing: border-box;margin-bottom: 0.5em;}#sk-container-id-9 div.sk-estimator:hover {background-color: #d4ebff;}#sk-container-id-9 div.sk-parallel-item::after {content: \"\";width: 100%;border-bottom: 1px solid gray;flex-grow: 1;}#sk-container-id-9 div.sk-label:hover label.sk-toggleable__label {background-color: #d4ebff;}#sk-container-id-9 div.sk-serial::before {content: \"\";position: absolute;border-left: 1px solid gray;box-sizing: border-box;top: 0;bottom: 0;left: 50%;z-index: 0;}#sk-container-id-9 div.sk-serial {display: flex;flex-direction: column;align-items: center;background-color: white;padding-right: 0.2em;padding-left: 0.2em;position: relative;}#sk-container-id-9 div.sk-item {position: relative;z-index: 1;}#sk-container-id-9 div.sk-parallel {display: flex;align-items: stretch;justify-content: center;background-color: white;position: relative;}#sk-container-id-9 div.sk-item::before, #sk-container-id-9 div.sk-parallel-item::before {content: \"\";position: absolute;border-left: 1px solid gray;box-sizing: border-box;top: 0;bottom: 0;left: 50%;z-index: -1;}#sk-container-id-9 div.sk-parallel-item {display: flex;flex-direction: column;z-index: 1;position: relative;background-color: white;}#sk-container-id-9 div.sk-parallel-item:first-child::after {align-self: flex-end;width: 50%;}#sk-container-id-9 div.sk-parallel-item:last-child::after {align-self: flex-start;width: 50%;}#sk-container-id-9 div.sk-parallel-item:only-child::after {width: 0;}#sk-container-id-9 div.sk-dashed-wrapped {border: 1px dashed gray;margin: 0 0.4em 0.5em 0.4em;box-sizing: border-box;padding-bottom: 0.4em;background-color: white;}#sk-container-id-9 div.sk-label label {font-family: monospace;font-weight: bold;display: inline-block;line-height: 1.2em;}#sk-container-id-9 div.sk-label-container {text-align: center;}#sk-container-id-9 div.sk-container {/* jupyter's `normalize.less` sets `[hidden] { display: none; }` but bootstrap.min.css set `[hidden] { display: none !important; }` so we also need the `!important` here to be able to override the default hidden behavior on the sphinx rendered scikit-learn.org. See: https://github.com/scikit-learn/scikit-learn/issues/21755 */display: inline-block !important;position: relative;}#sk-container-id-9 div.sk-text-repr-fallback {display: none;}</style><div id=\"sk-container-id-9\" class=\"sk-top-container\"><div class=\"sk-text-repr-fallback\"><pre>DummyRegressor()</pre><b>In a Jupyter environment, please rerun this cell to show the HTML representation or trust the notebook. <br />On GitHub, the HTML representation is unable to render, please try loading this page with nbviewer.org.</b></div><div class=\"sk-container\" hidden><div class=\"sk-item\"><div class=\"sk-estimator sk-toggleable\"><input class=\"sk-toggleable__control sk-hidden--visually\" id=\"sk-estimator-id-19\" type=\"checkbox\" checked><label for=\"sk-estimator-id-19\" class=\"sk-toggleable__label sk-toggleable__label-arrow\">DummyRegressor</label><div class=\"sk-toggleable__content\"><pre>DummyRegressor()</pre></div></div></div></div></div>"
            ]
          },
          "metadata": {},
          "execution_count": 55
        }
      ],
      "source": [
        "dummy.fit(X_train, y_train)"
      ]
    },
    {
      "cell_type": "markdown",
      "source": [
        ">Anschließend kann es evaluiert werden. Deutlich ist, dass der 'R2'-Wert sehr schlecht ist. Aufgrund dessen wird es wohl sehr wahrscheinlich sein, dass andere Modelle über diesem Wert liegen werden."
      ],
      "metadata": {
        "id": "3jXClm3iUTC3"
      }
    },
    {
      "cell_type": "code",
      "execution_count": 56,
      "metadata": {
        "id": "dXCIBcgu2Osx",
        "colab": {
          "base_uri": "https://localhost:8080/"
        },
        "outputId": "4a55eb6e-8559-4aad-b0d0-2efed097c9e7"
      },
      "outputs": [
        {
          "output_type": "stream",
          "name": "stdout",
          "text": [
            "R2: -0.00044985553542464807\n",
            "MAE: 36.81005815193502\n",
            "MSE: 2423.0485549531177\n",
            "RMSE: 49.22447109876467\n",
            "MAPE: 5951914184838511.0\n"
          ]
        }
      ],
      "source": [
        "evaluate(dummy, X_test, y_test)"
      ]
    },
    {
      "cell_type": "markdown",
      "source": [
        "### **Ordinary Least Squares**"
      ],
      "metadata": {
        "id": "zdCc59gvtcsf"
      }
    },
    {
      "cell_type": "markdown",
      "source": [
        ">Nun soll ein lineares Regressionsmodell mit dem Dummy Regressor verglichen werden. Dazu wird die Klasse 'Lineare Regression' aus 'sklearn.linear_model' importiert.\n",
        "\n",
        ">Um mehrere Schritte in einem Modell kombinieren zu können, wird zudem durch eine Pipeline erstellt, durch die sowohl der '`Standard_Scaler`', als auch die '`LinearRegression`' vereint werden können. Durch die Funktion '`make_pipeline`' wird diese erstellt."
      ],
      "metadata": {
        "id": "y7hnb4UBoMLp"
      }
    },
    {
      "cell_type": "code",
      "execution_count": 57,
      "metadata": {
        "id": "TZdNa5jh3OC3"
      },
      "outputs": [],
      "source": [
        "from sklearn.linear_model import LinearRegression\n",
        "linear = LinearRegression()"
      ]
    },
    {
      "cell_type": "code",
      "execution_count": 58,
      "metadata": {
        "id": "wRCTiHWlWxlI"
      },
      "outputs": [],
      "source": [
        "linear_scaled = make_pipeline(StandardScaler(),\n",
        "                              linear)"
      ]
    },
    {
      "cell_type": "markdown",
      "source": [
        ">Die definierte Pipeline wird nun dazu verwendet,anhand der Trainingsdaten von 'X' und 'y' das lineare Regressionsmodell zu trainieren. Der Skalierungsschritt ist hier ebenfalls schon enthalten."
      ],
      "metadata": {
        "id": "BTUsWeQfUIEw"
      }
    },
    {
      "cell_type": "code",
      "execution_count": 59,
      "metadata": {
        "id": "k5r9PR64W29t",
        "colab": {
          "base_uri": "https://localhost:8080/",
          "height": 124
        },
        "outputId": "3d43e4e1-1599-4f79-9725-54ade7a28cec"
      },
      "outputs": [
        {
          "output_type": "execute_result",
          "data": {
            "text/plain": [
              "Pipeline(steps=[('standardscaler', StandardScaler()),\n",
              "                ('linearregression', LinearRegression())])"
            ],
            "text/html": [
              "<style>#sk-container-id-10 {color: black;background-color: white;}#sk-container-id-10 pre{padding: 0;}#sk-container-id-10 div.sk-toggleable {background-color: white;}#sk-container-id-10 label.sk-toggleable__label {cursor: pointer;display: block;width: 100%;margin-bottom: 0;padding: 0.3em;box-sizing: border-box;text-align: center;}#sk-container-id-10 label.sk-toggleable__label-arrow:before {content: \"▸\";float: left;margin-right: 0.25em;color: #696969;}#sk-container-id-10 label.sk-toggleable__label-arrow:hover:before {color: black;}#sk-container-id-10 div.sk-estimator:hover label.sk-toggleable__label-arrow:before {color: black;}#sk-container-id-10 div.sk-toggleable__content {max-height: 0;max-width: 0;overflow: hidden;text-align: left;background-color: #f0f8ff;}#sk-container-id-10 div.sk-toggleable__content pre {margin: 0.2em;color: black;border-radius: 0.25em;background-color: #f0f8ff;}#sk-container-id-10 input.sk-toggleable__control:checked~div.sk-toggleable__content {max-height: 200px;max-width: 100%;overflow: auto;}#sk-container-id-10 input.sk-toggleable__control:checked~label.sk-toggleable__label-arrow:before {content: \"▾\";}#sk-container-id-10 div.sk-estimator input.sk-toggleable__control:checked~label.sk-toggleable__label {background-color: #d4ebff;}#sk-container-id-10 div.sk-label input.sk-toggleable__control:checked~label.sk-toggleable__label {background-color: #d4ebff;}#sk-container-id-10 input.sk-hidden--visually {border: 0;clip: rect(1px 1px 1px 1px);clip: rect(1px, 1px, 1px, 1px);height: 1px;margin: -1px;overflow: hidden;padding: 0;position: absolute;width: 1px;}#sk-container-id-10 div.sk-estimator {font-family: monospace;background-color: #f0f8ff;border: 1px dotted black;border-radius: 0.25em;box-sizing: border-box;margin-bottom: 0.5em;}#sk-container-id-10 div.sk-estimator:hover {background-color: #d4ebff;}#sk-container-id-10 div.sk-parallel-item::after {content: \"\";width: 100%;border-bottom: 1px solid gray;flex-grow: 1;}#sk-container-id-10 div.sk-label:hover label.sk-toggleable__label {background-color: #d4ebff;}#sk-container-id-10 div.sk-serial::before {content: \"\";position: absolute;border-left: 1px solid gray;box-sizing: border-box;top: 0;bottom: 0;left: 50%;z-index: 0;}#sk-container-id-10 div.sk-serial {display: flex;flex-direction: column;align-items: center;background-color: white;padding-right: 0.2em;padding-left: 0.2em;position: relative;}#sk-container-id-10 div.sk-item {position: relative;z-index: 1;}#sk-container-id-10 div.sk-parallel {display: flex;align-items: stretch;justify-content: center;background-color: white;position: relative;}#sk-container-id-10 div.sk-item::before, #sk-container-id-10 div.sk-parallel-item::before {content: \"\";position: absolute;border-left: 1px solid gray;box-sizing: border-box;top: 0;bottom: 0;left: 50%;z-index: -1;}#sk-container-id-10 div.sk-parallel-item {display: flex;flex-direction: column;z-index: 1;position: relative;background-color: white;}#sk-container-id-10 div.sk-parallel-item:first-child::after {align-self: flex-end;width: 50%;}#sk-container-id-10 div.sk-parallel-item:last-child::after {align-self: flex-start;width: 50%;}#sk-container-id-10 div.sk-parallel-item:only-child::after {width: 0;}#sk-container-id-10 div.sk-dashed-wrapped {border: 1px dashed gray;margin: 0 0.4em 0.5em 0.4em;box-sizing: border-box;padding-bottom: 0.4em;background-color: white;}#sk-container-id-10 div.sk-label label {font-family: monospace;font-weight: bold;display: inline-block;line-height: 1.2em;}#sk-container-id-10 div.sk-label-container {text-align: center;}#sk-container-id-10 div.sk-container {/* jupyter's `normalize.less` sets `[hidden] { display: none; }` but bootstrap.min.css set `[hidden] { display: none !important; }` so we also need the `!important` here to be able to override the default hidden behavior on the sphinx rendered scikit-learn.org. See: https://github.com/scikit-learn/scikit-learn/issues/21755 */display: inline-block !important;position: relative;}#sk-container-id-10 div.sk-text-repr-fallback {display: none;}</style><div id=\"sk-container-id-10\" class=\"sk-top-container\"><div class=\"sk-text-repr-fallback\"><pre>Pipeline(steps=[(&#x27;standardscaler&#x27;, StandardScaler()),\n",
              "                (&#x27;linearregression&#x27;, LinearRegression())])</pre><b>In a Jupyter environment, please rerun this cell to show the HTML representation or trust the notebook. <br />On GitHub, the HTML representation is unable to render, please try loading this page with nbviewer.org.</b></div><div class=\"sk-container\" hidden><div class=\"sk-item sk-dashed-wrapped\"><div class=\"sk-label-container\"><div class=\"sk-label sk-toggleable\"><input class=\"sk-toggleable__control sk-hidden--visually\" id=\"sk-estimator-id-20\" type=\"checkbox\" ><label for=\"sk-estimator-id-20\" class=\"sk-toggleable__label sk-toggleable__label-arrow\">Pipeline</label><div class=\"sk-toggleable__content\"><pre>Pipeline(steps=[(&#x27;standardscaler&#x27;, StandardScaler()),\n",
              "                (&#x27;linearregression&#x27;, LinearRegression())])</pre></div></div></div><div class=\"sk-serial\"><div class=\"sk-item\"><div class=\"sk-estimator sk-toggleable\"><input class=\"sk-toggleable__control sk-hidden--visually\" id=\"sk-estimator-id-21\" type=\"checkbox\" ><label for=\"sk-estimator-id-21\" class=\"sk-toggleable__label sk-toggleable__label-arrow\">StandardScaler</label><div class=\"sk-toggleable__content\"><pre>StandardScaler()</pre></div></div></div><div class=\"sk-item\"><div class=\"sk-estimator sk-toggleable\"><input class=\"sk-toggleable__control sk-hidden--visually\" id=\"sk-estimator-id-22\" type=\"checkbox\" ><label for=\"sk-estimator-id-22\" class=\"sk-toggleable__label sk-toggleable__label-arrow\">LinearRegression</label><div class=\"sk-toggleable__content\"><pre>LinearRegression()</pre></div></div></div></div></div></div></div>"
            ]
          },
          "metadata": {},
          "execution_count": 59
        }
      ],
      "source": [
        "linear_scaled.fit(X_train, y_train)"
      ]
    },
    {
      "cell_type": "markdown",
      "source": [
        ">Das trainierte Regressionsmodell kann nun evaluiert werden.\n",
        "\n",
        ">Der 'R2'-Wert beträgt dabei ~0,2634 (26,34%), was einer recht niedrigen Anpassung entspricht. Trotzdem ist dieser Wert höher, als der des errechneten Dummy Regressors. Der 'MAE'-Wert beträgt ~27,14, was einer durchschittlichen Abweichung zur Variable '`adr`' von 27€ entspricht."
      ],
      "metadata": {
        "id": "FsQvGlZHUI5g"
      }
    },
    {
      "cell_type": "code",
      "execution_count": 60,
      "metadata": {
        "id": "kHcDxg9VW4i7",
        "colab": {
          "base_uri": "https://localhost:8080/"
        },
        "outputId": "ec96234a-fd9a-4f42-ebfd-52c2b202b717"
      },
      "outputs": [
        {
          "output_type": "stream",
          "name": "stdout",
          "text": [
            "R2: 0.42282568506105156\n",
            "MAE: 27.16709864849837\n",
            "MSE: 1397.8925400717944\n",
            "RMSE: 37.38840114356048\n",
            "MAPE: 5558511303644892.0\n"
          ]
        }
      ],
      "source": [
        "evaluate(linear_scaled, X_test, y_test)"
      ]
    },
    {
      "cell_type": "markdown",
      "source": [
        "### **Ridge Regression**"
      ],
      "metadata": {
        "id": "NMevQ9pbsmST"
      }
    },
    {
      "cell_type": "markdown",
      "source": [
        ">Über '`sklearn`' kann nun '`RidgeCV`' importiert werden."
      ],
      "metadata": {
        "id": "5ERpO6LzUJ4x"
      }
    },
    {
      "cell_type": "code",
      "execution_count": 61,
      "metadata": {
        "id": "t1gTH2nWMZbl"
      },
      "outputs": [],
      "source": [
        "from sklearn.linear_model import RidgeCV"
      ]
    },
    {
      "cell_type": "markdown",
      "source": [
        ">Im nächsten Schritt soll das beste 'alpha' gefunden werden. Es wird festgelegt, dass dazu 200 Werte von 10^-10 bis 10^-1 getestet werden sollen.\n",
        "Desweiteren wird eine Pipeline erstellt, durch die der '`Standard Scaler`' sowie die '`RidgeCV`'-Regression mit dem generierten 'alpha'-Werten verknüpft werden."
      ],
      "metadata": {
        "id": "O5fQcjBHUK-j"
      }
    },
    {
      "cell_type": "code",
      "execution_count": 62,
      "metadata": {
        "id": "895nxs9BMoL9"
      },
      "outputs": [],
      "source": [
        "n_alphas = 200\n",
        "alphaValues = np.logspace(-10, -1, n_alphas)\n",
        "\n",
        "linear_ridge = make_pipeline(StandardScaler(),\n",
        "                             RidgeCV(alphas=alphaValues))"
      ]
    },
    {
      "cell_type": "markdown",
      "source": [
        ">Die Pipeline wird nun dazu verwendet,anhand der Trainingsdaten von 'X' und 'y' das Modell zu trainieren."
      ],
      "metadata": {
        "id": "_MkorPPhUL0v"
      }
    },
    {
      "cell_type": "code",
      "execution_count": 63,
      "metadata": {
        "id": "uxc-o8jTlHQq",
        "colab": {
          "base_uri": "https://localhost:8080/",
          "height": 124
        },
        "outputId": "43de9aaf-e458-4699-f963-e6831d593503"
      },
      "outputs": [
        {
          "output_type": "execute_result",
          "data": {
            "text/plain": [
              "Pipeline(steps=[('standardscaler', StandardScaler()),\n",
              "                ('ridgecv',\n",
              "                 RidgeCV(alphas=array([1.00000000e-10, 1.10975250e-10, 1.23155060e-10, 1.36671636e-10,\n",
              "       1.51671689e-10, 1.68318035e-10, 1.86791360e-10, 2.07292178e-10,\n",
              "       2.30043012e-10, 2.55290807e-10, 2.83309610e-10, 3.14403547e-10,\n",
              "       3.48910121e-10, 3.87203878e-10, 4.29700470e-10, 4.76861170e-10,\n",
              "       5.29197874e-10, 5.87278661...\n",
              "       9.11588830e-03, 1.01163798e-02, 1.12266777e-02, 1.24588336e-02,\n",
              "       1.38262217e-02, 1.53436841e-02, 1.70276917e-02, 1.88965234e-02,\n",
              "       2.09704640e-02, 2.32720248e-02, 2.58261876e-02, 2.86606762e-02,\n",
              "       3.18062569e-02, 3.52970730e-02, 3.91710149e-02, 4.34701316e-02,\n",
              "       4.82410870e-02, 5.35356668e-02, 5.94113398e-02, 6.59318827e-02,\n",
              "       7.31680714e-02, 8.11984499e-02, 9.01101825e-02, 1.00000000e-01])))])"
            ],
            "text/html": [
              "<style>#sk-container-id-11 {color: black;background-color: white;}#sk-container-id-11 pre{padding: 0;}#sk-container-id-11 div.sk-toggleable {background-color: white;}#sk-container-id-11 label.sk-toggleable__label {cursor: pointer;display: block;width: 100%;margin-bottom: 0;padding: 0.3em;box-sizing: border-box;text-align: center;}#sk-container-id-11 label.sk-toggleable__label-arrow:before {content: \"▸\";float: left;margin-right: 0.25em;color: #696969;}#sk-container-id-11 label.sk-toggleable__label-arrow:hover:before {color: black;}#sk-container-id-11 div.sk-estimator:hover label.sk-toggleable__label-arrow:before {color: black;}#sk-container-id-11 div.sk-toggleable__content {max-height: 0;max-width: 0;overflow: hidden;text-align: left;background-color: #f0f8ff;}#sk-container-id-11 div.sk-toggleable__content pre {margin: 0.2em;color: black;border-radius: 0.25em;background-color: #f0f8ff;}#sk-container-id-11 input.sk-toggleable__control:checked~div.sk-toggleable__content {max-height: 200px;max-width: 100%;overflow: auto;}#sk-container-id-11 input.sk-toggleable__control:checked~label.sk-toggleable__label-arrow:before {content: \"▾\";}#sk-container-id-11 div.sk-estimator input.sk-toggleable__control:checked~label.sk-toggleable__label {background-color: #d4ebff;}#sk-container-id-11 div.sk-label input.sk-toggleable__control:checked~label.sk-toggleable__label {background-color: #d4ebff;}#sk-container-id-11 input.sk-hidden--visually {border: 0;clip: rect(1px 1px 1px 1px);clip: rect(1px, 1px, 1px, 1px);height: 1px;margin: -1px;overflow: hidden;padding: 0;position: absolute;width: 1px;}#sk-container-id-11 div.sk-estimator {font-family: monospace;background-color: #f0f8ff;border: 1px dotted black;border-radius: 0.25em;box-sizing: border-box;margin-bottom: 0.5em;}#sk-container-id-11 div.sk-estimator:hover {background-color: #d4ebff;}#sk-container-id-11 div.sk-parallel-item::after {content: \"\";width: 100%;border-bottom: 1px solid gray;flex-grow: 1;}#sk-container-id-11 div.sk-label:hover label.sk-toggleable__label {background-color: #d4ebff;}#sk-container-id-11 div.sk-serial::before {content: \"\";position: absolute;border-left: 1px solid gray;box-sizing: border-box;top: 0;bottom: 0;left: 50%;z-index: 0;}#sk-container-id-11 div.sk-serial {display: flex;flex-direction: column;align-items: center;background-color: white;padding-right: 0.2em;padding-left: 0.2em;position: relative;}#sk-container-id-11 div.sk-item {position: relative;z-index: 1;}#sk-container-id-11 div.sk-parallel {display: flex;align-items: stretch;justify-content: center;background-color: white;position: relative;}#sk-container-id-11 div.sk-item::before, #sk-container-id-11 div.sk-parallel-item::before {content: \"\";position: absolute;border-left: 1px solid gray;box-sizing: border-box;top: 0;bottom: 0;left: 50%;z-index: -1;}#sk-container-id-11 div.sk-parallel-item {display: flex;flex-direction: column;z-index: 1;position: relative;background-color: white;}#sk-container-id-11 div.sk-parallel-item:first-child::after {align-self: flex-end;width: 50%;}#sk-container-id-11 div.sk-parallel-item:last-child::after {align-self: flex-start;width: 50%;}#sk-container-id-11 div.sk-parallel-item:only-child::after {width: 0;}#sk-container-id-11 div.sk-dashed-wrapped {border: 1px dashed gray;margin: 0 0.4em 0.5em 0.4em;box-sizing: border-box;padding-bottom: 0.4em;background-color: white;}#sk-container-id-11 div.sk-label label {font-family: monospace;font-weight: bold;display: inline-block;line-height: 1.2em;}#sk-container-id-11 div.sk-label-container {text-align: center;}#sk-container-id-11 div.sk-container {/* jupyter's `normalize.less` sets `[hidden] { display: none; }` but bootstrap.min.css set `[hidden] { display: none !important; }` so we also need the `!important` here to be able to override the default hidden behavior on the sphinx rendered scikit-learn.org. See: https://github.com/scikit-learn/scikit-learn/issues/21755 */display: inline-block !important;position: relative;}#sk-container-id-11 div.sk-text-repr-fallback {display: none;}</style><div id=\"sk-container-id-11\" class=\"sk-top-container\"><div class=\"sk-text-repr-fallback\"><pre>Pipeline(steps=[(&#x27;standardscaler&#x27;, StandardScaler()),\n",
              "                (&#x27;ridgecv&#x27;,\n",
              "                 RidgeCV(alphas=array([1.00000000e-10, 1.10975250e-10, 1.23155060e-10, 1.36671636e-10,\n",
              "       1.51671689e-10, 1.68318035e-10, 1.86791360e-10, 2.07292178e-10,\n",
              "       2.30043012e-10, 2.55290807e-10, 2.83309610e-10, 3.14403547e-10,\n",
              "       3.48910121e-10, 3.87203878e-10, 4.29700470e-10, 4.76861170e-10,\n",
              "       5.29197874e-10, 5.87278661...\n",
              "       9.11588830e-03, 1.01163798e-02, 1.12266777e-02, 1.24588336e-02,\n",
              "       1.38262217e-02, 1.53436841e-02, 1.70276917e-02, 1.88965234e-02,\n",
              "       2.09704640e-02, 2.32720248e-02, 2.58261876e-02, 2.86606762e-02,\n",
              "       3.18062569e-02, 3.52970730e-02, 3.91710149e-02, 4.34701316e-02,\n",
              "       4.82410870e-02, 5.35356668e-02, 5.94113398e-02, 6.59318827e-02,\n",
              "       7.31680714e-02, 8.11984499e-02, 9.01101825e-02, 1.00000000e-01])))])</pre><b>In a Jupyter environment, please rerun this cell to show the HTML representation or trust the notebook. <br />On GitHub, the HTML representation is unable to render, please try loading this page with nbviewer.org.</b></div><div class=\"sk-container\" hidden><div class=\"sk-item sk-dashed-wrapped\"><div class=\"sk-label-container\"><div class=\"sk-label sk-toggleable\"><input class=\"sk-toggleable__control sk-hidden--visually\" id=\"sk-estimator-id-23\" type=\"checkbox\" ><label for=\"sk-estimator-id-23\" class=\"sk-toggleable__label sk-toggleable__label-arrow\">Pipeline</label><div class=\"sk-toggleable__content\"><pre>Pipeline(steps=[(&#x27;standardscaler&#x27;, StandardScaler()),\n",
              "                (&#x27;ridgecv&#x27;,\n",
              "                 RidgeCV(alphas=array([1.00000000e-10, 1.10975250e-10, 1.23155060e-10, 1.36671636e-10,\n",
              "       1.51671689e-10, 1.68318035e-10, 1.86791360e-10, 2.07292178e-10,\n",
              "       2.30043012e-10, 2.55290807e-10, 2.83309610e-10, 3.14403547e-10,\n",
              "       3.48910121e-10, 3.87203878e-10, 4.29700470e-10, 4.76861170e-10,\n",
              "       5.29197874e-10, 5.87278661...\n",
              "       9.11588830e-03, 1.01163798e-02, 1.12266777e-02, 1.24588336e-02,\n",
              "       1.38262217e-02, 1.53436841e-02, 1.70276917e-02, 1.88965234e-02,\n",
              "       2.09704640e-02, 2.32720248e-02, 2.58261876e-02, 2.86606762e-02,\n",
              "       3.18062569e-02, 3.52970730e-02, 3.91710149e-02, 4.34701316e-02,\n",
              "       4.82410870e-02, 5.35356668e-02, 5.94113398e-02, 6.59318827e-02,\n",
              "       7.31680714e-02, 8.11984499e-02, 9.01101825e-02, 1.00000000e-01])))])</pre></div></div></div><div class=\"sk-serial\"><div class=\"sk-item\"><div class=\"sk-estimator sk-toggleable\"><input class=\"sk-toggleable__control sk-hidden--visually\" id=\"sk-estimator-id-24\" type=\"checkbox\" ><label for=\"sk-estimator-id-24\" class=\"sk-toggleable__label sk-toggleable__label-arrow\">StandardScaler</label><div class=\"sk-toggleable__content\"><pre>StandardScaler()</pre></div></div></div><div class=\"sk-item\"><div class=\"sk-estimator sk-toggleable\"><input class=\"sk-toggleable__control sk-hidden--visually\" id=\"sk-estimator-id-25\" type=\"checkbox\" ><label for=\"sk-estimator-id-25\" class=\"sk-toggleable__label sk-toggleable__label-arrow\">RidgeCV</label><div class=\"sk-toggleable__content\"><pre>RidgeCV(alphas=array([1.00000000e-10, 1.10975250e-10, 1.23155060e-10, 1.36671636e-10,\n",
              "       1.51671689e-10, 1.68318035e-10, 1.86791360e-10, 2.07292178e-10,\n",
              "       2.30043012e-10, 2.55290807e-10, 2.83309610e-10, 3.14403547e-10,\n",
              "       3.48910121e-10, 3.87203878e-10, 4.29700470e-10, 4.76861170e-10,\n",
              "       5.29197874e-10, 5.87278661e-10, 6.51733960e-10, 7.23263390e-10,\n",
              "       8.02643352e-10, 8.90735464e-1...\n",
              "       9.11588830e-03, 1.01163798e-02, 1.12266777e-02, 1.24588336e-02,\n",
              "       1.38262217e-02, 1.53436841e-02, 1.70276917e-02, 1.88965234e-02,\n",
              "       2.09704640e-02, 2.32720248e-02, 2.58261876e-02, 2.86606762e-02,\n",
              "       3.18062569e-02, 3.52970730e-02, 3.91710149e-02, 4.34701316e-02,\n",
              "       4.82410870e-02, 5.35356668e-02, 5.94113398e-02, 6.59318827e-02,\n",
              "       7.31680714e-02, 8.11984499e-02, 9.01101825e-02, 1.00000000e-01]))</pre></div></div></div></div></div></div></div>"
            ]
          },
          "metadata": {},
          "execution_count": 63
        }
      ],
      "source": [
        "linear_ridge.fit(X_train, y_train)"
      ]
    },
    {
      "cell_type": "markdown",
      "source": [
        ">Es wird ein Wert von 0,1 als bestes 'alpha' ausgegeben\n",
        "\n",
        ">'alpha' gibt dabei einen Wert des Regularisierungsparameters an. Dadurch wird die Stärke der Regularisierung gesteuert."
      ],
      "metadata": {
        "id": "XXs1RKYlUNlA"
      }
    },
    {
      "cell_type": "code",
      "execution_count": 64,
      "metadata": {
        "id": "J_6aEsRdlWST",
        "colab": {
          "base_uri": "https://localhost:8080/"
        },
        "outputId": "1f30d9fa-0c3b-4cef-c132-6f3534f654b5"
      },
      "outputs": [
        {
          "output_type": "execute_result",
          "data": {
            "text/plain": [
              "0.1"
            ]
          },
          "metadata": {},
          "execution_count": 64
        }
      ],
      "source": [
        "linear_ridge[1].alpha_"
      ]
    },
    {
      "cell_type": "markdown",
      "source": [
        ">Zuletzt soll ebenfall geschaut werden, ob sich die 'Ridge Regression' zum 'Ordinary Least Squares'-Modell unterscheidet.\n",
        "\n",
        ">Beide Modelle erzielen jedoch den gleichen 'R2'-Wert."
      ],
      "metadata": {
        "id": "XL0VxLYjUOWT"
      }
    },
    {
      "cell_type": "code",
      "execution_count": 65,
      "metadata": {
        "id": "rvhIEBO3RgOB",
        "colab": {
          "base_uri": "https://localhost:8080/"
        },
        "outputId": "c403b704-ac88-4efc-dd64-03c6bb7b05e8"
      },
      "outputs": [
        {
          "output_type": "stream",
          "name": "stdout",
          "text": [
            "R2: 0.42282567381097425\n",
            "MAE: 27.16709696896935\n",
            "MSE: 1397.892567319021\n",
            "RMSE: 37.38840150794122\n",
            "MAPE: 5558511909708798.0\n"
          ]
        }
      ],
      "source": [
        "evaluate(linear_ridge, X_test,y_test)"
      ]
    },
    {
      "cell_type": "markdown",
      "source": [
        ">Aufgrund der des niedrigen 'R2'-Werts und des relativ hohen 'MAE'-Wert, wurde auf ein Hyperparameter Tuning verzichtet, da andere Modelle höhere Werte erzielten."
      ],
      "metadata": {
        "id": "Vc8nepusx_pV"
      }
    },
    {
      "cell_type": "markdown",
      "source": [
        ">Es wird außerdem noch der Mittelwert der Spalte '`adr`' aus dem Dataframe berechnet. Dieser beträgt ca. 102,22."
      ],
      "metadata": {
        "id": "Gudj7uVdUPNf"
      }
    },
    {
      "cell_type": "code",
      "source": [
        "maindf.adr.mean()"
      ],
      "metadata": {
        "id": "JRbrYO_BcCra",
        "colab": {
          "base_uri": "https://localhost:8080/"
        },
        "outputId": "628c9aeb-b084-4ae3-c68c-6b036d59ef53"
      },
      "execution_count": 66,
      "outputs": [
        {
          "output_type": "execute_result",
          "data": {
            "text/plain": [
              "102.46612039949844"
            ]
          },
          "metadata": {},
          "execution_count": 66
        }
      ]
    },
    {
      "cell_type": "markdown",
      "metadata": {
        "id": "nKAPZ1cVagV5"
      },
      "source": [
        "## **SVM**"
      ]
    },
    {
      "cell_type": "markdown",
      "metadata": {
        "id": "6NYvNxFp8zcC"
      },
      "source": [
        "\n",
        "\n",
        "> Als nächstes trainieren und evaluieren wir mithilfe des Support Vector Machine Regressors. Da wir große Datenmengen in das Modell geben, reicht die Standard-Implementierung nicht aus, wir benötigen `LinearSVR` von `sklearn`.\n",
        "\n",
        "\n"
      ]
    },
    {
      "cell_type": "code",
      "execution_count": 67,
      "metadata": {
        "id": "GmmzWrgrZytj"
      },
      "outputs": [],
      "source": [
        "from sklearn.svm import LinearSVR"
      ]
    },
    {
      "cell_type": "markdown",
      "source": [
        "\n",
        "\n",
        "> Wir bilden eine Pipeline, in der zuerst die Daten skaliert und dann direkt in das LinearSVR-Modell gegeben werden. Für das Modell verwenden wir wieder den random_state 42 und tol=1e-5. tol bezeichnet dabei den Toleranzwert, unter den der LinearSVR trainiert werden soll. Das Training wird beendet, wenn die Vorhersagen weniger oder gleich dem Toleranzwert von den tatsächlichen Zielwerten abweichen.\n",
        "Ein niedriger Toleranzwert führt zwar zu einer hohen Genauigkeit, verlangsamt dafür aber das Training."
      ],
      "metadata": {
        "id": "yOhel4knYWpF"
      }
    },
    {
      "cell_type": "code",
      "execution_count": 68,
      "metadata": {
        "id": "EsfTnomganCp"
      },
      "outputs": [],
      "source": [
        "lsvr = make_pipeline(StandardScaler(),\n",
        "                     LinearSVR(random_state=42, tol=1e-5))"
      ]
    },
    {
      "cell_type": "markdown",
      "source": [
        "\n",
        "\n",
        "> Das Modell kann dann auf die Trainingsdaten trainiert werden.\n",
        "\n"
      ],
      "metadata": {
        "id": "lQR7pKVra4Gj"
      }
    },
    {
      "cell_type": "code",
      "execution_count": 69,
      "metadata": {
        "id": "29hUT1AMapVn",
        "colab": {
          "base_uri": "https://localhost:8080/",
          "height": 124
        },
        "outputId": "47babeb0-71f1-4056-ab49-a5c7f0d7a632"
      },
      "outputs": [
        {
          "output_type": "execute_result",
          "data": {
            "text/plain": [
              "Pipeline(steps=[('standardscaler', StandardScaler()),\n",
              "                ('linearsvr', LinearSVR(random_state=42, tol=1e-05))])"
            ],
            "text/html": [
              "<style>#sk-container-id-12 {color: black;background-color: white;}#sk-container-id-12 pre{padding: 0;}#sk-container-id-12 div.sk-toggleable {background-color: white;}#sk-container-id-12 label.sk-toggleable__label {cursor: pointer;display: block;width: 100%;margin-bottom: 0;padding: 0.3em;box-sizing: border-box;text-align: center;}#sk-container-id-12 label.sk-toggleable__label-arrow:before {content: \"▸\";float: left;margin-right: 0.25em;color: #696969;}#sk-container-id-12 label.sk-toggleable__label-arrow:hover:before {color: black;}#sk-container-id-12 div.sk-estimator:hover label.sk-toggleable__label-arrow:before {color: black;}#sk-container-id-12 div.sk-toggleable__content {max-height: 0;max-width: 0;overflow: hidden;text-align: left;background-color: #f0f8ff;}#sk-container-id-12 div.sk-toggleable__content pre {margin: 0.2em;color: black;border-radius: 0.25em;background-color: #f0f8ff;}#sk-container-id-12 input.sk-toggleable__control:checked~div.sk-toggleable__content {max-height: 200px;max-width: 100%;overflow: auto;}#sk-container-id-12 input.sk-toggleable__control:checked~label.sk-toggleable__label-arrow:before {content: \"▾\";}#sk-container-id-12 div.sk-estimator input.sk-toggleable__control:checked~label.sk-toggleable__label {background-color: #d4ebff;}#sk-container-id-12 div.sk-label input.sk-toggleable__control:checked~label.sk-toggleable__label {background-color: #d4ebff;}#sk-container-id-12 input.sk-hidden--visually {border: 0;clip: rect(1px 1px 1px 1px);clip: rect(1px, 1px, 1px, 1px);height: 1px;margin: -1px;overflow: hidden;padding: 0;position: absolute;width: 1px;}#sk-container-id-12 div.sk-estimator {font-family: monospace;background-color: #f0f8ff;border: 1px dotted black;border-radius: 0.25em;box-sizing: border-box;margin-bottom: 0.5em;}#sk-container-id-12 div.sk-estimator:hover {background-color: #d4ebff;}#sk-container-id-12 div.sk-parallel-item::after {content: \"\";width: 100%;border-bottom: 1px solid gray;flex-grow: 1;}#sk-container-id-12 div.sk-label:hover label.sk-toggleable__label {background-color: #d4ebff;}#sk-container-id-12 div.sk-serial::before {content: \"\";position: absolute;border-left: 1px solid gray;box-sizing: border-box;top: 0;bottom: 0;left: 50%;z-index: 0;}#sk-container-id-12 div.sk-serial {display: flex;flex-direction: column;align-items: center;background-color: white;padding-right: 0.2em;padding-left: 0.2em;position: relative;}#sk-container-id-12 div.sk-item {position: relative;z-index: 1;}#sk-container-id-12 div.sk-parallel {display: flex;align-items: stretch;justify-content: center;background-color: white;position: relative;}#sk-container-id-12 div.sk-item::before, #sk-container-id-12 div.sk-parallel-item::before {content: \"\";position: absolute;border-left: 1px solid gray;box-sizing: border-box;top: 0;bottom: 0;left: 50%;z-index: -1;}#sk-container-id-12 div.sk-parallel-item {display: flex;flex-direction: column;z-index: 1;position: relative;background-color: white;}#sk-container-id-12 div.sk-parallel-item:first-child::after {align-self: flex-end;width: 50%;}#sk-container-id-12 div.sk-parallel-item:last-child::after {align-self: flex-start;width: 50%;}#sk-container-id-12 div.sk-parallel-item:only-child::after {width: 0;}#sk-container-id-12 div.sk-dashed-wrapped {border: 1px dashed gray;margin: 0 0.4em 0.5em 0.4em;box-sizing: border-box;padding-bottom: 0.4em;background-color: white;}#sk-container-id-12 div.sk-label label {font-family: monospace;font-weight: bold;display: inline-block;line-height: 1.2em;}#sk-container-id-12 div.sk-label-container {text-align: center;}#sk-container-id-12 div.sk-container {/* jupyter's `normalize.less` sets `[hidden] { display: none; }` but bootstrap.min.css set `[hidden] { display: none !important; }` so we also need the `!important` here to be able to override the default hidden behavior on the sphinx rendered scikit-learn.org. See: https://github.com/scikit-learn/scikit-learn/issues/21755 */display: inline-block !important;position: relative;}#sk-container-id-12 div.sk-text-repr-fallback {display: none;}</style><div id=\"sk-container-id-12\" class=\"sk-top-container\"><div class=\"sk-text-repr-fallback\"><pre>Pipeline(steps=[(&#x27;standardscaler&#x27;, StandardScaler()),\n",
              "                (&#x27;linearsvr&#x27;, LinearSVR(random_state=42, tol=1e-05))])</pre><b>In a Jupyter environment, please rerun this cell to show the HTML representation or trust the notebook. <br />On GitHub, the HTML representation is unable to render, please try loading this page with nbviewer.org.</b></div><div class=\"sk-container\" hidden><div class=\"sk-item sk-dashed-wrapped\"><div class=\"sk-label-container\"><div class=\"sk-label sk-toggleable\"><input class=\"sk-toggleable__control sk-hidden--visually\" id=\"sk-estimator-id-26\" type=\"checkbox\" ><label for=\"sk-estimator-id-26\" class=\"sk-toggleable__label sk-toggleable__label-arrow\">Pipeline</label><div class=\"sk-toggleable__content\"><pre>Pipeline(steps=[(&#x27;standardscaler&#x27;, StandardScaler()),\n",
              "                (&#x27;linearsvr&#x27;, LinearSVR(random_state=42, tol=1e-05))])</pre></div></div></div><div class=\"sk-serial\"><div class=\"sk-item\"><div class=\"sk-estimator sk-toggleable\"><input class=\"sk-toggleable__control sk-hidden--visually\" id=\"sk-estimator-id-27\" type=\"checkbox\" ><label for=\"sk-estimator-id-27\" class=\"sk-toggleable__label sk-toggleable__label-arrow\">StandardScaler</label><div class=\"sk-toggleable__content\"><pre>StandardScaler()</pre></div></div></div><div class=\"sk-item\"><div class=\"sk-estimator sk-toggleable\"><input class=\"sk-toggleable__control sk-hidden--visually\" id=\"sk-estimator-id-28\" type=\"checkbox\" ><label for=\"sk-estimator-id-28\" class=\"sk-toggleable__label sk-toggleable__label-arrow\">LinearSVR</label><div class=\"sk-toggleable__content\"><pre>LinearSVR(random_state=42, tol=1e-05)</pre></div></div></div></div></div></div></div>"
            ]
          },
          "metadata": {},
          "execution_count": 69
        }
      ],
      "source": [
        "lsvr.fit(X_train, y_train)"
      ]
    },
    {
      "cell_type": "markdown",
      "source": [
        "\n",
        "> Nach Beenden des Trainings evaluieren wir den LinearSVR anhand der Testdaten.\n",
        "\n",
        "\n"
      ],
      "metadata": {
        "id": "dvZFvOIha97e"
      }
    },
    {
      "cell_type": "code",
      "execution_count": 70,
      "metadata": {
        "id": "1pmRshGyasyp",
        "colab": {
          "base_uri": "https://localhost:8080/"
        },
        "outputId": "31f0b93d-30b3-4d37-c691-639a948f6a81"
      },
      "outputs": [
        {
          "output_type": "stream",
          "name": "stdout",
          "text": [
            "R2: 0.39195938175867595\n",
            "MAE: 26.760446916694537\n",
            "MSE: 1472.649461870278\n",
            "RMSE: 38.37511513820223\n",
            "MAPE: 5481775411882708.0\n"
          ]
        }
      ],
      "source": [
        "evaluate(lsvr, X_test, y_test)"
      ]
    },
    {
      "cell_type": "markdown",
      "metadata": {
        "id": "UJwRQMIEPUyw"
      },
      "source": [
        "\n",
        "\n",
        "> Mit einem Bestimmtheitsmaß von rund 39% ist das Modell nicht sehr stark. Wir versuchen deshalb noch weitere Modelle.\n",
        "\n"
      ]
    },
    {
      "cell_type": "markdown",
      "source": [
        "## **Decision Tree**"
      ],
      "metadata": {
        "id": "wS9ROfBgtqDZ"
      }
    },
    {
      "cell_type": "markdown",
      "metadata": {
        "id": "NiDrQQyst_bi"
      },
      "source": [
        "> Als Nächstes soll eine Entscheidungsbaum Regression bzw. eine Decision Tree Regression durchgeführt werden. Dieser Algorithmus wird ebenfalls aufgebaut, wie ein Entscheidungsbaum bei einer Klassifikation. Der Unterschied bei einer Regression liegt darin, dass hier darauf abgezielt wird den Wert eine kontinuierlichen Zielvariable vorhersagen zu können. Grundlage dafür sind die Merkmalswerte der Eingabevariablen.\n",
        "\n",
        ">Der Vorteil von Entscheidungsbaum Regressionen kann darin gesehen werden, dass sie durch die Darstellung der Entscheidungspfade, auf denen die Vorhersagen basieren, leicht zu interpretiert sind."
      ]
    },
    {
      "cell_type": "markdown",
      "source": [
        ">Zunächst wir aus der Bibliothek Scikit-Learn die Klasse '`sklearn.tree`' mit dem '`DecisionTreeRegressor`' importiert."
      ],
      "metadata": {
        "id": "TCOVy_BAEmUt"
      }
    },
    {
      "cell_type": "code",
      "source": [
        "from sklearn.tree import DecisionTreeRegressor"
      ],
      "metadata": {
        "id": "SsgedCJitwhp"
      },
      "execution_count": 71,
      "outputs": []
    },
    {
      "cell_type": "markdown",
      "source": [
        ">Zunächst wird ein Objekt des '`DecisionTreeRegressors`' erstellt. Für die Reproduzierbarkeit der Ergebnisse ist der '`random_state = 42`'. Dies ist die Default Einstellung. Zusätzlich wird dies als Variable '`tree`' gespeichert.\n"
      ],
      "metadata": {
        "id": "WsTiYgQ8FSKy"
      }
    },
    {
      "cell_type": "code",
      "source": [
        "tree = DecisionTreeRegressor(random_state=42)"
      ],
      "metadata": {
        "id": "oG15-J1abq75"
      },
      "execution_count": 72,
      "outputs": []
    },
    {
      "cell_type": "markdown",
      "source": [
        ">Die Variable '`tree`' wird nun mit den Trainingsdaten '`X_train`' und '`Y_train`' trainiert. Nach Abschluss des Trainings, kann das Modell verwendet werden, um Vorhersagen zu treffen.\n"
      ],
      "metadata": {
        "id": "_0T8TMwISe2p"
      }
    },
    {
      "cell_type": "code",
      "source": [
        "tree.fit(X_train, y_train)"
      ],
      "metadata": {
        "id": "b2XLw90TbtNP",
        "colab": {
          "base_uri": "https://localhost:8080/",
          "height": 74
        },
        "outputId": "fd182ab0-70e2-4be3-8df6-24db744731c0"
      },
      "execution_count": 73,
      "outputs": [
        {
          "output_type": "execute_result",
          "data": {
            "text/plain": [
              "DecisionTreeRegressor(random_state=42)"
            ],
            "text/html": [
              "<style>#sk-container-id-13 {color: black;background-color: white;}#sk-container-id-13 pre{padding: 0;}#sk-container-id-13 div.sk-toggleable {background-color: white;}#sk-container-id-13 label.sk-toggleable__label {cursor: pointer;display: block;width: 100%;margin-bottom: 0;padding: 0.3em;box-sizing: border-box;text-align: center;}#sk-container-id-13 label.sk-toggleable__label-arrow:before {content: \"▸\";float: left;margin-right: 0.25em;color: #696969;}#sk-container-id-13 label.sk-toggleable__label-arrow:hover:before {color: black;}#sk-container-id-13 div.sk-estimator:hover label.sk-toggleable__label-arrow:before {color: black;}#sk-container-id-13 div.sk-toggleable__content {max-height: 0;max-width: 0;overflow: hidden;text-align: left;background-color: #f0f8ff;}#sk-container-id-13 div.sk-toggleable__content pre {margin: 0.2em;color: black;border-radius: 0.25em;background-color: #f0f8ff;}#sk-container-id-13 input.sk-toggleable__control:checked~div.sk-toggleable__content {max-height: 200px;max-width: 100%;overflow: auto;}#sk-container-id-13 input.sk-toggleable__control:checked~label.sk-toggleable__label-arrow:before {content: \"▾\";}#sk-container-id-13 div.sk-estimator input.sk-toggleable__control:checked~label.sk-toggleable__label {background-color: #d4ebff;}#sk-container-id-13 div.sk-label input.sk-toggleable__control:checked~label.sk-toggleable__label {background-color: #d4ebff;}#sk-container-id-13 input.sk-hidden--visually {border: 0;clip: rect(1px 1px 1px 1px);clip: rect(1px, 1px, 1px, 1px);height: 1px;margin: -1px;overflow: hidden;padding: 0;position: absolute;width: 1px;}#sk-container-id-13 div.sk-estimator {font-family: monospace;background-color: #f0f8ff;border: 1px dotted black;border-radius: 0.25em;box-sizing: border-box;margin-bottom: 0.5em;}#sk-container-id-13 div.sk-estimator:hover {background-color: #d4ebff;}#sk-container-id-13 div.sk-parallel-item::after {content: \"\";width: 100%;border-bottom: 1px solid gray;flex-grow: 1;}#sk-container-id-13 div.sk-label:hover label.sk-toggleable__label {background-color: #d4ebff;}#sk-container-id-13 div.sk-serial::before {content: \"\";position: absolute;border-left: 1px solid gray;box-sizing: border-box;top: 0;bottom: 0;left: 50%;z-index: 0;}#sk-container-id-13 div.sk-serial {display: flex;flex-direction: column;align-items: center;background-color: white;padding-right: 0.2em;padding-left: 0.2em;position: relative;}#sk-container-id-13 div.sk-item {position: relative;z-index: 1;}#sk-container-id-13 div.sk-parallel {display: flex;align-items: stretch;justify-content: center;background-color: white;position: relative;}#sk-container-id-13 div.sk-item::before, #sk-container-id-13 div.sk-parallel-item::before {content: \"\";position: absolute;border-left: 1px solid gray;box-sizing: border-box;top: 0;bottom: 0;left: 50%;z-index: -1;}#sk-container-id-13 div.sk-parallel-item {display: flex;flex-direction: column;z-index: 1;position: relative;background-color: white;}#sk-container-id-13 div.sk-parallel-item:first-child::after {align-self: flex-end;width: 50%;}#sk-container-id-13 div.sk-parallel-item:last-child::after {align-self: flex-start;width: 50%;}#sk-container-id-13 div.sk-parallel-item:only-child::after {width: 0;}#sk-container-id-13 div.sk-dashed-wrapped {border: 1px dashed gray;margin: 0 0.4em 0.5em 0.4em;box-sizing: border-box;padding-bottom: 0.4em;background-color: white;}#sk-container-id-13 div.sk-label label {font-family: monospace;font-weight: bold;display: inline-block;line-height: 1.2em;}#sk-container-id-13 div.sk-label-container {text-align: center;}#sk-container-id-13 div.sk-container {/* jupyter's `normalize.less` sets `[hidden] { display: none; }` but bootstrap.min.css set `[hidden] { display: none !important; }` so we also need the `!important` here to be able to override the default hidden behavior on the sphinx rendered scikit-learn.org. See: https://github.com/scikit-learn/scikit-learn/issues/21755 */display: inline-block !important;position: relative;}#sk-container-id-13 div.sk-text-repr-fallback {display: none;}</style><div id=\"sk-container-id-13\" class=\"sk-top-container\"><div class=\"sk-text-repr-fallback\"><pre>DecisionTreeRegressor(random_state=42)</pre><b>In a Jupyter environment, please rerun this cell to show the HTML representation or trust the notebook. <br />On GitHub, the HTML representation is unable to render, please try loading this page with nbviewer.org.</b></div><div class=\"sk-container\" hidden><div class=\"sk-item\"><div class=\"sk-estimator sk-toggleable\"><input class=\"sk-toggleable__control sk-hidden--visually\" id=\"sk-estimator-id-29\" type=\"checkbox\" checked><label for=\"sk-estimator-id-29\" class=\"sk-toggleable__label sk-toggleable__label-arrow\">DecisionTreeRegressor</label><div class=\"sk-toggleable__content\"><pre>DecisionTreeRegressor(random_state=42)</pre></div></div></div></div></div>"
            ]
          },
          "metadata": {},
          "execution_count": 73
        }
      ]
    },
    {
      "cell_type": "markdown",
      "source": [
        ">Mit '`evaluate`' werden die zuvor importierten Metriken berechnet.\n",
        "\n",
        ">Das Bestimmtheitsmaß 'R2' gibt an, wie gut die Varianz der abhängigen Variable im Modell erklärt werden kann. Es liegt zwischen 0 und 1, wobei 1 eine perfekte Anpassung der Daten an das Modell darstellt. In diesem Fall liegt das 'R2' bei einem Wert von ~0,3798, also 37,98%. Dies bedeutet, dass nur gut ein Drittel der Varianz der Zielvariable erklärt wird.\n",
        "\n",
        ">Der 'MAE', der mittlere absolute Fehler sollte ebenfalls beachtet werden. Hierbei wird eine durchschnittliche Abweichung zwischen vorhergesagtem und tatsächlichen Wert berechnet. Hier liegt der 'MAE' bei ~17,03. Das bedeutet, dass die '`adr`' im Modell durchschnittlich um ca. 17€ falsch vorhergesagt wird."
      ],
      "metadata": {
        "id": "X_w84AiXSvIj"
      }
    },
    {
      "cell_type": "code",
      "source": [
        "evaluate(tree, X_test, y_test)"
      ],
      "metadata": {
        "id": "ORpZrpWIb3qL",
        "colab": {
          "base_uri": "https://localhost:8080/"
        },
        "outputId": "f61f6c05-a1fd-450b-d19e-1c5f6ce09ba0"
      },
      "execution_count": 74,
      "outputs": [
        {
          "output_type": "stream",
          "name": "stdout",
          "text": [
            "R2: 0.6306678803587248\n",
            "MAE: 15.891284618192408\n",
            "MSE: 894.5072597522868\n",
            "RMSE: 29.90831422451434\n",
            "MAPE: 2620282486443859.0\n"
          ]
        }
      ]
    },
    {
      "cell_type": "markdown",
      "source": [
        ">Der Entscheidungsbaum kann zur besseren Interpretierbarkeit auch geplottet werden. Die Abbildung soll mit '`figsize=(10,10)`' auf 10x10 Zoll festgelegt werden. Zudem sollen lediglich die ersten beiden Ebenen ('`max_depth=2`') angezeigt werden. Die '`fontsize=10`' legt die Schriftgröße fest und unter '`feature_names=X.columns`' werden die Namen, der im Entscheidungsbaum berücksichtigten Merkmale ausgegeben.\n",
        "\n",
        "> am wichtigsten scheint die durchschnittliche Temperatur zu sein da dies die Wurzel des Entscheidungsbaumes ist. Auf die '`adr`' haben zudem die Variablen '`city_Lisbon`' sowie '`children`' eine Auswirkung, auch wenn diese mit <=0,5 gering ist."
      ],
      "metadata": {
        "id": "obYDmN4jj1uW"
      }
    },
    {
      "cell_type": "code",
      "source": [
        "from sklearn import tree as sktree\n",
        "import matplotlib.pyplot as plt\n",
        "plt.figure(figsize=(10,10))\n",
        "\n",
        "sktree.plot_tree(tree, max_depth=2, fontsize=10, feature_names=X.columns);"
      ],
      "metadata": {
        "id": "KgmBdRsPe4dU",
        "colab": {
          "base_uri": "https://localhost:8080/",
          "height": 807
        },
        "outputId": "2dca50cd-aa27-4120-c178-4f2ff7d98b0f"
      },
      "execution_count": 75,
      "outputs": [
        {
          "output_type": "display_data",
          "data": {
            "text/plain": [
              "<Figure size 1000x1000 with 1 Axes>"
            ],
            "image/png": "[encoded data removed]"
          },
          "metadata": {}
        }
      ]
    },
    {
      "cell_type": "markdown",
      "source": [
        ">Um die Ergebnisse nun in einem zweidimensionalem Diagramm darstellen zu können, sollte zurest eine unabhängige Variable ausgesucht werden. Die abhängige Variable ist in diesem Fall wieder '`adr`'. Durch das Erstellen des Entscheidungsbaums wurden die Variablen schon errechnet, die den meinsten Einfluss auf die abhängige Variable haben. In diesem Fall ist dies die Variable '`average_temperatur`'.\n",
        "\n",
        "> Dazu sollten die zuerst die Vorhersagen mit den Markmalen der abhängigen Variable '`adr`' zu einem Dataframe zusammengeführt werden."
      ],
      "metadata": {
        "id": "NjDyuzAbVARJ"
      }
    },
    {
      "cell_type": "code",
      "execution_count": 76,
      "metadata": {
        "id": "h5WHhfC21kdx"
      },
      "outputs": [],
      "source": [
        "predictions = tree.predict(X_test)\n",
        "maindf_with_predictions = pd.concat([X_test, y_test], axis='columns')\n",
        "maindf_with_predictions = pd.concat([maindf_with_predictions, pd.DataFrame(predictions, columns=['Prediction'], index=maindf_with_predictions.index)], axis=1)"
      ]
    },
    {
      "cell_type": "markdown",
      "source": [
        ">Im nächsten Schritt soll der Dataframe in aufsteigender Reihenfolge durch die unabhängige Variable geordnet werden."
      ],
      "metadata": {
        "id": "4TzOCtK4ay9-"
      }
    },
    {
      "cell_type": "code",
      "execution_count": 77,
      "metadata": {
        "id": "VJBb--EBZ8Rd"
      },
      "outputs": [],
      "source": [
        "maindf_with_predictions = maindf_with_predictions.sort_values(by='average_temperature')"
      ]
    },
    {
      "cell_type": "markdown",
      "metadata": {
        "id": "VgccQPiDUVbU"
      },
      "source": [
        ">Der Plot wird nun erstellt.\n",
        "\n",
        ">Wie angegeben repräsentieren die Punkte einzelne Datenpunkte. Die blaue Linie hingegen soll die Vorhersagen des Entscheidungsbaumes verdeutlichen. Bei Overfitting könnten Pruning-Methoden weiterhelfen."
      ]
    },
    {
      "cell_type": "code",
      "execution_count": 78,
      "metadata": {
        "colab": {
          "base_uri": "https://localhost:8080/",
          "height": 375
        },
        "outputId": "872b9e5e-9579-4156-e111-91160b37b413",
        "id": "2e7zNRfYZeo2"
      },
      "outputs": [
        {
          "output_type": "execute_result",
          "data": {
            "text/plain": [
              "<matplotlib.legend.Legend at 0x7fa29d3e92d0>"
            ]
          },
          "metadata": {},
          "execution_count": 78
        },
        {
          "output_type": "display_data",
          "data": {
            "text/plain": [
              "<Figure size 2000x500 with 1 Axes>"
            ],
            "image/png": "[encoded data removed]"
          },
          "metadata": {}
        }
      ],
      "source": [
        "ax = maindf_with_predictions.plot(x='average_temperature', y='adr', kind='scatter', s=20, edgecolor='black',\n",
        "            c='darkorange', label='data', figsize=(20,5), ylim=([0, 600]))\n",
        "\n",
        "maindf_with_predictions.plot(x='average_temperature', y='adr', kind='line', color='cornflowerblue',\n",
        "         label='prediction', linewidth=2, ax=ax)\n",
        "\n",
        "ax.set_xlabel('average_temperature')\n",
        "ax.set_ylabel('adr')\n",
        "ax.set_title('Decision Tree Regression')\n",
        "ax.legend()"
      ]
    },
    {
      "cell_type": "markdown",
      "source": [
        "### **Hyperparameter Tuning**"
      ],
      "metadata": {
        "id": "TcbMtbF70muy"
      }
    },
    {
      "cell_type": "markdown",
      "source": [
        ">Um herauszufinden, ob das Modell noch verbessert werden kann, wird noch ein Hyperparameter Tuning mit '`GridSearchCV`' durchgeführt. Zudem wird der Entscheidungsbaumregressor nochmals definiert."
      ],
      "metadata": {
        "id": "5tO4SopiqrSz"
      }
    },
    {
      "cell_type": "code",
      "source": [
        "from sklearn.model_selection import GridSearchCV\n",
        "from sklearn.tree import DecisionTreeRegressor"
      ],
      "metadata": {
        "id": "bO8eUzJ-A_4Q"
      },
      "execution_count": 79,
      "outputs": []
    },
    {
      "cell_type": "markdown",
      "source": [
        ">Im nächsten Schritt werden die Hyperparameter der GridSearch definiert.\n",
        "\n",
        ">Der Hyperparameter '`max_depth`' gibt die Tiefe des Entscheidungsbaumes an, wobei '`None`' für keine Begrenzung steht.\n",
        "\n",
        ">'`min_samples_split`' gibt die Mindestanzahl der erforderlichen Werte an, um einen 'internal' node zu teilen\n",
        "\n",
        ">'`min_samples_leaf`' gibt die Mindestanzahl der erforderlichen Werte an, die an einem 'leaf node' sind.\n",
        "\n"
      ],
      "metadata": {
        "id": "eBFciQzOsGuR"
      }
    },
    {
      "cell_type": "code",
      "source": [
        "param_grid = {\n",
        "    'max_depth': [None, 5, 10],\n",
        "    'min_samples_split': [2, 5, 10],\n",
        "    'min_samples_leaf': [1, 2, 4]\n",
        "}"
      ],
      "metadata": {
        "id": "lrlOQMkqBJbW"
      },
      "execution_count": 80,
      "outputs": []
    },
    {
      "cell_type": "markdown",
      "source": [
        ">Dann wird die GridSearch durchgeführt. Zudem wird das Modell auf die Daten von 'X_train' und 'y_train' trainiert."
      ],
      "metadata": {
        "id": "fVRvfHCAsPnW"
      }
    },
    {
      "cell_type": "code",
      "source": [
        "grid_search = GridSearchCV(tree, param_grid, cv=5)\n",
        "grid_search.fit(X_train, y_train)"
      ],
      "metadata": {
        "id": "SdbEo-3sBN8c",
        "colab": {
          "base_uri": "https://localhost:8080/",
          "height": 115
        },
        "outputId": "ef3f4c0d-168e-4f62-bd8d-16dbf32ee740"
      },
      "execution_count": 35,
      "outputs": [
        {
          "output_type": "execute_result",
          "data": {
            "text/plain": [
              "GridSearchCV(cv=5, estimator=DecisionTreeRegressor(random_state=42),\n",
              "             param_grid={'max_depth': [None, 5, 10],\n",
              "                         'min_samples_leaf': [1, 2, 4],\n",
              "                         'min_samples_split': [2, 5, 10]})"
            ],
            "text/html": [
              "<style>#sk-container-id-6 {color: black;background-color: white;}#sk-container-id-6 pre{padding: 0;}#sk-container-id-6 div.sk-toggleable {background-color: white;}#sk-container-id-6 label.sk-toggleable__label {cursor: pointer;display: block;width: 100%;margin-bottom: 0;padding: 0.3em;box-sizing: border-box;text-align: center;}#sk-container-id-6 label.sk-toggleable__label-arrow:before {content: \"▸\";float: left;margin-right: 0.25em;color: #696969;}#sk-container-id-6 label.sk-toggleable__label-arrow:hover:before {color: black;}#sk-container-id-6 div.sk-estimator:hover label.sk-toggleable__label-arrow:before {color: black;}#sk-container-id-6 div.sk-toggleable__content {max-height: 0;max-width: 0;overflow: hidden;text-align: left;background-color: #f0f8ff;}#sk-container-id-6 div.sk-toggleable__content pre {margin: 0.2em;color: black;border-radius: 0.25em;background-color: #f0f8ff;}#sk-container-id-6 input.sk-toggleable__control:checked~div.sk-toggleable__content {max-height: 200px;max-width: 100%;overflow: auto;}#sk-container-id-6 input.sk-toggleable__control:checked~label.sk-toggleable__label-arrow:before {content: \"▾\";}#sk-container-id-6 div.sk-estimator input.sk-toggleable__control:checked~label.sk-toggleable__label {background-color: #d4ebff;}#sk-container-id-6 div.sk-label input.sk-toggleable__control:checked~label.sk-toggleable__label {background-color: #d4ebff;}#sk-container-id-6 input.sk-hidden--visually {border: 0;clip: rect(1px 1px 1px 1px);clip: rect(1px, 1px, 1px, 1px);height: 1px;margin: -1px;overflow: hidden;padding: 0;position: absolute;width: 1px;}#sk-container-id-6 div.sk-estimator {font-family: monospace;background-color: #f0f8ff;border: 1px dotted black;border-radius: 0.25em;box-sizing: border-box;margin-bottom: 0.5em;}#sk-container-id-6 div.sk-estimator:hover {background-color: #d4ebff;}#sk-container-id-6 div.sk-parallel-item::after {content: \"\";width: 100%;border-bottom: 1px solid gray;flex-grow: 1;}#sk-container-id-6 div.sk-label:hover label.sk-toggleable__label {background-color: #d4ebff;}#sk-container-id-6 div.sk-serial::before {content: \"\";position: absolute;border-left: 1px solid gray;box-sizing: border-box;top: 0;bottom: 0;left: 50%;z-index: 0;}#sk-container-id-6 div.sk-serial {display: flex;flex-direction: column;align-items: center;background-color: white;padding-right: 0.2em;padding-left: 0.2em;position: relative;}#sk-container-id-6 div.sk-item {position: relative;z-index: 1;}#sk-container-id-6 div.sk-parallel {display: flex;align-items: stretch;justify-content: center;background-color: white;position: relative;}#sk-container-id-6 div.sk-item::before, #sk-container-id-6 div.sk-parallel-item::before {content: \"\";position: absolute;border-left: 1px solid gray;box-sizing: border-box;top: 0;bottom: 0;left: 50%;z-index: -1;}#sk-container-id-6 div.sk-parallel-item {display: flex;flex-direction: column;z-index: 1;position: relative;background-color: white;}#sk-container-id-6 div.sk-parallel-item:first-child::after {align-self: flex-end;width: 50%;}#sk-container-id-6 div.sk-parallel-item:last-child::after {align-self: flex-start;width: 50%;}#sk-container-id-6 div.sk-parallel-item:only-child::after {width: 0;}#sk-container-id-6 div.sk-dashed-wrapped {border: 1px dashed gray;margin: 0 0.4em 0.5em 0.4em;box-sizing: border-box;padding-bottom: 0.4em;background-color: white;}#sk-container-id-6 div.sk-label label {font-family: monospace;font-weight: bold;display: inline-block;line-height: 1.2em;}#sk-container-id-6 div.sk-label-container {text-align: center;}#sk-container-id-6 div.sk-container {/* jupyter's `normalize.less` sets `[hidden] { display: none; }` but bootstrap.min.css set `[hidden] { display: none !important; }` so we also need the `!important` here to be able to override the default hidden behavior on the sphinx rendered scikit-learn.org. See: https://github.com/scikit-learn/scikit-learn/issues/21755 */display: inline-block !important;position: relative;}#sk-container-id-6 div.sk-text-repr-fallback {display: none;}</style><div id=\"sk-container-id-6\" class=\"sk-top-container\"><div class=\"sk-text-repr-fallback\"><pre>GridSearchCV(cv=5, estimator=DecisionTreeRegressor(random_state=42),\n",
              "             param_grid={&#x27;max_depth&#x27;: [None, 5, 10],\n",
              "                         &#x27;min_samples_leaf&#x27;: [1, 2, 4],\n",
              "                         &#x27;min_samples_split&#x27;: [2, 5, 10]})</pre><b>In a Jupyter environment, please rerun this cell to show the HTML representation or trust the notebook. <br />On GitHub, the HTML representation is unable to render, please try loading this page with nbviewer.org.</b></div><div class=\"sk-container\" hidden><div class=\"sk-item sk-dashed-wrapped\"><div class=\"sk-label-container\"><div class=\"sk-label sk-toggleable\"><input class=\"sk-toggleable__control sk-hidden--visually\" id=\"sk-estimator-id-12\" type=\"checkbox\" ><label for=\"sk-estimator-id-12\" class=\"sk-toggleable__label sk-toggleable__label-arrow\">GridSearchCV</label><div class=\"sk-toggleable__content\"><pre>GridSearchCV(cv=5, estimator=DecisionTreeRegressor(random_state=42),\n",
              "             param_grid={&#x27;max_depth&#x27;: [None, 5, 10],\n",
              "                         &#x27;min_samples_leaf&#x27;: [1, 2, 4],\n",
              "                         &#x27;min_samples_split&#x27;: [2, 5, 10]})</pre></div></div></div><div class=\"sk-parallel\"><div class=\"sk-parallel-item\"><div class=\"sk-item\"><div class=\"sk-label-container\"><div class=\"sk-label sk-toggleable\"><input class=\"sk-toggleable__control sk-hidden--visually\" id=\"sk-estimator-id-13\" type=\"checkbox\" ><label for=\"sk-estimator-id-13\" class=\"sk-toggleable__label sk-toggleable__label-arrow\">estimator: DecisionTreeRegressor</label><div class=\"sk-toggleable__content\"><pre>DecisionTreeRegressor(random_state=42)</pre></div></div></div><div class=\"sk-serial\"><div class=\"sk-item\"><div class=\"sk-estimator sk-toggleable\"><input class=\"sk-toggleable__control sk-hidden--visually\" id=\"sk-estimator-id-14\" type=\"checkbox\" ><label for=\"sk-estimator-id-14\" class=\"sk-toggleable__label sk-toggleable__label-arrow\">DecisionTreeRegressor</label><div class=\"sk-toggleable__content\"><pre>DecisionTreeRegressor(random_state=42)</pre></div></div></div></div></div></div></div></div></div></div>"
            ]
          },
          "metadata": {},
          "execution_count": 35
        }
      ]
    },
    {
      "cell_type": "markdown",
      "source": [
        ">Dann wird die GridSearch durchgeführt. Zudem wird das Modell auf die Daten von 'X_train' und 'y_train' trainiert."
      ],
      "metadata": {
        "id": "k8HSdAU_Tklt"
      }
    },
    {
      "cell_type": "markdown",
      "source": [
        ">Die besten Parameter aus der GridSearch sollen nun gefunden werden. Sie sollen als 'Beste Hyperparameter' ausgegeben werden.\n",
        "\n",
        ">Der Parameter '`max_depth`' beträgt in diesem Falle 'None', die '`min_samples_leaf`' beträgt 4 und die '`min_samples_split`' beträgt 10."
      ],
      "metadata": {
        "id": "a0oxPy-Dsl-4"
      }
    },
    {
      "cell_type": "code",
      "source": [
        "best_params = grid_search.best_params_\n",
        "print(\"Beste Hyperparameter:\", best_params)"
      ],
      "metadata": {
        "id": "VjTX96wmBZ9d",
        "colab": {
          "base_uri": "https://localhost:8080/"
        },
        "outputId": "587c0504-91af-45d9-fa96-bd3c11dc2d6b"
      },
      "execution_count": 36,
      "outputs": [
        {
          "metadata": {
            "tags": null
          },
          "name": "stdout",
          "output_type": "stream",
          "text": [
            "Beste Hyperparameter: {'max_depth': None, 'min_samples_leaf': 1, 'min_samples_split': 10}\n"
          ]
        }
      ]
    },
    {
      "cell_type": "markdown",
      "source": [
        ">Im Anschluss wird der Entscheidungsbaumregressor mit den gefundenen, besten Hyperparametern trainiert. Diese werden automatisch übergeben."
      ],
      "metadata": {
        "id": "nRjaHJdWtaQk"
      }
    },
    {
      "cell_type": "code",
      "source": [
        "best_tree = DecisionTreeRegressor(**best_params)\n",
        "best_tree.fit(X_train, y_train)"
      ],
      "metadata": {
        "id": "T3GznyXhBdTh",
        "colab": {
          "base_uri": "https://localhost:8080/",
          "height": 74
        },
        "outputId": "d4a17539-da15-4d6f-d542-6a1226e0d2a9"
      },
      "execution_count": 37,
      "outputs": [
        {
          "output_type": "execute_result",
          "data": {
            "text/plain": [
              "DecisionTreeRegressor(min_samples_split=10)"
            ],
            "text/html": [
              "<style>#sk-container-id-7 {color: black;background-color: white;}#sk-container-id-7 pre{padding: 0;}#sk-container-id-7 div.sk-toggleable {background-color: white;}#sk-container-id-7 label.sk-toggleable__label {cursor: pointer;display: block;width: 100%;margin-bottom: 0;padding: 0.3em;box-sizing: border-box;text-align: center;}#sk-container-id-7 label.sk-toggleable__label-arrow:before {content: \"▸\";float: left;margin-right: 0.25em;color: #696969;}#sk-container-id-7 label.sk-toggleable__label-arrow:hover:before {color: black;}#sk-container-id-7 div.sk-estimator:hover label.sk-toggleable__label-arrow:before {color: black;}#sk-container-id-7 div.sk-toggleable__content {max-height: 0;max-width: 0;overflow: hidden;text-align: left;background-color: #f0f8ff;}#sk-container-id-7 div.sk-toggleable__content pre {margin: 0.2em;color: black;border-radius: 0.25em;background-color: #f0f8ff;}#sk-container-id-7 input.sk-toggleable__control:checked~div.sk-toggleable__content {max-height: 200px;max-width: 100%;overflow: auto;}#sk-container-id-7 input.sk-toggleable__control:checked~label.sk-toggleable__label-arrow:before {content: \"▾\";}#sk-container-id-7 div.sk-estimator input.sk-toggleable__control:checked~label.sk-toggleable__label {background-color: #d4ebff;}#sk-container-id-7 div.sk-label input.sk-toggleable__control:checked~label.sk-toggleable__label {background-color: #d4ebff;}#sk-container-id-7 input.sk-hidden--visually {border: 0;clip: rect(1px 1px 1px 1px);clip: rect(1px, 1px, 1px, 1px);height: 1px;margin: -1px;overflow: hidden;padding: 0;position: absolute;width: 1px;}#sk-container-id-7 div.sk-estimator {font-family: monospace;background-color: #f0f8ff;border: 1px dotted black;border-radius: 0.25em;box-sizing: border-box;margin-bottom: 0.5em;}#sk-container-id-7 div.sk-estimator:hover {background-color: #d4ebff;}#sk-container-id-7 div.sk-parallel-item::after {content: \"\";width: 100%;border-bottom: 1px solid gray;flex-grow: 1;}#sk-container-id-7 div.sk-label:hover label.sk-toggleable__label {background-color: #d4ebff;}#sk-container-id-7 div.sk-serial::before {content: \"\";position: absolute;border-left: 1px solid gray;box-sizing: border-box;top: 0;bottom: 0;left: 50%;z-index: 0;}#sk-container-id-7 div.sk-serial {display: flex;flex-direction: column;align-items: center;background-color: white;padding-right: 0.2em;padding-left: 0.2em;position: relative;}#sk-container-id-7 div.sk-item {position: relative;z-index: 1;}#sk-container-id-7 div.sk-parallel {display: flex;align-items: stretch;justify-content: center;background-color: white;position: relative;}#sk-container-id-7 div.sk-item::before, #sk-container-id-7 div.sk-parallel-item::before {content: \"\";position: absolute;border-left: 1px solid gray;box-sizing: border-box;top: 0;bottom: 0;left: 50%;z-index: -1;}#sk-container-id-7 div.sk-parallel-item {display: flex;flex-direction: column;z-index: 1;position: relative;background-color: white;}#sk-container-id-7 div.sk-parallel-item:first-child::after {align-self: flex-end;width: 50%;}#sk-container-id-7 div.sk-parallel-item:last-child::after {align-self: flex-start;width: 50%;}#sk-container-id-7 div.sk-parallel-item:only-child::after {width: 0;}#sk-container-id-7 div.sk-dashed-wrapped {border: 1px dashed gray;margin: 0 0.4em 0.5em 0.4em;box-sizing: border-box;padding-bottom: 0.4em;background-color: white;}#sk-container-id-7 div.sk-label label {font-family: monospace;font-weight: bold;display: inline-block;line-height: 1.2em;}#sk-container-id-7 div.sk-label-container {text-align: center;}#sk-container-id-7 div.sk-container {/* jupyter's `normalize.less` sets `[hidden] { display: none; }` but bootstrap.min.css set `[hidden] { display: none !important; }` so we also need the `!important` here to be able to override the default hidden behavior on the sphinx rendered scikit-learn.org. See: https://github.com/scikit-learn/scikit-learn/issues/21755 */display: inline-block !important;position: relative;}#sk-container-id-7 div.sk-text-repr-fallback {display: none;}</style><div id=\"sk-container-id-7\" class=\"sk-top-container\"><div class=\"sk-text-repr-fallback\"><pre>DecisionTreeRegressor(min_samples_split=10)</pre><b>In a Jupyter environment, please rerun this cell to show the HTML representation or trust the notebook. <br />On GitHub, the HTML representation is unable to render, please try loading this page with nbviewer.org.</b></div><div class=\"sk-container\" hidden><div class=\"sk-item\"><div class=\"sk-estimator sk-toggleable\"><input class=\"sk-toggleable__control sk-hidden--visually\" id=\"sk-estimator-id-15\" type=\"checkbox\" checked><label for=\"sk-estimator-id-15\" class=\"sk-toggleable__label sk-toggleable__label-arrow\">DecisionTreeRegressor</label><div class=\"sk-toggleable__content\"><pre>DecisionTreeRegressor(min_samples_split=10)</pre></div></div></div></div></div>"
            ]
          },
          "metadata": {},
          "execution_count": 37
        }
      ]
    },
    {
      "cell_type": "markdown",
      "source": [
        ">Mit dem trainierten Entscheidungsbaum sollen nun Vorhersagen für die Testdaten getroffen werden.\n"
      ],
      "metadata": {
        "id": "VjdT6aAot3e4"
      }
    },
    {
      "cell_type": "code",
      "source": [
        "y_pred = best_tree.predict(X_test)"
      ],
      "metadata": {
        "id": "mrWIQExPBgb3"
      },
      "execution_count": 38,
      "outputs": []
    },
    {
      "cell_type": "markdown",
      "source": [
        ">Nach dem Hyperparameter Tuning hat sich das 'R2' auf ~0,4340 (43,40%) verbessert. Ebenfalls ist auch der 'MAE'-Wert gesunken und liegt nun bei ~16,32. So würde sich die Vorhersage der '`adr`' im Durchschnitt ca. 16€ daneben liegen.\n"
      ],
      "metadata": {
        "id": "IwBYebmrumkH"
      }
    },
    {
      "cell_type": "code",
      "source": [
        "evaluate(best_tree, X_test, y_test)"
      ],
      "metadata": {
        "id": "Z5uudNp8B199",
        "colab": {
          "base_uri": "https://localhost:8080/"
        },
        "outputId": "3093ae61-1983-4f89-bac5-4e1e910ed5b9"
      },
      "execution_count": 39,
      "outputs": [
        {
          "output_type": "stream",
          "name": "stdout",
          "text": [
            "R2: 0.6791812217885858\n",
            "MAE: 15.77465613807241\n",
            "MSE: 777.0099347267753\n",
            "RMSE: 27.874897932131972\n",
            "MAPE: 2758699869826989.0\n"
          ]
        }
      ]
    },
    {
      "cell_type": "markdown",
      "source": [
        ">Dieses Modell hat sich durch das Hyperparameter Tuning zwar verbessert, es kann aber bestimmt noch ein besseres Modell gefunden werden."
      ],
      "metadata": {
        "id": "tRKk7Ng7e9T5"
      }
    },
    {
      "cell_type": "markdown",
      "metadata": {
        "id": "ONo9BImmellg"
      },
      "source": [
        "## **Gradient Boosting**"
      ]
    },
    {
      "cell_type": "markdown",
      "metadata": {
        "id": "V__ZZVBMVloW"
      },
      "source": [
        "\n",
        "\n",
        "> Nach Training und Evaluation des Decision Trees versuchen wir wieder die Ensemble-Implementierung Gradient Boosting, die aus vielen schwächeren Decision Trees ein stärkeres Modell entwickelt. Dafür benötigen wir den `GradientBoostingRegressor` von `sklearn`.\n",
        "\n"
      ]
    },
    {
      "cell_type": "code",
      "execution_count": 40,
      "metadata": {
        "id": "o9tdqcRBem1e"
      },
      "outputs": [],
      "source": [
        "from sklearn.ensemble import GradientBoostingRegressor"
      ]
    },
    {
      "cell_type": "markdown",
      "source": [
        "\n",
        "\n",
        "> Wir erstellen die Pipeline aus Scaler und Regressor. Danach trainieren wir das Modell.\n",
        "\n"
      ],
      "metadata": {
        "id": "k5Oyk3GebzbZ"
      }
    },
    {
      "cell_type": "code",
      "execution_count": 41,
      "metadata": {
        "id": "q-kA4LUJeo7o"
      },
      "outputs": [],
      "source": [
        "gb = make_pipeline(StandardScaler(),\n",
        "                   GradientBoostingRegressor(random_state=42))"
      ]
    },
    {
      "cell_type": "code",
      "execution_count": 42,
      "metadata": {
        "id": "BUY3lDgeesJf",
        "colab": {
          "base_uri": "https://localhost:8080/",
          "height": 124
        },
        "outputId": "fd8478d5-95ef-4d4c-a321-ecefb2f15dfa"
      },
      "outputs": [
        {
          "output_type": "execute_result",
          "data": {
            "text/plain": [
              "Pipeline(steps=[('standardscaler', StandardScaler()),\n",
              "                ('gradientboostingregressor',\n",
              "                 GradientBoostingRegressor(random_state=42))])"
            ],
            "text/html": [
              "<style>#sk-container-id-8 {color: black;background-color: white;}#sk-container-id-8 pre{padding: 0;}#sk-container-id-8 div.sk-toggleable {background-color: white;}#sk-container-id-8 label.sk-toggleable__label {cursor: pointer;display: block;width: 100%;margin-bottom: 0;padding: 0.3em;box-sizing: border-box;text-align: center;}#sk-container-id-8 label.sk-toggleable__label-arrow:before {content: \"▸\";float: left;margin-right: 0.25em;color: #696969;}#sk-container-id-8 label.sk-toggleable__label-arrow:hover:before {color: black;}#sk-container-id-8 div.sk-estimator:hover label.sk-toggleable__label-arrow:before {color: black;}#sk-container-id-8 div.sk-toggleable__content {max-height: 0;max-width: 0;overflow: hidden;text-align: left;background-color: #f0f8ff;}#sk-container-id-8 div.sk-toggleable__content pre {margin: 0.2em;color: black;border-radius: 0.25em;background-color: #f0f8ff;}#sk-container-id-8 input.sk-toggleable__control:checked~div.sk-toggleable__content {max-height: 200px;max-width: 100%;overflow: auto;}#sk-container-id-8 input.sk-toggleable__control:checked~label.sk-toggleable__label-arrow:before {content: \"▾\";}#sk-container-id-8 div.sk-estimator input.sk-toggleable__control:checked~label.sk-toggleable__label {background-color: #d4ebff;}#sk-container-id-8 div.sk-label input.sk-toggleable__control:checked~label.sk-toggleable__label {background-color: #d4ebff;}#sk-container-id-8 input.sk-hidden--visually {border: 0;clip: rect(1px 1px 1px 1px);clip: rect(1px, 1px, 1px, 1px);height: 1px;margin: -1px;overflow: hidden;padding: 0;position: absolute;width: 1px;}#sk-container-id-8 div.sk-estimator {font-family: monospace;background-color: #f0f8ff;border: 1px dotted black;border-radius: 0.25em;box-sizing: border-box;margin-bottom: 0.5em;}#sk-container-id-8 div.sk-estimator:hover {background-color: #d4ebff;}#sk-container-id-8 div.sk-parallel-item::after {content: \"\";width: 100%;border-bottom: 1px solid gray;flex-grow: 1;}#sk-container-id-8 div.sk-label:hover label.sk-toggleable__label {background-color: #d4ebff;}#sk-container-id-8 div.sk-serial::before {content: \"\";position: absolute;border-left: 1px solid gray;box-sizing: border-box;top: 0;bottom: 0;left: 50%;z-index: 0;}#sk-container-id-8 div.sk-serial {display: flex;flex-direction: column;align-items: center;background-color: white;padding-right: 0.2em;padding-left: 0.2em;position: relative;}#sk-container-id-8 div.sk-item {position: relative;z-index: 1;}#sk-container-id-8 div.sk-parallel {display: flex;align-items: stretch;justify-content: center;background-color: white;position: relative;}#sk-container-id-8 div.sk-item::before, #sk-container-id-8 div.sk-parallel-item::before {content: \"\";position: absolute;border-left: 1px solid gray;box-sizing: border-box;top: 0;bottom: 0;left: 50%;z-index: -1;}#sk-container-id-8 div.sk-parallel-item {display: flex;flex-direction: column;z-index: 1;position: relative;background-color: white;}#sk-container-id-8 div.sk-parallel-item:first-child::after {align-self: flex-end;width: 50%;}#sk-container-id-8 div.sk-parallel-item:last-child::after {align-self: flex-start;width: 50%;}#sk-container-id-8 div.sk-parallel-item:only-child::after {width: 0;}#sk-container-id-8 div.sk-dashed-wrapped {border: 1px dashed gray;margin: 0 0.4em 0.5em 0.4em;box-sizing: border-box;padding-bottom: 0.4em;background-color: white;}#sk-container-id-8 div.sk-label label {font-family: monospace;font-weight: bold;display: inline-block;line-height: 1.2em;}#sk-container-id-8 div.sk-label-container {text-align: center;}#sk-container-id-8 div.sk-container {/* jupyter's `normalize.less` sets `[hidden] { display: none; }` but bootstrap.min.css set `[hidden] { display: none !important; }` so we also need the `!important` here to be able to override the default hidden behavior on the sphinx rendered scikit-learn.org. See: https://github.com/scikit-learn/scikit-learn/issues/21755 */display: inline-block !important;position: relative;}#sk-container-id-8 div.sk-text-repr-fallback {display: none;}</style><div id=\"sk-container-id-8\" class=\"sk-top-container\"><div class=\"sk-text-repr-fallback\"><pre>Pipeline(steps=[(&#x27;standardscaler&#x27;, StandardScaler()),\n",
              "                (&#x27;gradientboostingregressor&#x27;,\n",
              "                 GradientBoostingRegressor(random_state=42))])</pre><b>In a Jupyter environment, please rerun this cell to show the HTML representation or trust the notebook. <br />On GitHub, the HTML representation is unable to render, please try loading this page with nbviewer.org.</b></div><div class=\"sk-container\" hidden><div class=\"sk-item sk-dashed-wrapped\"><div class=\"sk-label-container\"><div class=\"sk-label sk-toggleable\"><input class=\"sk-toggleable__control sk-hidden--visually\" id=\"sk-estimator-id-16\" type=\"checkbox\" ><label for=\"sk-estimator-id-16\" class=\"sk-toggleable__label sk-toggleable__label-arrow\">Pipeline</label><div class=\"sk-toggleable__content\"><pre>Pipeline(steps=[(&#x27;standardscaler&#x27;, StandardScaler()),\n",
              "                (&#x27;gradientboostingregressor&#x27;,\n",
              "                 GradientBoostingRegressor(random_state=42))])</pre></div></div></div><div class=\"sk-serial\"><div class=\"sk-item\"><div class=\"sk-estimator sk-toggleable\"><input class=\"sk-toggleable__control sk-hidden--visually\" id=\"sk-estimator-id-17\" type=\"checkbox\" ><label for=\"sk-estimator-id-17\" class=\"sk-toggleable__label sk-toggleable__label-arrow\">StandardScaler</label><div class=\"sk-toggleable__content\"><pre>StandardScaler()</pre></div></div></div><div class=\"sk-item\"><div class=\"sk-estimator sk-toggleable\"><input class=\"sk-toggleable__control sk-hidden--visually\" id=\"sk-estimator-id-18\" type=\"checkbox\" ><label for=\"sk-estimator-id-18\" class=\"sk-toggleable__label sk-toggleable__label-arrow\">GradientBoostingRegressor</label><div class=\"sk-toggleable__content\"><pre>GradientBoostingRegressor(random_state=42)</pre></div></div></div></div></div></div></div>"
            ]
          },
          "metadata": {},
          "execution_count": 42
        }
      ],
      "source": [
        "gb.fit(X_train, y_train)"
      ]
    },
    {
      "cell_type": "markdown",
      "source": [
        "\n",
        "\n",
        "> Die Evaluation zeigt, dass GradientBoosting mit einem Bestimmtheitsmaß von 0,64 deutlich besser performt, als die vorherigen Modelle. Der mittlere absolute Fehler liegt bei 20,86, was bedeutet, dass im Schnitt das Modell die adr um rund 21€ falsch vorhersagt. Wir versuchen, durch Hyperparameter Tuning die Ergebnisse\n",
        " noch zu verbessern.\n",
        "\n"
      ],
      "metadata": {
        "id": "gVJG5qYyb61G"
      }
    },
    {
      "cell_type": "code",
      "execution_count": 43,
      "metadata": {
        "id": "rp6mpapYetWK",
        "colab": {
          "base_uri": "https://localhost:8080/"
        },
        "outputId": "b438cf87-5f18-493c-e939-a82a1ae1dc60"
      },
      "outputs": [
        {
          "output_type": "stream",
          "name": "stdout",
          "text": [
            "R2: 0.6419541401266158\n",
            "MAE: 20.865622348836478\n",
            "MSE: 867.1724010683622\n",
            "RMSE: 29.44779110677679\n",
            "MAPE: 3956896952791488.0\n"
          ]
        }
      ],
      "source": [
        "evaluate(gb, X_test, y_test)"
      ]
    },
    {
      "cell_type": "markdown",
      "metadata": {
        "id": "1bm3UDb8WcrJ"
      },
      "source": [
        "### **Hyperparameter Tuning**"
      ]
    },
    {
      "cell_type": "markdown",
      "metadata": {
        "id": "J6UzfogPWvYu"
      },
      "source": [
        "\n",
        "\n",
        "> Für das Hyperparameter Tuning erstellen wir ein Grid, das die notwendigen Hyperparameter definiert, die im Tuning getestet werden sollen, um daraus die Hyperparameter zu ermitteln, die die besten Ergebnisse erzielen.\n",
        "\n"
      ]
    },
    {
      "cell_type": "code",
      "source": [
        "gb_params = gb.get_params()\n",
        "gb_params"
      ],
      "metadata": {
        "id": "wz2ZRte_ece3",
        "colab": {
          "base_uri": "https://localhost:8080/"
        },
        "outputId": "db6484be-d402-468d-8b80-5bb7c4f822db"
      },
      "execution_count": 88,
      "outputs": [
        {
          "output_type": "execute_result",
          "data": {
            "text/plain": [
              "{'memory': None,\n",
              " 'steps': [('standardscaler', StandardScaler()),\n",
              "  ('gradientboostingregressor', GradientBoostingRegressor(random_state=42))],\n",
              " 'verbose': False,\n",
              " 'standardscaler': StandardScaler(),\n",
              " 'gradientboostingregressor': GradientBoostingRegressor(random_state=42),\n",
              " 'standardscaler__copy': True,\n",
              " 'standardscaler__with_mean': True,\n",
              " 'standardscaler__with_std': True,\n",
              " 'gradientboostingregressor__alpha': 0.9,\n",
              " 'gradientboostingregressor__ccp_alpha': 0.0,\n",
              " 'gradientboostingregressor__criterion': 'friedman_mse',\n",
              " 'gradientboostingregressor__init': None,\n",
              " 'gradientboostingregressor__learning_rate': 0.1,\n",
              " 'gradientboostingregressor__loss': 'squared_error',\n",
              " 'gradientboostingregressor__max_depth': 3,\n",
              " 'gradientboostingregressor__max_features': None,\n",
              " 'gradientboostingregressor__max_leaf_nodes': None,\n",
              " 'gradientboostingregressor__min_impurity_decrease': 0.0,\n",
              " 'gradientboostingregressor__min_samples_leaf': 1,\n",
              " 'gradientboostingregressor__min_samples_split': 2,\n",
              " 'gradientboostingregressor__min_weight_fraction_leaf': 0.0,\n",
              " 'gradientboostingregressor__n_estimators': 100,\n",
              " 'gradientboostingregressor__n_iter_no_change': None,\n",
              " 'gradientboostingregressor__random_state': 42,\n",
              " 'gradientboostingregressor__subsample': 1.0,\n",
              " 'gradientboostingregressor__tol': 0.0001,\n",
              " 'gradientboostingregressor__validation_fraction': 0.1,\n",
              " 'gradientboostingregressor__verbose': 0,\n",
              " 'gradientboostingregressor__warm_start': False}"
            ]
          },
          "metadata": {},
          "execution_count": 88
        }
      ]
    },
    {
      "cell_type": "code",
      "execution_count": 89,
      "metadata": {
        "id": "qW3YCXi3cYP5"
      },
      "outputs": [],
      "source": [
        "param_grid = {\n",
        "    'gradientboostingregressor__loss': ['ls', 'lad', 'huber', 'quantile'],\n",
        "    'gradientboostingregressor__learning_rate': [0.05, 0.1, 0.2, 0.3],\n",
        "    'gradientboostingregressor__n_estimators': [100, 500, 1000],\n",
        "    'gradientboostingregressor__max_depth': [3, 5, 7, 9],\n",
        "    'gradientboostingregressor__min_samples_split': [2, 4, 6],\n",
        "    'gradientboostingregressor__min_samples_leaf': [1, 2, 3],\n",
        "    'gradientboostingregressor__random_state': [42],\n",
        "    'standardscaler': [StandardScaler(), None],\n",
        "}"
      ]
    },
    {
      "cell_type": "markdown",
      "metadata": {
        "id": "BZrDKlSnWeZ_"
      },
      "source": [
        "\n",
        "\n",
        "> Wir nutzen nun wieder die RandomizedSearch in Kombination mit cross-validation. Wir übergeben das Modell, das Grid, die Anzahl an Iterationen, die Angabe `n_jobs=-1`, um alle verfügbaren Prozessoren für diese Aufgabe zu nutzen und so eine möglichst niedrige Berechnungszeit zu erreichen, den random_state 42, die Bestimmung der cross-validation auf 5 Folds sowie die Ausgaben (verbose=1) während des Suchprozesses.\n",
        "\n",
        "> Wir setzen zudem die Iterations auf n_iter=10, um die Laufzeit im Rahmen zu halten, da das Durchlaufen des Modells ca. eine Stunde dauert."
      ]
    },
    {
      "cell_type": "code",
      "execution_count": 90,
      "metadata": {
        "id": "houu11J7cNZp",
        "colab": {
          "base_uri": "https://localhost:8080/",
          "height": 881
        },
        "outputId": "bf0fecd4-295c-4246-cb9c-3e6317858ec9"
      },
      "outputs": [
        {
          "output_type": "stream",
          "name": "stdout",
          "text": [
            "Fitting 5 folds for each of 10 candidates, totalling 50 fits\n"
          ]
        },
        {
          "output_type": "stream",
          "name": "stderr",
          "text": [
            "/usr/local/lib/python3.10/dist-packages/sklearn/model_selection/_validation.py:378: FitFailedWarning: \n",
            "20 fits failed out of a total of 50.\n",
            "The score on these train-test partitions for these parameters will be set to nan.\n",
            "If these failures are not expected, you can try to debug them by setting error_score='raise'.\n",
            "\n",
            "Below are more details about the failures:\n",
            "--------------------------------------------------------------------------------\n",
            "15 fits failed with the following error:\n",
            "Traceback (most recent call last):\n",
            "  File \"/usr/local/lib/python3.10/dist-packages/sklearn/model_selection/_validation.py\", line 686, in _fit_and_score\n",
            "    estimator.fit(X_train, y_train, **fit_params)\n",
            "  File \"/usr/local/lib/python3.10/dist-packages/sklearn/pipeline.py\", line 405, in fit\n",
            "    self._final_estimator.fit(Xt, y, **fit_params_last_step)\n",
            "  File \"/usr/local/lib/python3.10/dist-packages/sklearn/ensemble/_gb.py\", line 420, in fit\n",
            "    self._validate_params()\n",
            "  File \"/usr/local/lib/python3.10/dist-packages/sklearn/base.py\", line 600, in _validate_params\n",
            "    validate_parameter_constraints(\n",
            "  File \"/usr/local/lib/python3.10/dist-packages/sklearn/utils/_param_validation.py\", line 97, in validate_parameter_constraints\n",
            "    raise InvalidParameterError(\n",
            "sklearn.utils._param_validation.InvalidParameterError: The 'loss' parameter of GradientBoostingRegressor must be a str among {'huber', 'squared_error', 'absolute_error', 'quantile'}. Got 'lad' instead.\n",
            "\n",
            "--------------------------------------------------------------------------------\n",
            "5 fits failed with the following error:\n",
            "Traceback (most recent call last):\n",
            "  File \"/usr/local/lib/python3.10/dist-packages/sklearn/model_selection/_validation.py\", line 686, in _fit_and_score\n",
            "    estimator.fit(X_train, y_train, **fit_params)\n",
            "  File \"/usr/local/lib/python3.10/dist-packages/sklearn/pipeline.py\", line 405, in fit\n",
            "    self._final_estimator.fit(Xt, y, **fit_params_last_step)\n",
            "  File \"/usr/local/lib/python3.10/dist-packages/sklearn/ensemble/_gb.py\", line 420, in fit\n",
            "    self._validate_params()\n",
            "  File \"/usr/local/lib/python3.10/dist-packages/sklearn/base.py\", line 600, in _validate_params\n",
            "    validate_parameter_constraints(\n",
            "  File \"/usr/local/lib/python3.10/dist-packages/sklearn/utils/_param_validation.py\", line 97, in validate_parameter_constraints\n",
            "    raise InvalidParameterError(\n",
            "sklearn.utils._param_validation.InvalidParameterError: The 'loss' parameter of GradientBoostingRegressor must be a str among {'absolute_error', 'quantile', 'huber', 'squared_error'}. Got 'lad' instead.\n",
            "\n",
            "  warnings.warn(some_fits_failed_message, FitFailedWarning)\n",
            "/usr/local/lib/python3.10/dist-packages/sklearn/model_selection/_search.py:952: UserWarning: One or more of the test scores are non-finite: [0.70727819 0.31779334        nan        nan        nan 0.71228025\n",
            " 0.27955479 0.66760474 0.64210789        nan]\n",
            "  warnings.warn(\n"
          ]
        },
        {
          "output_type": "execute_result",
          "data": {
            "text/plain": [
              "RandomizedSearchCV(cv=5,\n",
              "                   estimator=Pipeline(steps=[('standardscaler',\n",
              "                                              StandardScaler()),\n",
              "                                             ('gradientboostingregressor',\n",
              "                                              GradientBoostingRegressor(random_state=42))]),\n",
              "                   n_jobs=-1,\n",
              "                   param_distributions={'gradientboostingregressor__learning_rate': [0.05,\n",
              "                                                                                     0.1,\n",
              "                                                                                     0.2,\n",
              "                                                                                     0.3],\n",
              "                                        'gradientboostingregressor__loss': ['ls',\n",
              "                                                                            'lad',\n",
              "                                                                            'huber',\n",
              "                                                                            'quantile'],\n",
              "                                        'gradientboostingregressor__max_depth': [3,\n",
              "                                                                                 5,\n",
              "                                                                                 7,\n",
              "                                                                                 9],\n",
              "                                        'gradientboostingregressor__min_samples_leaf': [1,\n",
              "                                                                                        2,\n",
              "                                                                                        3],\n",
              "                                        'gradientboostingregressor__min_samples_split': [2,\n",
              "                                                                                         4,\n",
              "                                                                                         6],\n",
              "                                        'gradientboostingregressor__n_estimators': [100,\n",
              "                                                                                    500,\n",
              "                                                                                    1000],\n",
              "                                        'gradientboostingregressor__random_state': [42],\n",
              "                                        'standardscaler': [StandardScaler(),\n",
              "                                                           None]},\n",
              "                   random_state=42, verbose=1)"
            ],
            "text/html": [
              "<style>#sk-container-id-14 {color: black;background-color: white;}#sk-container-id-14 pre{padding: 0;}#sk-container-id-14 div.sk-toggleable {background-color: white;}#sk-container-id-14 label.sk-toggleable__label {cursor: pointer;display: block;width: 100%;margin-bottom: 0;padding: 0.3em;box-sizing: border-box;text-align: center;}#sk-container-id-14 label.sk-toggleable__label-arrow:before {content: \"▸\";float: left;margin-right: 0.25em;color: #696969;}#sk-container-id-14 label.sk-toggleable__label-arrow:hover:before {color: black;}#sk-container-id-14 div.sk-estimator:hover label.sk-toggleable__label-arrow:before {color: black;}#sk-container-id-14 div.sk-toggleable__content {max-height: 0;max-width: 0;overflow: hidden;text-align: left;background-color: #f0f8ff;}#sk-container-id-14 div.sk-toggleable__content pre {margin: 0.2em;color: black;border-radius: 0.25em;background-color: #f0f8ff;}#sk-container-id-14 input.sk-toggleable__control:checked~div.sk-toggleable__content {max-height: 200px;max-width: 100%;overflow: auto;}#sk-container-id-14 input.sk-toggleable__control:checked~label.sk-toggleable__label-arrow:before {content: \"▾\";}#sk-container-id-14 div.sk-estimator input.sk-toggleable__control:checked~label.sk-toggleable__label {background-color: #d4ebff;}#sk-container-id-14 div.sk-label input.sk-toggleable__control:checked~label.sk-toggleable__label {background-color: #d4ebff;}#sk-container-id-14 input.sk-hidden--visually {border: 0;clip: rect(1px 1px 1px 1px);clip: rect(1px, 1px, 1px, 1px);height: 1px;margin: -1px;overflow: hidden;padding: 0;position: absolute;width: 1px;}#sk-container-id-14 div.sk-estimator {font-family: monospace;background-color: #f0f8ff;border: 1px dotted black;border-radius: 0.25em;box-sizing: border-box;margin-bottom: 0.5em;}#sk-container-id-14 div.sk-estimator:hover {background-color: #d4ebff;}#sk-container-id-14 div.sk-parallel-item::after {content: \"\";width: 100%;border-bottom: 1px solid gray;flex-grow: 1;}#sk-container-id-14 div.sk-label:hover label.sk-toggleable__label {background-color: #d4ebff;}#sk-container-id-14 div.sk-serial::before {content: \"\";position: absolute;border-left: 1px solid gray;box-sizing: border-box;top: 0;bottom: 0;left: 50%;z-index: 0;}#sk-container-id-14 div.sk-serial {display: flex;flex-direction: column;align-items: center;background-color: white;padding-right: 0.2em;padding-left: 0.2em;position: relative;}#sk-container-id-14 div.sk-item {position: relative;z-index: 1;}#sk-container-id-14 div.sk-parallel {display: flex;align-items: stretch;justify-content: center;background-color: white;position: relative;}#sk-container-id-14 div.sk-item::before, #sk-container-id-14 div.sk-parallel-item::before {content: \"\";position: absolute;border-left: 1px solid gray;box-sizing: border-box;top: 0;bottom: 0;left: 50%;z-index: -1;}#sk-container-id-14 div.sk-parallel-item {display: flex;flex-direction: column;z-index: 1;position: relative;background-color: white;}#sk-container-id-14 div.sk-parallel-item:first-child::after {align-self: flex-end;width: 50%;}#sk-container-id-14 div.sk-parallel-item:last-child::after {align-self: flex-start;width: 50%;}#sk-container-id-14 div.sk-parallel-item:only-child::after {width: 0;}#sk-container-id-14 div.sk-dashed-wrapped {border: 1px dashed gray;margin: 0 0.4em 0.5em 0.4em;box-sizing: border-box;padding-bottom: 0.4em;background-color: white;}#sk-container-id-14 div.sk-label label {font-family: monospace;font-weight: bold;display: inline-block;line-height: 1.2em;}#sk-container-id-14 div.sk-label-container {text-align: center;}#sk-container-id-14 div.sk-container {/* jupyter's `normalize.less` sets `[hidden] { display: none; }` but bootstrap.min.css set `[hidden] { display: none !important; }` so we also need the `!important` here to be able to override the default hidden behavior on the sphinx rendered scikit-learn.org. See: https://github.com/scikit-learn/scikit-learn/issues/21755 */display: inline-block !important;position: relative;}#sk-container-id-14 div.sk-text-repr-fallback {display: none;}</style><div id=\"sk-container-id-14\" class=\"sk-top-container\"><div class=\"sk-text-repr-fallback\"><pre>RandomizedSearchCV(cv=5,\n",
              "                   estimator=Pipeline(steps=[(&#x27;standardscaler&#x27;,\n",
              "                                              StandardScaler()),\n",
              "                                             (&#x27;gradientboostingregressor&#x27;,\n",
              "                                              GradientBoostingRegressor(random_state=42))]),\n",
              "                   n_jobs=-1,\n",
              "                   param_distributions={&#x27;gradientboostingregressor__learning_rate&#x27;: [0.05,\n",
              "                                                                                     0.1,\n",
              "                                                                                     0.2,\n",
              "                                                                                     0.3],\n",
              "                                        &#x27;gradientboostingregressor__loss&#x27;: [&#x27;ls&#x27;,\n",
              "                                                                            &#x27;lad&#x27;,\n",
              "                                                                            &#x27;huber&#x27;,\n",
              "                                                                            &#x27;quantile&#x27;],\n",
              "                                        &#x27;gradientboostingregressor__max_depth&#x27;: [3,\n",
              "                                                                                 5,\n",
              "                                                                                 7,\n",
              "                                                                                 9],\n",
              "                                        &#x27;gradientboostingregressor__min_samples_leaf&#x27;: [1,\n",
              "                                                                                        2,\n",
              "                                                                                        3],\n",
              "                                        &#x27;gradientboostingregressor__min_samples_split&#x27;: [2,\n",
              "                                                                                         4,\n",
              "                                                                                         6],\n",
              "                                        &#x27;gradientboostingregressor__n_estimators&#x27;: [100,\n",
              "                                                                                    500,\n",
              "                                                                                    1000],\n",
              "                                        &#x27;gradientboostingregressor__random_state&#x27;: [42],\n",
              "                                        &#x27;standardscaler&#x27;: [StandardScaler(),\n",
              "                                                           None]},\n",
              "                   random_state=42, verbose=1)</pre><b>In a Jupyter environment, please rerun this cell to show the HTML representation or trust the notebook. <br />On GitHub, the HTML representation is unable to render, please try loading this page with nbviewer.org.</b></div><div class=\"sk-container\" hidden><div class=\"sk-item sk-dashed-wrapped\"><div class=\"sk-label-container\"><div class=\"sk-label sk-toggleable\"><input class=\"sk-toggleable__control sk-hidden--visually\" id=\"sk-estimator-id-30\" type=\"checkbox\" ><label for=\"sk-estimator-id-30\" class=\"sk-toggleable__label sk-toggleable__label-arrow\">RandomizedSearchCV</label><div class=\"sk-toggleable__content\"><pre>RandomizedSearchCV(cv=5,\n",
              "                   estimator=Pipeline(steps=[(&#x27;standardscaler&#x27;,\n",
              "                                              StandardScaler()),\n",
              "                                             (&#x27;gradientboostingregressor&#x27;,\n",
              "                                              GradientBoostingRegressor(random_state=42))]),\n",
              "                   n_jobs=-1,\n",
              "                   param_distributions={&#x27;gradientboostingregressor__learning_rate&#x27;: [0.05,\n",
              "                                                                                     0.1,\n",
              "                                                                                     0.2,\n",
              "                                                                                     0.3],\n",
              "                                        &#x27;gradientboostingregressor__loss&#x27;: [&#x27;ls&#x27;,\n",
              "                                                                            &#x27;lad&#x27;,\n",
              "                                                                            &#x27;huber&#x27;,\n",
              "                                                                            &#x27;quantile&#x27;],\n",
              "                                        &#x27;gradientboostingregressor__max_depth&#x27;: [3,\n",
              "                                                                                 5,\n",
              "                                                                                 7,\n",
              "                                                                                 9],\n",
              "                                        &#x27;gradientboostingregressor__min_samples_leaf&#x27;: [1,\n",
              "                                                                                        2,\n",
              "                                                                                        3],\n",
              "                                        &#x27;gradientboostingregressor__min_samples_split&#x27;: [2,\n",
              "                                                                                         4,\n",
              "                                                                                         6],\n",
              "                                        &#x27;gradientboostingregressor__n_estimators&#x27;: [100,\n",
              "                                                                                    500,\n",
              "                                                                                    1000],\n",
              "                                        &#x27;gradientboostingregressor__random_state&#x27;: [42],\n",
              "                                        &#x27;standardscaler&#x27;: [StandardScaler(),\n",
              "                                                           None]},\n",
              "                   random_state=42, verbose=1)</pre></div></div></div><div class=\"sk-parallel\"><div class=\"sk-parallel-item\"><div class=\"sk-item\"><div class=\"sk-label-container\"><div class=\"sk-label sk-toggleable\"><input class=\"sk-toggleable__control sk-hidden--visually\" id=\"sk-estimator-id-31\" type=\"checkbox\" ><label for=\"sk-estimator-id-31\" class=\"sk-toggleable__label sk-toggleable__label-arrow\">estimator: Pipeline</label><div class=\"sk-toggleable__content\"><pre>Pipeline(steps=[(&#x27;standardscaler&#x27;, StandardScaler()),\n",
              "                (&#x27;gradientboostingregressor&#x27;,\n",
              "                 GradientBoostingRegressor(random_state=42))])</pre></div></div></div><div class=\"sk-serial\"><div class=\"sk-item\"><div class=\"sk-serial\"><div class=\"sk-item\"><div class=\"sk-estimator sk-toggleable\"><input class=\"sk-toggleable__control sk-hidden--visually\" id=\"sk-estimator-id-32\" type=\"checkbox\" ><label for=\"sk-estimator-id-32\" class=\"sk-toggleable__label sk-toggleable__label-arrow\">StandardScaler</label><div class=\"sk-toggleable__content\"><pre>StandardScaler()</pre></div></div></div><div class=\"sk-item\"><div class=\"sk-estimator sk-toggleable\"><input class=\"sk-toggleable__control sk-hidden--visually\" id=\"sk-estimator-id-33\" type=\"checkbox\" ><label for=\"sk-estimator-id-33\" class=\"sk-toggleable__label sk-toggleable__label-arrow\">GradientBoostingRegressor</label><div class=\"sk-toggleable__content\"><pre>GradientBoostingRegressor(random_state=42)</pre></div></div></div></div></div></div></div></div></div></div></div></div>"
            ]
          },
          "metadata": {},
          "execution_count": 90
        }
      ],
      "source": [
        "optimized_gb = RandomizedSearchCV(gb, param_grid, n_iter=10, n_jobs=-1, random_state=42, cv=5, verbose=1)\n",
        "optimized_gb.fit(X_train, y_train)"
      ]
    },
    {
      "cell_type": "markdown",
      "metadata": {
        "id": "zt-lCUjuX1O-"
      },
      "source": [
        "\n",
        "\n",
        "> Nach dem Tuning geben wir nun die bestmögliche Kombination an Hyperparametern aus, die wir durch Hyperparameter Tuning finden konnten und Evaluieren das optimierte Modell.\n",
        "\n"
      ]
    },
    {
      "cell_type": "code",
      "execution_count": 91,
      "metadata": {
        "id": "bHnRjUoPckUN",
        "colab": {
          "base_uri": "https://localhost:8080/"
        },
        "outputId": "7b906d3f-234f-4209-a54b-cb737cde8680"
      },
      "outputs": [
        {
          "output_type": "execute_result",
          "data": {
            "text/plain": [
              "{'standardscaler': StandardScaler(),\n",
              " 'gradientboostingregressor__random_state': 42,\n",
              " 'gradientboostingregressor__n_estimators': 500,\n",
              " 'gradientboostingregressor__min_samples_split': 6,\n",
              " 'gradientboostingregressor__min_samples_leaf': 1,\n",
              " 'gradientboostingregressor__max_depth': 5,\n",
              " 'gradientboostingregressor__loss': 'huber',\n",
              " 'gradientboostingregressor__learning_rate': 0.3}"
            ]
          },
          "metadata": {},
          "execution_count": 91
        }
      ],
      "source": [
        "optimized_gb.best_params_"
      ]
    },
    {
      "cell_type": "code",
      "execution_count": 92,
      "metadata": {
        "id": "_4MQq4Hkck-j",
        "colab": {
          "base_uri": "https://localhost:8080/"
        },
        "outputId": "50912065-5d1a-4011-a2db-ff2b98c4278f"
      },
      "outputs": [
        {
          "output_type": "stream",
          "name": "stdout",
          "text": [
            "R2: 0.787219836415364\n",
            "MAE: 14.103365004030817\n",
            "MSE: 515.3448371687874\n",
            "RMSE: 22.70120783502031\n",
            "MAPE: 3201454514603270.5\n"
          ]
        }
      ],
      "source": [
        "evaluate(optimized_gb, X_test, y_test)"
      ]
    },
    {
      "cell_type": "markdown",
      "source": [
        "> Das Modell hat sich deutlich verbessert, das Bestimmtheitsmaß liegt nun bei 0,787 und der MAE bei 14,10. Geht das mit einem anderen Modell noch besser?"
      ],
      "metadata": {
        "id": "hEU0mhNG-qad"
      }
    },
    {
      "cell_type": "markdown",
      "source": [
        "## **XGB Regression**"
      ],
      "metadata": {
        "id": "AGczG6aCQdAL"
      }
    },
    {
      "cell_type": "markdown",
      "source": [
        "\n",
        "\n",
        "> Als nächstes testen wir noch die XGB Regression, da diese bei der Classification ein vielversprechendes Modell war. Dafür importieren wir den `XGBRegressor` von `xgboost`, bilden die Pipeline und trainieren das Modell auf die Trainingsdaten. Im Anschluss evaluieren wird wieder anhand der Testdaten.\n"
      ],
      "metadata": {
        "id": "5SCQasZPedkE"
      }
    },
    {
      "cell_type": "code",
      "execution_count": 93,
      "metadata": {
        "id": "vRDO86422jBk",
        "colab": {
          "base_uri": "https://localhost:8080/",
          "height": 124
        },
        "outputId": "68d0165f-b088-4c10-9738-abb744db393b"
      },
      "outputs": [
        {
          "output_type": "execute_result",
          "data": {
            "text/plain": [
              "Pipeline(steps=[('standardscaler', StandardScaler()),\n",
              "                ('xgbregressor',\n",
              "                 XGBRegressor(base_score=None, booster=None, callbacks=None,\n",
              "                              colsample_bylevel=None, colsample_bynode=None,\n",
              "                              colsample_bytree=None, early_stopping_rounds=None,\n",
              "                              enable_categorical=False, eval_metric=None,\n",
              "                              feature_types=None, gamma=None, gpu_id=None,\n",
              "                              grow_policy=None, importance_type=None,\n",
              "                              interaction_constraints=None, learning_rate=None,\n",
              "                              max_bin=None, max_cat_threshold=None,\n",
              "                              max_cat_to_onehot=None, max_delta_step=None,\n",
              "                              max_depth=None, max_leaves=None,\n",
              "                              min_child_weight=None, missing=nan,\n",
              "                              monotone_constraints=None, n_estimators=100,\n",
              "                              n_jobs=None, num_parallel_tree=None,\n",
              "                              predictor=None, random_state=None, ...))])"
            ],
            "text/html": [
              "<style>#sk-container-id-15 {color: black;background-color: white;}#sk-container-id-15 pre{padding: 0;}#sk-container-id-15 div.sk-toggleable {background-color: white;}#sk-container-id-15 label.sk-toggleable__label {cursor: pointer;display: block;width: 100%;margin-bottom: 0;padding: 0.3em;box-sizing: border-box;text-align: center;}#sk-container-id-15 label.sk-toggleable__label-arrow:before {content: \"▸\";float: left;margin-right: 0.25em;color: #696969;}#sk-container-id-15 label.sk-toggleable__label-arrow:hover:before {color: black;}#sk-container-id-15 div.sk-estimator:hover label.sk-toggleable__label-arrow:before {color: black;}#sk-container-id-15 div.sk-toggleable__content {max-height: 0;max-width: 0;overflow: hidden;text-align: left;background-color: #f0f8ff;}#sk-container-id-15 div.sk-toggleable__content pre {margin: 0.2em;color: black;border-radius: 0.25em;background-color: #f0f8ff;}#sk-container-id-15 input.sk-toggleable__control:checked~div.sk-toggleable__content {max-height: 200px;max-width: 100%;overflow: auto;}#sk-container-id-15 input.sk-toggleable__control:checked~label.sk-toggleable__label-arrow:before {content: \"▾\";}#sk-container-id-15 div.sk-estimator input.sk-toggleable__control:checked~label.sk-toggleable__label {background-color: #d4ebff;}#sk-container-id-15 div.sk-label input.sk-toggleable__control:checked~label.sk-toggleable__label {background-color: #d4ebff;}#sk-container-id-15 input.sk-hidden--visually {border: 0;clip: rect(1px 1px 1px 1px);clip: rect(1px, 1px, 1px, 1px);height: 1px;margin: -1px;overflow: hidden;padding: 0;position: absolute;width: 1px;}#sk-container-id-15 div.sk-estimator {font-family: monospace;background-color: #f0f8ff;border: 1px dotted black;border-radius: 0.25em;box-sizing: border-box;margin-bottom: 0.5em;}#sk-container-id-15 div.sk-estimator:hover {background-color: #d4ebff;}#sk-container-id-15 div.sk-parallel-item::after {content: \"\";width: 100%;border-bottom: 1px solid gray;flex-grow: 1;}#sk-container-id-15 div.sk-label:hover label.sk-toggleable__label {background-color: #d4ebff;}#sk-container-id-15 div.sk-serial::before {content: \"\";position: absolute;border-left: 1px solid gray;box-sizing: border-box;top: 0;bottom: 0;left: 50%;z-index: 0;}#sk-container-id-15 div.sk-serial {display: flex;flex-direction: column;align-items: center;background-color: white;padding-right: 0.2em;padding-left: 0.2em;position: relative;}#sk-container-id-15 div.sk-item {position: relative;z-index: 1;}#sk-container-id-15 div.sk-parallel {display: flex;align-items: stretch;justify-content: center;background-color: white;position: relative;}#sk-container-id-15 div.sk-item::before, #sk-container-id-15 div.sk-parallel-item::before {content: \"\";position: absolute;border-left: 1px solid gray;box-sizing: border-box;top: 0;bottom: 0;left: 50%;z-index: -1;}#sk-container-id-15 div.sk-parallel-item {display: flex;flex-direction: column;z-index: 1;position: relative;background-color: white;}#sk-container-id-15 div.sk-parallel-item:first-child::after {align-self: flex-end;width: 50%;}#sk-container-id-15 div.sk-parallel-item:last-child::after {align-self: flex-start;width: 50%;}#sk-container-id-15 div.sk-parallel-item:only-child::after {width: 0;}#sk-container-id-15 div.sk-dashed-wrapped {border: 1px dashed gray;margin: 0 0.4em 0.5em 0.4em;box-sizing: border-box;padding-bottom: 0.4em;background-color: white;}#sk-container-id-15 div.sk-label label {font-family: monospace;font-weight: bold;display: inline-block;line-height: 1.2em;}#sk-container-id-15 div.sk-label-container {text-align: center;}#sk-container-id-15 div.sk-container {/* jupyter's `normalize.less` sets `[hidden] { display: none; }` but bootstrap.min.css set `[hidden] { display: none !important; }` so we also need the `!important` here to be able to override the default hidden behavior on the sphinx rendered scikit-learn.org. See: https://github.com/scikit-learn/scikit-learn/issues/21755 */display: inline-block !important;position: relative;}#sk-container-id-15 div.sk-text-repr-fallback {display: none;}</style><div id=\"sk-container-id-15\" class=\"sk-top-container\"><div class=\"sk-text-repr-fallback\"><pre>Pipeline(steps=[(&#x27;standardscaler&#x27;, StandardScaler()),\n",
              "                (&#x27;xgbregressor&#x27;,\n",
              "                 XGBRegressor(base_score=None, booster=None, callbacks=None,\n",
              "                              colsample_bylevel=None, colsample_bynode=None,\n",
              "                              colsample_bytree=None, early_stopping_rounds=None,\n",
              "                              enable_categorical=False, eval_metric=None,\n",
              "                              feature_types=None, gamma=None, gpu_id=None,\n",
              "                              grow_policy=None, importance_type=None,\n",
              "                              interaction_constraints=None, learning_rate=None,\n",
              "                              max_bin=None, max_cat_threshold=None,\n",
              "                              max_cat_to_onehot=None, max_delta_step=None,\n",
              "                              max_depth=None, max_leaves=None,\n",
              "                              min_child_weight=None, missing=nan,\n",
              "                              monotone_constraints=None, n_estimators=100,\n",
              "                              n_jobs=None, num_parallel_tree=None,\n",
              "                              predictor=None, random_state=None, ...))])</pre><b>In a Jupyter environment, please rerun this cell to show the HTML representation or trust the notebook. <br />On GitHub, the HTML representation is unable to render, please try loading this page with nbviewer.org.</b></div><div class=\"sk-container\" hidden><div class=\"sk-item sk-dashed-wrapped\"><div class=\"sk-label-container\"><div class=\"sk-label sk-toggleable\"><input class=\"sk-toggleable__control sk-hidden--visually\" id=\"sk-estimator-id-34\" type=\"checkbox\" ><label for=\"sk-estimator-id-34\" class=\"sk-toggleable__label sk-toggleable__label-arrow\">Pipeline</label><div class=\"sk-toggleable__content\"><pre>Pipeline(steps=[(&#x27;standardscaler&#x27;, StandardScaler()),\n",
              "                (&#x27;xgbregressor&#x27;,\n",
              "                 XGBRegressor(base_score=None, booster=None, callbacks=None,\n",
              "                              colsample_bylevel=None, colsample_bynode=None,\n",
              "                              colsample_bytree=None, early_stopping_rounds=None,\n",
              "                              enable_categorical=False, eval_metric=None,\n",
              "                              feature_types=None, gamma=None, gpu_id=None,\n",
              "                              grow_policy=None, importance_type=None,\n",
              "                              interaction_constraints=None, learning_rate=None,\n",
              "                              max_bin=None, max_cat_threshold=None,\n",
              "                              max_cat_to_onehot=None, max_delta_step=None,\n",
              "                              max_depth=None, max_leaves=None,\n",
              "                              min_child_weight=None, missing=nan,\n",
              "                              monotone_constraints=None, n_estimators=100,\n",
              "                              n_jobs=None, num_parallel_tree=None,\n",
              "                              predictor=None, random_state=None, ...))])</pre></div></div></div><div class=\"sk-serial\"><div class=\"sk-item\"><div class=\"sk-estimator sk-toggleable\"><input class=\"sk-toggleable__control sk-hidden--visually\" id=\"sk-estimator-id-35\" type=\"checkbox\" ><label for=\"sk-estimator-id-35\" class=\"sk-toggleable__label sk-toggleable__label-arrow\">StandardScaler</label><div class=\"sk-toggleable__content\"><pre>StandardScaler()</pre></div></div></div><div class=\"sk-item\"><div class=\"sk-estimator sk-toggleable\"><input class=\"sk-toggleable__control sk-hidden--visually\" id=\"sk-estimator-id-36\" type=\"checkbox\" ><label for=\"sk-estimator-id-36\" class=\"sk-toggleable__label sk-toggleable__label-arrow\">XGBRegressor</label><div class=\"sk-toggleable__content\"><pre>XGBRegressor(base_score=None, booster=None, callbacks=None,\n",
              "             colsample_bylevel=None, colsample_bynode=None,\n",
              "             colsample_bytree=None, early_stopping_rounds=None,\n",
              "             enable_categorical=False, eval_metric=None, feature_types=None,\n",
              "             gamma=None, gpu_id=None, grow_policy=None, importance_type=None,\n",
              "             interaction_constraints=None, learning_rate=None, max_bin=None,\n",
              "             max_cat_threshold=None, max_cat_to_onehot=None,\n",
              "             max_delta_step=None, max_depth=None, max_leaves=None,\n",
              "             min_child_weight=None, missing=nan, monotone_constraints=None,\n",
              "             n_estimators=100, n_jobs=None, num_parallel_tree=None,\n",
              "             predictor=None, random_state=None, ...)</pre></div></div></div></div></div></div></div>"
            ]
          },
          "metadata": {},
          "execution_count": 93
        }
      ],
      "source": [
        "from numpy import loadtxt\n",
        "from xgboost import XGBRegressor\n",
        "from xgboost import plot_tree\n",
        "\n",
        "xgb = make_pipeline(StandardScaler(),\n",
        "                    XGBRegressor())\n",
        "xgb.fit(X_train, y_train)"
      ]
    },
    {
      "cell_type": "code",
      "source": [
        "evaluate(xgb, X_test, y_test)"
      ],
      "metadata": {
        "id": "_UiTgx7E_ZJX",
        "colab": {
          "base_uri": "https://localhost:8080/"
        },
        "outputId": "45ba6334-5d11-4f58-ce79-54a8385cb4a3"
      },
      "execution_count": 94,
      "outputs": [
        {
          "output_type": "stream",
          "name": "stdout",
          "text": [
            "R2: 0.7509161676659613\n",
            "MAE: 15.697374519474966\n",
            "MSE: 603.2708352745688\n",
            "RMSE: 24.56157232903807\n",
            "MAPE: 3262864847176914.5\n"
          ]
        }
      ]
    },
    {
      "cell_type": "markdown",
      "source": [
        "\n",
        "\n",
        "> Wir können nun unsere y-Werte vorhersagen.\n",
        "\n"
      ],
      "metadata": {
        "id": "KtRDBdEwRKuh"
      }
    },
    {
      "cell_type": "code",
      "source": [
        "y_pred = xgb.predict(X_test)"
      ],
      "metadata": {
        "id": "W1TikvBkQtZZ"
      },
      "execution_count": 95,
      "outputs": []
    },
    {
      "cell_type": "markdown",
      "source": [
        "### **Hyperparameter Tuning**"
      ],
      "metadata": {
        "id": "UX962xqxHMi2"
      }
    },
    {
      "cell_type": "markdown",
      "metadata": {
        "id": "8Ljm2No_38b8"
      },
      "source": [
        "\n",
        "\n",
        "> Um das Modell, das bisher am besten performt nochmals zu verbessern, führen wir auch hier Hyperparameter Tuning durch. Dafür definieren wir wieder das Grid mit den notwendigen Parametern und übergeben es mit dem Modell, cross-validation, Iterations-Anzahl etc. in die RandomizedSearchCV.\n",
        "\n"
      ]
    },
    {
      "cell_type": "code",
      "source": [
        "xgb_params = xgb.get_params()\n",
        "xgb_params"
      ],
      "metadata": {
        "id": "GBjgGZYjefa5",
        "colab": {
          "base_uri": "https://localhost:8080/"
        },
        "outputId": "aa0e167f-6c1f-4630-9f8e-2ebd650b221d"
      },
      "execution_count": 96,
      "outputs": [
        {
          "output_type": "execute_result",
          "data": {
            "text/plain": [
              "{'memory': None,\n",
              " 'steps': [('standardscaler', StandardScaler()),\n",
              "  ('xgbregressor',\n",
              "   XGBRegressor(base_score=None, booster=None, callbacks=None,\n",
              "                colsample_bylevel=None, colsample_bynode=None,\n",
              "                colsample_bytree=None, early_stopping_rounds=None,\n",
              "                enable_categorical=False, eval_metric=None, feature_types=None,\n",
              "                gamma=None, gpu_id=None, grow_policy=None, importance_type=None,\n",
              "                interaction_constraints=None, learning_rate=None, max_bin=None,\n",
              "                max_cat_threshold=None, max_cat_to_onehot=None,\n",
              "                max_delta_step=None, max_depth=None, max_leaves=None,\n",
              "                min_child_weight=None, missing=nan, monotone_constraints=None,\n",
              "                n_estimators=100, n_jobs=None, num_parallel_tree=None,\n",
              "                predictor=None, random_state=None, ...))],\n",
              " 'verbose': False,\n",
              " 'standardscaler': StandardScaler(),\n",
              " 'xgbregressor': XGBRegressor(base_score=None, booster=None, callbacks=None,\n",
              "              colsample_bylevel=None, colsample_bynode=None,\n",
              "              colsample_bytree=None, early_stopping_rounds=None,\n",
              "              enable_categorical=False, eval_metric=None, feature_types=None,\n",
              "              gamma=None, gpu_id=None, grow_policy=None, importance_type=None,\n",
              "              interaction_constraints=None, learning_rate=None, max_bin=None,\n",
              "              max_cat_threshold=None, max_cat_to_onehot=None,\n",
              "              max_delta_step=None, max_depth=None, max_leaves=None,\n",
              "              min_child_weight=None, missing=nan, monotone_constraints=None,\n",
              "              n_estimators=100, n_jobs=None, num_parallel_tree=None,\n",
              "              predictor=None, random_state=None, ...),\n",
              " 'standardscaler__copy': True,\n",
              " 'standardscaler__with_mean': True,\n",
              " 'standardscaler__with_std': True,\n",
              " 'xgbregressor__objective': 'reg:squarederror',\n",
              " 'xgbregressor__base_score': None,\n",
              " 'xgbregressor__booster': None,\n",
              " 'xgbregressor__callbacks': None,\n",
              " 'xgbregressor__colsample_bylevel': None,\n",
              " 'xgbregressor__colsample_bynode': None,\n",
              " 'xgbregressor__colsample_bytree': None,\n",
              " 'xgbregressor__early_stopping_rounds': None,\n",
              " 'xgbregressor__enable_categorical': False,\n",
              " 'xgbregressor__eval_metric': None,\n",
              " 'xgbregressor__feature_types': None,\n",
              " 'xgbregressor__gamma': None,\n",
              " 'xgbregressor__gpu_id': None,\n",
              " 'xgbregressor__grow_policy': None,\n",
              " 'xgbregressor__importance_type': None,\n",
              " 'xgbregressor__interaction_constraints': None,\n",
              " 'xgbregressor__learning_rate': None,\n",
              " 'xgbregressor__max_bin': None,\n",
              " 'xgbregressor__max_cat_threshold': None,\n",
              " 'xgbregressor__max_cat_to_onehot': None,\n",
              " 'xgbregressor__max_delta_step': None,\n",
              " 'xgbregressor__max_depth': None,\n",
              " 'xgbregressor__max_leaves': None,\n",
              " 'xgbregressor__min_child_weight': None,\n",
              " 'xgbregressor__missing': nan,\n",
              " 'xgbregressor__monotone_constraints': None,\n",
              " 'xgbregressor__n_estimators': 100,\n",
              " 'xgbregressor__n_jobs': None,\n",
              " 'xgbregressor__num_parallel_tree': None,\n",
              " 'xgbregressor__predictor': None,\n",
              " 'xgbregressor__random_state': None,\n",
              " 'xgbregressor__reg_alpha': None,\n",
              " 'xgbregressor__reg_lambda': None,\n",
              " 'xgbregressor__sampling_method': None,\n",
              " 'xgbregressor__scale_pos_weight': None,\n",
              " 'xgbregressor__subsample': None,\n",
              " 'xgbregressor__tree_method': None,\n",
              " 'xgbregressor__validate_parameters': None,\n",
              " 'xgbregressor__verbosity': None}"
            ]
          },
          "metadata": {},
          "execution_count": 96
        }
      ]
    },
    {
      "cell_type": "code",
      "execution_count": 98,
      "metadata": {
        "id": "08wf9tn838b8"
      },
      "outputs": [],
      "source": [
        "regressor=XGBRegressor()\n",
        "\n",
        "grid = {\n",
        "    'n_estimators': [100, 500, 900, 1100, 1500],\n",
        "    'max_depth':[2, 3, 5, 10, 15],\n",
        "    'learning_rate':[0.05,0.1,0.15,0.20],\n",
        "    'booster':['gbtree','gblinear'],\n",
        "    'base_score':[0.25,0.5,0.75,1]\n",
        "    }\n",
        "\n",
        "random_cv = RandomizedSearchCV(estimator=regressor,\n",
        "            param_distributions=grid,\n",
        "            cv=5, n_iter=10,\n",
        "            scoring = 'neg_mean_absolute_error', n_jobs = -1,\n",
        "            verbose = 1,\n",
        "            return_train_score = True,\n",
        "            random_state=42)"
      ]
    },
    {
      "cell_type": "markdown",
      "source": [
        "\n",
        "\n",
        "> Wir trainieren das Hyperparameter-Tuning-Modell auf die Trainingsdaten und geben uns die besten estimators aus.\n",
        "\n"
      ],
      "metadata": {
        "id": "V_Cy4eBpgJ7g"
      }
    },
    {
      "cell_type": "code",
      "execution_count": 99,
      "metadata": {
        "id": "Vw39OIsS38b9",
        "colab": {
          "base_uri": "https://localhost:8080/"
        },
        "outputId": "13c82f97-58ef-4334-d474-c5023326add4"
      },
      "outputs": [
        {
          "output_type": "stream",
          "name": "stdout",
          "text": [
            "Fitting 5 folds for each of 10 candidates, totalling 50 fits\n"
          ]
        },
        {
          "output_type": "stream",
          "name": "stderr",
          "text": [
            "/usr/local/lib/python3.10/dist-packages/joblib/externals/loky/process_executor.py:752: UserWarning: A worker stopped while some jobs were given to the executor. This can be caused by a too short worker timeout or by a memory leak.\n",
            "  warnings.warn(\n"
          ]
        }
      ],
      "source": [
        "optimized_xgb = random_cv.fit(X_train,y_train)\n",
        "optimized_xgb_est = random_cv.best_estimator_"
      ]
    },
    {
      "cell_type": "markdown",
      "metadata": {
        "id": "xNCbsm9H38b9"
      },
      "source": [
        "\n",
        "\n",
        "> Auch die Kombination der besten Parameter ist für uns interessant und wir lassen sie auflisten:\n",
        "\n"
      ]
    },
    {
      "cell_type": "code",
      "execution_count": 100,
      "metadata": {
        "id": "UNzKLCPQ38b9",
        "colab": {
          "base_uri": "https://localhost:8080/"
        },
        "outputId": "24645135-041c-4cb9-f6b3-8fedffc7d02d"
      },
      "outputs": [
        {
          "output_type": "execute_result",
          "data": {
            "text/plain": [
              "{'n_estimators': 500,\n",
              " 'max_depth': 15,\n",
              " 'learning_rate': 0.05,\n",
              " 'booster': 'gbtree',\n",
              " 'base_score': 1}"
            ]
          },
          "metadata": {},
          "execution_count": 100
        }
      ],
      "source": [
        "optimized_xgb.best_params_"
      ]
    },
    {
      "cell_type": "markdown",
      "source": [
        "\n",
        "> Das Ergebnis mit einem Bestimmtheitsmaß von 79,62% und einem MAE von 2,44€ ist ziemlich gut.\n",
        "Wir sehen an dem großen Unterschied zwischen der Accuracy mit den Trainingsdaten zu der auf den Testdaten, dass das Modell zwar sehr gut auf den Trainingsdaten läuft, das Modell allerding so stark an die Trainingsdaten angepasst ist, dass es die Testdaten nicht mehr so genau abbilden kann (Overfitting).\n",
        "\n"
      ],
      "metadata": {
        "id": "2YaFpSIuAwqo"
      }
    },
    {
      "cell_type": "code",
      "execution_count": 101,
      "metadata": {
        "id": "gMt60ev038b9",
        "colab": {
          "base_uri": "https://localhost:8080/"
        },
        "outputId": "a10af4b0-3629-4bc8-f224-3866b52d7c07"
      },
      "outputs": [
        {
          "output_type": "stream",
          "name": "stdout",
          "text": [
            "Accuracy on trainingsdata is:\n",
            "R2: 0.991591134545762\n",
            "MAE: 2.4459816879123095\n",
            "MSE: 22.564013270639407\n",
            "RMSE: 4.750159288975413\n",
            "MAPE: 409555951761965.9\n",
            "Accuracy on testdata is:\n",
            "R2: 0.7962447174361471\n",
            "MAE: 12.366158402925478\n",
            "MSE: 493.4869451464741\n",
            "RMSE: 22.21456605802765\n",
            "MAPE: 2770714546503008.0\n"
          ]
        }
      ],
      "source": [
        "print('Accuracy on trainingsdata is:')\n",
        "evaluate(optimized_xgb, X_train, y_train)\n",
        "\n",
        "print('Accuracy on testdata is:')\n",
        "evaluate(optimized_xgb, X_test, y_test)"
      ]
    },
    {
      "cell_type": "markdown",
      "source": [
        "\n",
        "\n",
        "> Auch mit dem verbesserten Modell können wir unsere y-Werte vorhersagen.\n",
        "\n"
      ],
      "metadata": {
        "id": "5pJ5TIY6RFKA"
      }
    },
    {
      "cell_type": "code",
      "source": [
        "best_xgb = optimized_xgb.best_estimator_\n",
        "y_best_predict = best_xgb.predict(X_test)"
      ],
      "metadata": {
        "id": "x8dVmiYkRSKR"
      },
      "execution_count": 102,
      "outputs": []
    },
    {
      "cell_type": "markdown",
      "source": [
        "### **Plotting**"
      ],
      "metadata": {
        "id": "ygXHNAua_tkw"
      }
    },
    {
      "cell_type": "code",
      "source": [
        "plot_tree(best_xgb)\n",
        "plt.show()"
      ],
      "metadata": {
        "id": "pd5vlqHUfkVQ",
        "colab": {
          "base_uri": "https://localhost:8080/",
          "height": 62
        },
        "outputId": "b41e7b0e-6142-4a0a-d9a7-77fc4cefccce"
      },
      "execution_count": 103,
      "outputs": [
        {
          "output_type": "stream",
          "name": "stderr",
          "text": [
            "dot: graph is too large for cairo-renderer bitmaps. Scaling by 0.297733 to fit\n"
          ]
        },
        {
          "output_type": "display_data",
          "data": {
            "text/plain": [
              "<Figure size 640x480 with 1 Axes>"
            ],
            "image/png": "[encoded data removed]"
          },
          "metadata": {}
        }
      ]
    },
    {
      "cell_type": "markdown",
      "source": [
        "\n",
        "\n",
        "> Mithilfe der optimierten XGBoost-Modells (das aus dem besten durch das Hyperparameter Tuning ermittelten Schätzer besteht) können wir nun Vorhersagen für die y-Werte auf Basis der X-Test-Daten treffen.\n",
        "\n",
        "> Für die weitere Berechnung müssen wir außerdem die Anzahl an verwendeten Schätzern (`n_estimators`) für das optimierte Modell ermitteln.\n",
        "\n",
        "> Diese Schätzer werden mit dem Befehl `np.zeros` in einem Array, gefüllt mit den n_estimators und Nullen, gespeichert.\n",
        "\n",
        "> Mithilfe einer `for-Loop` wird für jede Vorhersage der Devianzfehler (=Residuenfehler) zwischen den Vorhersagen (`predictions`) und den wahren Werten (`y_test`) berechnet. Diese Fehler werden im entsprechenden Index in test_score gespeichert.\n",
        "\n"
      ],
      "metadata": {
        "id": "C5rY7kfz3FJS"
      }
    },
    {
      "cell_type": "markdown",
      "source": [
        "\n",
        "\n",
        "> Die Devianz der Trainingsdaten können wir nun in einem Diagramm der Devianz der Testdaten in Abhängigkeit von den Boosting-Iterationen gegenüberstellen. So können wir den Fortschritt von Boosting-Prozessen und mögliches Overfitting bewerten.\n",
        "\n"
      ],
      "metadata": {
        "id": "D2B4NDcG6K6O"
      }
    },
    {
      "cell_type": "code",
      "source": [
        "best_xgb = optimized_xgb.best_estimator_\n",
        "n_estimators = optimized_xgb.best_params_['n_estimators']\n",
        "\n",
        "test_score = np.zeros((n_estimators,), dtype=np.float64)\n",
        "train_score = np.zeros((n_estimators,), dtype=np.float64)\n",
        "for i in range(n_estimators):\n",
        "    y_train_pred = best_xgb.predict(X_train, iteration_range=(0, i+1))\n",
        "    y_pred = best_xgb.predict(X_test, iteration_range=(0, i+1))\n",
        "    test_score[i] = mean_squared_error(y_test, y_pred)\n",
        "    train_score[i] = mean_squared_error(y_train, y_train_pred)\n",
        "\n",
        "plt.figure(figsize=(6, 6))\n",
        "plt.title('Deviance')\n",
        "plt.plot(np.arange(n_estimators) + 1, train_score, 'b-',\n",
        "         label='Training Set Deviance')\n",
        "plt.plot(np.arange(n_estimators) + 1, test_score, 'r-',\n",
        "         label='Test Set Deviance')\n",
        "plt.legend(loc='upper right')\n",
        "plt.xlabel('Boosting Iterations')\n",
        "plt.ylabel('Deviance')\n",
        "plt.tight_layout()\n",
        "plt.show()"
      ],
      "metadata": {
        "id": "s8Xl8InghVXt"
      },
      "execution_count": null,
      "outputs": []
    },
    {
      "cell_type": "markdown",
      "source": [
        "> Um den Test-Loss gegen den Training-Loss aufzutragen, müssen wir zuerst die optimierten n_estimators speichern, den test- und trainings-Score mithilfe der Numpy-Funtion `zero` erzeugen und für jeden estimator i in n_estimators auf Basis der Trainings- sowie der Testdaten die y-Werte vorhersagen und unter test- bzw- trainings-score den mittleren quadrierten Fehler speichern. Diese Scores können dann unter dem Label 'Training Set Deviance' bzw. 'Test Set Deviance' geplottet werden."
      ],
      "metadata": {
        "id": "J2MyWnp4kDz-"
      }
    },
    {
      "cell_type": "markdown",
      "metadata": {
        "id": "ZsEVG-aynpyV"
      },
      "source": [
        "> Wir sehen, dass der Fehler bei den Test Daten ein bisschen größer ausfällt, als bei den Trainingsdaten. Vermutlich leidet unser Modell unter Overfitting. Allerdings können wir nun ablesen, dass , dass ca. nach 50 Iterationen der Lerneffekt des Modells nicht zunimmt bzw. die Fehlerquote nicht mehr merklich abnimmt. Dies bedeutet, dass wir unsere Iterationen beim Training auf ca. 50 beschränken können."
      ]
    },
    {
      "cell_type": "markdown",
      "metadata": {
        "id": "BXVIpKEMf9Mp"
      },
      "source": [
        "### **Error Analysis**"
      ]
    },
    {
      "cell_type": "markdown",
      "source": [
        "\n",
        "\n",
        "> Durch eine grundlegende Fehleranalyse wollen wir außerdem ermitteln, wo das Modell besonders schlecht performt, wo es also noch fehlerhaft ist.\n",
        "Dafür fügen wir die X- und y-Testdaten, sowie die Preditions (als neue Spalte 'Predicitions') dem Dataframe an.\n",
        "\n"
      ],
      "metadata": {
        "id": "NY11YuKJzYSY"
      }
    },
    {
      "cell_type": "code",
      "execution_count": null,
      "metadata": {
        "id": "qRqV1A7pgGYH"
      },
      "outputs": [],
      "source": [
        "predictions = optimized_xgb.predict(X_test)\n",
        "maindf_with_predictions = pd.concat([X_test, y_test], axis='columns')\n",
        "maindf_with_predictions = pd.concat([maindf_with_predictions, pd.DataFrame(predictions, columns=['Prediction'], index=maindf_with_predictions.index)], axis=1)"
      ]
    },
    {
      "cell_type": "code",
      "source": [
        "maindf_with_predictions"
      ],
      "metadata": {
        "id": "5np17YlvzvkH"
      },
      "execution_count": null,
      "outputs": []
    },
    {
      "cell_type": "markdown",
      "source": [
        "\n",
        "\n",
        "> Dann berechnen wir die Differenz der vorhergesagten Werte (predicitions) zu den tatsächlichen Werten (y-test) als MAE (Mean Absolute Error).\n",
        "\n"
      ],
      "metadata": {
        "id": "0WEQIog2U2iu"
      }
    },
    {
      "cell_type": "code",
      "execution_count": null,
      "metadata": {
        "id": "IrNiAwjRgM4g"
      },
      "outputs": [],
      "source": [
        "maindf_with_predictions['pred_diff'] = np.abs(maindf_with_predictions['adr'] - maindf_with_predictions.Prediction)"
      ]
    },
    {
      "cell_type": "markdown",
      "source": [
        "\n",
        "\n",
        "> Diese Differenz schauen wir uns dann in einem Histogramm an. Die durch den Algorithmus predicteten Werte weichen sehr häufig um 50€ von den tatsächlichen Werten ab. Vergleichsweise selten weicht das Modell stark (>50€) vom eigentlichen Wert ab. Dies scheint soweit erstmal logisch.\n",
        "\n"
      ],
      "metadata": {
        "id": "5S-FB4TB0W4M"
      }
    },
    {
      "cell_type": "code",
      "execution_count": null,
      "metadata": {
        "id": "ye0bQ4G9nu86"
      },
      "outputs": [],
      "source": [
        "maindf_with_predictions.pred_diff.plot(kind='hist')"
      ]
    },
    {
      "cell_type": "markdown",
      "source": [
        "\n",
        "\n",
        "> Wir plotten nun jeweils die original Testdaten gegenüber den Testdaten, bei denen unser Modell jeweils um mehr als 50€ abweicht.\n",
        "\n"
      ],
      "metadata": {
        "id": "7hX4kW9b2AR_"
      }
    },
    {
      "cell_type": "code",
      "execution_count": null,
      "metadata": {
        "id": "FViG4N2xlqMQ"
      },
      "outputs": [],
      "source": [
        "for column in X_test.columns:\n",
        "  fig, (ax1, ax2) = plt.subplots(1, 2) # required if we want to plot multiple figures from the same cell\n",
        "  maindf_with_predictions.plot(kind='hist', y=column, title=f'{column} (All)', ax=ax1)\n",
        "  maindf_with_predictions[maindf_with_predictions.pred_diff > 50].plot(kind='hist', y=column, title=f'{column} (Large error)', ax=ax2)"
      ]
    },
    {
      "cell_type": "markdown",
      "source": [
        "\n",
        "\n",
        "> Es scheint, dass es unserem Modell schwerer fällt, die average daily ratio korrekt vorherzusagen bei Buchungen, die in 2017 getätigt wurden (verglichen mit Buchungen in den Vorjahren), für Buchungen in der Hochsaison (Juli, August), wenn für mehr als eine Erwachsene Person gebucht wird und wenn die Durchschnittsteperatur über 20°C liegt (was sich mit der Hochsaison deckt), weicht die Prediction häufig mit über 50€ von dem eigentlichen Wert ab.\n",
        "\n"
      ],
      "metadata": {
        "id": "Ig0Jb9L1lZzh"
      }
    },
    {
      "cell_type": "markdown",
      "source": [
        "## **Multi-Layer Perceptron**"
      ],
      "metadata": {
        "id": "jtIyhFLL8jzx"
      }
    },
    {
      "cell_type": "markdown",
      "source": [
        "> Zuletzt wenden wir die Methode des Multi-Layer Perceptrons (MLP) für unsere Regression an.\n",
        "\n",
        "> Unter einem MLP verstehen wir eine Art neuronales Netzwerk mit mehreren Schichten von Neuronen, als einem beliebigen Mix aus Eingabe-, versteckten- und Ausgabeschichten. Eine Regression mit MLP eignet sich sehr gut für strukturierte Daten in tabellarischer Form. Ein solches Modell kann demnach komplexe nicht-lineare Beziehungen zwischen den Features unserer Buchungen und der Average Daily Rate erfassen und letztere sehr gut prognostizieren.\n",
        "\n",
        "> Dafür laden wir die erforderlichen Pakete `keras` und `tensorflow()` sowie die zugehörigen Funktionen `Sequential()` und `Dense()`."
      ],
      "metadata": {
        "id": "uClbQPk3Aacl"
      }
    },
    {
      "cell_type": "code",
      "source": [
        "import keras\n",
        "import tensorflow as tf\n",
        "from tensorflow.keras.models import Sequential\n",
        "from tensorflow.keras.layers import Dense"
      ],
      "metadata": {
        "id": "gCZ0ouzG8ifH"
      },
      "execution_count": null,
      "outputs": []
    },
    {
      "cell_type": "markdown",
      "source": [
        "> Wir importieren noch zwei letzte erforderliche Funktionen und definieren eine eigene Funktion `r2_score()` zur späteren Berechnung des $R^2$-Scores.\n",
        "\n",
        "> Imselben Zuge definieren wir die Funktion `build_model()`, die ein Multi-Layer Perceptron (MLP) Modell für Regression konstruiert. Sie verwendet `keras.Sequential()`, die verschiedenen Schichten werden hier also nacheinander gestapelt.\n",
        "\n",
        "> Wir definieren die Form der ersten Schicht (Eingabeschicht) mit `X_train.shape[1]`, was der Anzahl der Spalten in den Trainingsdaten entspricht.\n",
        "\n",
        "> Die folgenden zwei Schichten enthalten jeweils 84 und 42 Units und werden mit der Aktivierungsfunktion Rectified Linear Unit (ReLU) ausgeführt.\n",
        "\n",
        "> Die letzte Schicht enthält eine einzige Einheit. Da es sich um eine Regression handelt, legen wir für diese Schicht die Aktivierungsfunktion `linear` fest. Diese Schicht liefert also direkt den vorhergesagten Wert.\n",
        "\n",
        "> Als Optimierer setzen wir `Adam()` ein.\n",
        "\n",
        "> Das Modell wird mit `model.compile()` zusammengestellt. Als Verlustfunktion wählen wir den Mean Absolute Error. Als Optimierer wird `Adam` und als Metrik der zuvor in der Funktion `r2_score()` definierte $R^2$-Score verwendet."
      ],
      "metadata": {
        "id": "tzi8e2-gBs_l"
      }
    },
    {
      "cell_type": "code",
      "source": [
        "import tensorflow.keras.backend as K\n",
        "from keras.optimizers import Adam\n",
        "\n",
        "def r2_score(y_true, y_pred):\n",
        "  SS_res = K.sum(K.square(y_true - y_pred))\n",
        "  SS_tot = K.sum(K.square(y_true - K.mean(y_true)))\n",
        "  return 1 - SS_res / (SS_tot + K.epsilon())\n",
        "\n",
        "def build_model():\n",
        "  model = keras.Sequential([\n",
        "      keras.layers.Input(shape=(X_train.shape[1],)),\n",
        "      keras.layers.Dense(84, activation=tf.nn.relu),\n",
        "      keras.layers.Dense(42, activation=tf.nn.relu),\n",
        "      keras.layers.Dense(1, activation='linear')\n",
        "      ], name='MLP_model')\n",
        "\n",
        "  model.compile(loss='mean_absolute_error',\n",
        "                optimizer=Adam(),\n",
        "                metrics=[r2_score])\n",
        "\n",
        "  return model\n",
        "\n",
        "model = build_model()\n",
        "model.summary()"
      ],
      "metadata": {
        "id": "SCbkOGJ8KdvJ"
      },
      "execution_count": null,
      "outputs": []
    },
    {
      "cell_type": "markdown",
      "source": [
        "> Mithilfe der Funktion `plot_model()` von TensorFlow können wir uns zur besseren Anschaulichkeit die Architektur unseres Modells visualisieren lassen."
      ],
      "metadata": {
        "id": "800OvoXXGOu4"
      }
    },
    {
      "cell_type": "code",
      "source": [
        "from tensorflow.keras.utils import plot_model\n",
        "\n",
        "plot_model(model, show_shapes=True, show_dtype=True)"
      ],
      "metadata": {
        "id": "95QZgPKEWbEA"
      },
      "execution_count": null,
      "outputs": []
    },
    {
      "cell_type": "markdown",
      "source": [
        "> Wir trainieren das Modell auf den **nicht** skalierten Trainingsdaten und mit einer vordefinierten Anzahl an Epochen von 50, lassen das Modell also 50x über die gesamten Daten iterieren.\n",
        "\n",
        "> Wir geben an, während des Trainings einen Anteil von 20% der Trainingsdaten für die Validierung verwenden zu wollen.\n",
        "\n",
        "> Mit `verbose=1` geben wir an, dass wir für jede der 50 Epochen einen Fotschrittsbalken sowie ein kurzes Protokoll einsehen möchten, in dem u.A. der jeweilige MAE sowie der $R^2$-Score enthalten sind."
      ],
      "metadata": {
        "id": "CM_Gv6XgD26z"
      }
    },
    {
      "cell_type": "code",
      "source": [
        "EPOCHS = 50\n",
        "history = model.fit(X_train, y_train, epochs=EPOCHS,\n",
        "                    validation_split=0.2, verbose=1)"
      ],
      "metadata": {
        "id": "lweqBahZHdqs"
      },
      "execution_count": null,
      "outputs": []
    },
    {
      "cell_type": "markdown",
      "source": [
        "> Wir definieren 2 Funktionen zur Visualisierung unseres Modells in einem Plot: für den Verlust (Mean Absolute Error) und unsere Metric ($R^2$-Score).\n",
        "\n"
      ],
      "metadata": {
        "id": "sA_xNnPTLqic"
      }
    },
    {
      "cell_type": "code",
      "source": [
        "def plot_loss(history):\n",
        "  plt.plot(history.history['loss'])\n",
        "  plt.plot(history.history['val_loss'])\n",
        "  plt.title('Modell: Loss')\n",
        "  plt.ylabel('Mean Absolute Error [in €]')\n",
        "  plt.xlabel('Epoche')\n",
        "  plt.xlim([0,EPOCHS])\n",
        "  plt.ylim([min(history.history['val_loss'])-1,max(history.history['val_loss'])+1])\n",
        "  plt.legend(['train', 'val'], loc='upper left')\n",
        "  plt.show()\n",
        "\n",
        "def plot_metric(history):\n",
        "  plt.plot(history.history['r2_score'])\n",
        "  plt.plot(history.history['val_r2_score'])\n",
        "  plt.title('Modell: Metric')\n",
        "  plt.ylabel('R2-Score')\n",
        "  plt.xlabel('Epoche')\n",
        "  plt.xlim([0,EPOCHS])\n",
        "  plt.ylim([min(history.history['val_r2_score'])-1,max(history.history['val_r2_score'])+1])\n",
        "  plt.legend(['train', 'val'], loc='upper left')\n",
        "  plt.show()"
      ],
      "metadata": {
        "id": "AN3kaJ4gQhJJ"
      },
      "execution_count": null,
      "outputs": []
    },
    {
      "cell_type": "markdown",
      "source": [
        "> Wir lassen uns den Plot für den MAE unseres Modells ausgeben. Für jede der 50 Epochen wird uns also der MAE einmal im Training und bei der Validierung geplottet."
      ],
      "metadata": {
        "id": "E_tyqI_TNj6w"
      }
    },
    {
      "cell_type": "code",
      "source": [
        "plot_loss(history)"
      ],
      "metadata": {
        "id": "T1xmaaZxGDM2"
      },
      "execution_count": null,
      "outputs": []
    },
    {
      "cell_type": "code",
      "source": [
        "plot_metric(history)"
      ],
      "metadata": {
        "id": "R2csttZDVDzQ"
      },
      "execution_count": null,
      "outputs": []
    },
    {
      "cell_type": "markdown",
      "source": [
        "> Hier erkennen wir sehr gut, wie der MAE sinkt und sich somit stetig verbessert, je mehr Epochen wir durchlaufen lassen. Würden wir die Epochen beispielweise verdoppeln auf 100, würde der MAE noch weiter sinken und sich vermutlich einem Wert von ~20€ annähren\n",
        "\n",
        "> Auch der $R^2$-Score wird über die Epochen hinweg immer besser indem er steigt und sich einem Grenzwert von ~0.5 annährt.\n",
        "\n",
        "> Während die Linie auf Basis der Trainingsdaten ruhig verläuft, weist die Linie der Validierungs- bzw. Testdaten deutliche Ausschläge auf.\n",
        "\n",
        "> Den MAE können wir anhand des Graphen vorerst nur abschätzen - er liegt gegen Ende bei ~23€.\n",
        "\n",
        "> Um den niedrigsten - also den optimalen - MAE herausfinden, möchten wir das Modell evaluieren. Da hier aufgrund der komplexeren Dimensionalität des MLP die `evaluate()`-Funktion nicht anwendbar ist, definieren wir eine neue Funktion, die uns nur den MAE und den $R^2$-Score ausgibt."
      ],
      "metadata": {
        "id": "eDAsFLfDLnq6"
      }
    },
    {
      "cell_type": "code",
      "source": [
        "def evaluate_mlp(model, X, y):\n",
        "    loss, r2 = model.evaluate(X, y, verbose=0)\n",
        "    print(\"Mean Absolute Error (MAE): {:.4f}\".format(loss))\n",
        "    print(\"R^2 Score: {:.4f}\".format(r2))"
      ],
      "metadata": {
        "id": "2evPPKcsRHg4"
      },
      "execution_count": null,
      "outputs": []
    },
    {
      "cell_type": "markdown",
      "source": [
        "> Mit den geschätzten ~23€ lagen wir nur knapp über dem tatsächlichen MAE von 22.77. Trotz des vergleichsweise niedrigen $R^2$-Scores von 54% weist unser Modell also schon eine recht gute Performance auf."
      ],
      "metadata": {
        "id": "016k2DulUfPE"
      }
    },
    {
      "cell_type": "code",
      "source": [
        "evaluate_mlp(model, X_test, y_test)"
      ],
      "metadata": {
        "id": "g3s3Ya_JRKhl"
      },
      "execution_count": null,
      "outputs": []
    },
    {
      "cell_type": "markdown",
      "source": [
        "> Wir möchten unsere Zielvariable auf Basis der Testdaten vorhersagen und gegen die tatsächlichen Werte visualisieren.\n",
        "\n",
        "> Hierfür speichern wir die y-Werte als `predictions` und definieren im nächsten Schritt unsere Funktion zur Visualisierung der Daten in einem Scatter Plot."
      ],
      "metadata": {
        "id": "WnS8JJz5Zope"
      }
    },
    {
      "cell_type": "code",
      "source": [
        "predictions = model.predict(X_test)"
      ],
      "metadata": {
        "id": "vu6yJYAKJgh6"
      },
      "execution_count": null,
      "outputs": []
    },
    {
      "cell_type": "code",
      "source": [
        "def plot_prediction(test_labels, test_predictions):\n",
        "  plt.figure()\n",
        "  plt.scatter(test_labels, test_predictions)\n",
        "  plt.xlabel('True Values')\n",
        "  plt.ylabel('Predictions')\n",
        "  plt.axis('equal')\n",
        "  plt.xlim([0, 400])\n",
        "  plt.ylim([0, 400])\n",
        "  _ = plt.plot([0, 400],[0,400])"
      ],
      "metadata": {
        "id": "ql070LzpQnYP"
      },
      "execution_count": null,
      "outputs": []
    },
    {
      "cell_type": "markdown",
      "source": [
        "> Wir lassen uns die tatsächlichen Werte als Punkte im Scatter Plot angeben, während die vorhergesagten Werte als Gerade dargestellt sind."
      ],
      "metadata": {
        "id": "h6EdfSQWaHwF"
      }
    },
    {
      "cell_type": "code",
      "source": [
        "plot_prediction(y_test, predictions)"
      ],
      "metadata": {
        "id": "4m0sfPVoQp0U"
      },
      "execution_count": null,
      "outputs": []
    },
    {
      "cell_type": "markdown",
      "source": [
        "### **Hyperparameter Tuning**"
      ],
      "metadata": {
        "id": "a4dC0hf1W91a"
      }
    },
    {
      "cell_type": "markdown",
      "source": [
        "> Um in unserem Modell ein Hyperparameter Tuning durchzuführen, verwenden wir die Library `keras_tuner`."
      ],
      "metadata": {
        "id": "cltsUBntKtU4"
      }
    },
    {
      "cell_type": "code",
      "source": [
        "!pip install keras_tuner\n",
        "import keras_tuner as kt"
      ],
      "metadata": {
        "id": "bPux3MrnW5UU"
      },
      "execution_count": null,
      "outputs": []
    },
    {
      "cell_type": "markdown",
      "source": [
        "> Wir definieren unsere Funktion `build_model()`, anhand derer verschiedene Modelle mit variierenden Parametereinstellungen gebaut und bewertet werden.\n",
        "\n",
        "> Wir entscheiden uns, durch die Aktivierungsfunktionen `relu()`, `sigmoid()` und `linear()` sowie die Anzahlen an Units von 42, 84 und 168 zu iterieren.\n",
        "\n",
        "> Anders als im vorherigen Keras Sequential Modell definieren wir hier zuerst das Modell und fügen dann einzeln unsere Layer hinzu."
      ],
      "metadata": {
        "id": "ZGgbM8cLK_rF"
      }
    },
    {
      "cell_type": "code",
      "source": [
        "def build_model(hp):\n",
        "    activation_function = hp.Choice('activation_function', ['relu', 'sigmoid', 'linear'])\n",
        "    units = hp.Choice('units', [42,84,168])\n",
        "\n",
        "    model = keras.models.Sequential()\n",
        "    model.add(keras.layers.Input(shape=(X_train.shape[1])))\n",
        "    model.add(keras.layers.Dense(units, activation=activation_function))\n",
        "    model.add(keras.layers.Dense(units, activation=activation_function))\n",
        "    model.add(keras.layers.Dense(1, activation='linear'))\n",
        "\n",
        "    model.compile(loss='mean_absolute_error',\n",
        "                  optimizer=Adam(),\n",
        "                  metrics=[r2_score])\n",
        "\n",
        "    return model"
      ],
      "metadata": {
        "id": "xJT3uFuheuQ7"
      },
      "execution_count": null,
      "outputs": []
    },
    {
      "cell_type": "markdown",
      "source": [
        "> Wir definieren als Tuner die `RandomSearch()`-Funktion. Das Ziel soll es, den Verlust, also den Mean Absolute Error, in unserem Modell zu optimieren/minimieren. Hierbei sollen maximal 20 Kombinationen an Hyperparametern getestet werden."
      ],
      "metadata": {
        "id": "J60z1jS9LxCE"
      }
    },
    {
      "cell_type": "code",
      "source": [
        "tuner = kt.RandomSearch(\n",
        "    build_model,\n",
        "    objective='val_loss',\n",
        "    max_trials=20, overwrite = True)"
      ],
      "metadata": {
        "id": "myxGQg-2a8fK"
      },
      "execution_count": null,
      "outputs": []
    },
    {
      "cell_type": "markdown",
      "source": [
        "> Wir suchen nach der Kombination an Hyprparameter, bei der unser Modell am besten performt. Wir arbeiten hier mit einer Anzahl an Epochen von 20."
      ],
      "metadata": {
        "id": "7i9cU4FHWOxC"
      }
    },
    {
      "cell_type": "code",
      "source": [
        "tuner.search(X_train, y_train, epochs=20, validation_data=(X_test, y_test))"
      ],
      "metadata": {
        "id": "9QwtwdFfe9Yl"
      },
      "execution_count": null,
      "outputs": []
    },
    {
      "cell_type": "markdown",
      "source": [
        "> Wir erkennen, dass die Aktivierungsfunktion `relu()` das beste Ergebnis erzeugt."
      ],
      "metadata": {
        "id": "RLgN2Aqlnv7J"
      }
    },
    {
      "cell_type": "code",
      "source": [
        "print(tuner.get_best_hyperparameters()[0].values)"
      ],
      "metadata": {
        "id": "W_Ya6T44fJz3"
      },
      "execution_count": null,
      "outputs": []
    },
    {
      "cell_type": "markdown",
      "source": [
        "> Wir definieren das beste der im HT getesteten Modelle als `best_model` und evalueren dieses im nächsten Schritt."
      ],
      "metadata": {
        "id": "OQPGA4b5n6lv"
      }
    },
    {
      "cell_type": "code",
      "source": [
        "best_model = tuner.get_best_models()[0]"
      ],
      "metadata": {
        "id": "Is82gYZAfObM"
      },
      "execution_count": null,
      "outputs": []
    },
    {
      "cell_type": "code",
      "source": [
        "evaluate_mlp(best_model, X_test, y_test)"
      ],
      "metadata": {
        "id": "32hd5vp-fSOJ"
      },
      "execution_count": null,
      "outputs": []
    },
    {
      "cell_type": "markdown",
      "source": [
        "> Leider hat sich die Performance unseres MLP-Modells nach dem Hyperparameter Tuning nicht verbessert, sonder minimal verschlechtert."
      ],
      "metadata": {
        "id": "CPfbLnVzfhz5"
      }
    },
    {
      "cell_type": "markdown",
      "source": [
        "> Auch eine Regression mithilfe von Convolutional Neural Networks (cnn) haben wir für die Analyse in Betracht gezogen. Diese eignet sich allerdings besonders für Daten mit räumlicher Struktur, wie beispielsweise Bilder oder Sequenzen. Für tabellarische numerische btw. kategoriale Daten eignen sich andere Modelle wie ein Multi-Layer Perceptron oder Decision Trees normalerweise besser. Da wir diese bereits durchgeführt haben, können wir auf die Regression mit cnn verzichten."
      ],
      "metadata": {
        "id": "bReObclkpHwi"
      }
    },
    {
      "cell_type": "markdown",
      "source": [
        "# **Recap der Regressionsmodelle**"
      ],
      "metadata": {
        "id": "dk25E8xy47Oz"
      }
    },
    {
      "cell_type": "markdown",
      "source": [
        "In diesem Notebook wollten wir die Frage 'Was wird zu einem spezifischen Zeitpunkt der Übernachtungspreis sein?' beantworten. Dafür haben wir verschiedene Regressionsmodelle angewandet und kamen zu folgenden Ergebnissen:"
      ],
      "metadata": {
        "id": "a2-XLNCVugF7"
      }
    },
    {
      "cell_type": "markdown",
      "metadata": {
        "id": "YY76q7BSR4mD"
      },
      "source": [
        "Ergebnisse der Classification-Modelle in der Übersicht:\n",
        "\n",
        "Modell | R2 | MAE\n",
        "-------------|--------------|--------------\n",
        "Dummy Regressor | -0.0004499 | 36.81\n",
        "Ordinary Least Squares| 0.42283 | 27.17\n",
        "Ridge Regression| 0.42283 | 27.17\n",
        "SVM | 0.39196 | 26.76\n",
        "Decision Tree | 0.37982 | 17.03\n",
        "Decision Tree Hyper | 0.43399 | 16.32\n",
        "Gradient Boosting | 0.64195 | 20.87\n",
        "Gradient Boosting Hyper | 0.78722 | 14.1\n",
        "XGB | 0.750916 | 15.7\n",
        "XGB Hyper | 0.79624 | 12.37\n",
        "MLP | 0.5400 | 22.77"
      ]
    },
    {
      "cell_type": "markdown",
      "source": [
        "Wir sehen eine deutliche Heteregonität der Ergebnisse, insbesondere im Vergleich zu der Klassifikation im letzten Notebook. Die beste Performance mit mit einem R2-Score von 0.79624 und einer mittleren absoluten Abweichung von 12.37 hatte der XG-Boost mit anschließendem Hyperparameter-Tuning. Hierbei ist zu beachten, dass die MAE von knapp 12,50€ bei einem durchschnittlichen Preis von ca. 100€ die Nacht, nicht gerade gering ist."
      ],
      "metadata": {
        "id": "m91onqQBvScJ"
      }
    },
    {
      "cell_type": "markdown",
      "source": [
        "Bei der Error Analysis ist aufgefallen, dass das Modell Schwierigkeiten hat, wenn Buchungen in 2017, oder in der Hochsaison getätigt worden (Sommermonate und höhere Temparaturen)."
      ],
      "metadata": {
        "id": "GwrOp6qVwFCd"
      }
    }
  ]
}